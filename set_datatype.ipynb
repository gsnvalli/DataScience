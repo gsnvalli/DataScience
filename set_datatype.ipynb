{
 "cells": [
  {
   "cell_type": "markdown",
   "id": "c2cb8e45-1e01-4cce-8dfc-5116edcaf1d2",
   "metadata": {},
   "source": [
    "# Set #"
   ]
  },
  {
   "cell_type": "markdown",
   "id": "3b5c99c8-f2ca-4211-b880-52e76ad3a779",
   "metadata": {},
   "source": [
    "- A set in python is a collection data type\n",
    "- **stores multiple** items in a single variable\n",
    "- is **Unoredered**(no index, no guaranteed order)\n",
    "- is **unindexed** (items dont have positions like tuples and list)\n",
    "- contains only **unique elements**(no duplicates)\n",
    "- is **Mutable**(you can add or remove elements)\n",
    "- can hold different data types\n",
    "- Set items are written with { }"
   ]
  },
  {
   "cell_type": "code",
   "execution_count": 150,
   "id": "364bec21-dfee-46c1-83d5-0bd8d236ac2a",
   "metadata": {},
   "outputs": [],
   "source": [
    "S={34,56,'python',56.78,4+8j}\n"
   ]
  },
  {
   "cell_type": "code",
   "execution_count": 151,
   "id": "b501acd6-538a-4fa3-a4a6-d084ba972032",
   "metadata": {},
   "outputs": [
    {
     "data": {
      "text/plain": [
       "set"
      ]
     },
     "execution_count": 151,
     "metadata": {},
     "output_type": "execute_result"
    }
   ],
   "source": [
    "type(S)"
   ]
  },
  {
   "cell_type": "code",
   "execution_count": 152,
   "id": "026d63dc-cfdf-4366-8946-c15ce2a5be30",
   "metadata": {},
   "outputs": [],
   "source": [
    "s={23,45,78,12,45}\n"
   ]
  },
  {
   "cell_type": "code",
   "execution_count": 153,
   "id": "1e6d3285-4f88-407a-96ec-642885933240",
   "metadata": {},
   "outputs": [
    {
     "data": {
      "text/plain": [
       "set"
      ]
     },
     "execution_count": 153,
     "metadata": {},
     "output_type": "execute_result"
    }
   ],
   "source": [
    "type(s)"
   ]
  },
  {
   "cell_type": "code",
   "execution_count": 154,
   "id": "bd2539b5-fec9-428e-adc1-c9f1745cf9ba",
   "metadata": {},
   "outputs": [],
   "source": [
    "setEx={'python','java','c','c++'}"
   ]
  },
  {
   "cell_type": "code",
   "execution_count": 155,
   "id": "fb975114-34e7-4841-9380-394a9a02ca7d",
   "metadata": {},
   "outputs": [
    {
     "data": {
      "text/plain": [
       "set"
      ]
     },
     "execution_count": 155,
     "metadata": {},
     "output_type": "execute_result"
    }
   ],
   "source": [
    "type(setEx)"
   ]
  },
  {
   "cell_type": "code",
   "execution_count": 161,
   "id": "35eaf410-85c9-4919-b5e1-af5b650db0f4",
   "metadata": {},
   "outputs": [],
   "source": [
    "# we can't guarantee the order/index \n",
    "#see the below example"
   ]
  },
  {
   "cell_type": "code",
   "execution_count": 156,
   "id": "4ae93a8f-8b32-4ba6-85c3-b4acb79fb8db",
   "metadata": {},
   "outputs": [],
   "source": [
    "S={34,56,'python',56.78,4+8j}"
   ]
  },
  {
   "cell_type": "code",
   "execution_count": 157,
   "id": "c6e18499-7211-4879-a2dc-a9274a6212f6",
   "metadata": {},
   "outputs": [
    {
     "name": "stdout",
     "output_type": "stream",
     "text": [
      "{34, 'python', 56, 56.78, (4+8j)}\n"
     ]
    }
   ],
   "source": [
    "print(S)"
   ]
  },
  {
   "cell_type": "code",
   "execution_count": 158,
   "id": "452bd842-735c-4473-a0b6-869070d2691d",
   "metadata": {},
   "outputs": [
    {
     "name": "stdout",
     "output_type": "stream",
     "text": [
      "{34, 'python', 56, 56.78, (4+8j)}\n"
     ]
    }
   ],
   "source": [
    "print(S)"
   ]
  },
  {
   "cell_type": "code",
   "execution_count": 159,
   "id": "ccb98f11-e78b-4bf1-8943-582422a44c9c",
   "metadata": {},
   "outputs": [
    {
     "name": "stdout",
     "output_type": "stream",
     "text": [
      "{34, 'python', 56, 56.78, (4+8j)}\n"
     ]
    }
   ],
   "source": [
    "print(S)"
   ]
  },
  {
   "cell_type": "code",
   "execution_count": 160,
   "id": "c0fe247b-eafe-4e4a-8d85-d90b55dddcc4",
   "metadata": {},
   "outputs": [
    {
     "data": {
      "text/plain": [
       "{(4+8j), 34, 56, 56.78, 'python'}"
      ]
     },
     "execution_count": 160,
     "metadata": {},
     "output_type": "execute_result"
    }
   ],
   "source": [
    "S"
   ]
  },
  {
   "cell_type": "code",
   "execution_count": 164,
   "id": "f5037dbd-d4a6-4cd8-85e2-dac5b7188951",
   "metadata": {},
   "outputs": [],
   "source": [
    "#creating an empty set"
   ]
  },
  {
   "cell_type": "code",
   "execution_count": 165,
   "id": "b5c8b859-9b6e-4fc6-8e7f-d77733de86ec",
   "metadata": {},
   "outputs": [],
   "source": [
    "S={} #we should n't as check the o/p below"
   ]
  },
  {
   "cell_type": "code",
   "execution_count": 167,
   "id": "2293acd2-d1dd-45d3-8109-a566fc3af106",
   "metadata": {},
   "outputs": [
    {
     "data": {
      "text/plain": [
       "dict"
      ]
     },
     "execution_count": 167,
     "metadata": {},
     "output_type": "execute_result"
    }
   ],
   "source": [
    "type(S)"
   ]
  },
  {
   "cell_type": "code",
   "execution_count": 168,
   "id": "cdc0f578-c958-4e63-ad42-41a1b4d71801",
   "metadata": {},
   "outputs": [],
   "source": [
    "S=set() # syntax for creating empty set"
   ]
  },
  {
   "cell_type": "code",
   "execution_count": 169,
   "id": "eb4adbcf-9f7a-4aa2-84e4-579b8e34fef4",
   "metadata": {},
   "outputs": [
    {
     "data": {
      "text/plain": [
       "set"
      ]
     },
     "execution_count": 169,
     "metadata": {},
     "output_type": "execute_result"
    }
   ],
   "source": [
    "type(S)"
   ]
  },
  {
   "cell_type": "code",
   "execution_count": 170,
   "id": "13f10812-c18b-4d5b-a9b9-5a60ef3224e2",
   "metadata": {},
   "outputs": [],
   "source": [
    "# duplicates not allowed"
   ]
  },
  {
   "cell_type": "code",
   "execution_count": 171,
   "id": "d6b2b781-6a3e-4ff9-8d4f-ccd745a22b59",
   "metadata": {},
   "outputs": [],
   "source": [
    "S={23,45,67,23,45,89,67,90}"
   ]
  },
  {
   "cell_type": "code",
   "execution_count": 172,
   "id": "1f052167-e382-4af0-8228-07d785df6218",
   "metadata": {},
   "outputs": [
    {
     "data": {
      "text/plain": [
       "{23, 45, 67, 89, 90}"
      ]
     },
     "execution_count": 172,
     "metadata": {},
     "output_type": "execute_result"
    }
   ],
   "source": [
    "S"
   ]
  },
  {
   "cell_type": "code",
   "execution_count": 173,
   "id": "fd580db9-afd1-4341-803c-941aa571c8c0",
   "metadata": {},
   "outputs": [],
   "source": [
    "# No arthametic operations allowes\n"
   ]
  },
  {
   "cell_type": "code",
   "execution_count": 174,
   "id": "7bffb8b8-1f9b-4346-bfc9-1686cb4fda57",
   "metadata": {},
   "outputs": [],
   "source": [
    "s1={23,45,78}\n",
    "s2={2,4,6}\n"
   ]
  },
  {
   "cell_type": "code",
   "execution_count": 175,
   "id": "c2684c1f-3840-4b68-af2d-1cf88028b63b",
   "metadata": {},
   "outputs": [
    {
     "ename": "TypeError",
     "evalue": "unsupported operand type(s) for +: 'set' and 'set'",
     "output_type": "error",
     "traceback": [
      "\u001b[1;31m---------------------------------------------------------------------------\u001b[0m",
      "\u001b[1;31mTypeError\u001b[0m                                 Traceback (most recent call last)",
      "Cell \u001b[1;32mIn[175], line 1\u001b[0m\n\u001b[1;32m----> 1\u001b[0m s1\u001b[38;5;241m+\u001b[39ms2\n",
      "\u001b[1;31mTypeError\u001b[0m: unsupported operand type(s) for +: 'set' and 'set'"
     ]
    }
   ],
   "source": [
    "s1+s2"
   ]
  },
  {
   "cell_type": "markdown",
   "id": "63695fd6-2fe2-452f-ab67-dccdd3ec9c8b",
   "metadata": {},
   "source": [
    "### set methods"
   ]
  },
  {
   "cell_type": "code",
   "execution_count": 194,
   "id": "e2e81a34-f16b-4175-9b8e-c31d05649d0e",
   "metadata": {},
   "outputs": [
    {
     "name": "stdout",
     "output_type": "stream",
     "text": [
      "Help on method_descriptor:\n",
      "\n",
      "intersection(self, /, *others) unbound builtins.set method\n",
      "    Return a new set with elements common to the set and all others.\n",
      "\n",
      "None\n"
     ]
    }
   ],
   "source": [
    "print(help(set.intersection))"
   ]
  },
  {
   "cell_type": "code",
   "execution_count": 221,
   "id": "587678f3-dc3c-4f44-9a08-71bbe515db08",
   "metadata": {},
   "outputs": [],
   "source": [
    "S1={23,56,78,24,90,89,45,34}"
   ]
  },
  {
   "cell_type": "code",
   "execution_count": 222,
   "id": "d6a2a73f-2342-4345-8f08-d64d0a0350f7",
   "metadata": {},
   "outputs": [],
   "source": [
    "S2={56,89,23,90,78,22,92}\n"
   ]
  },
  {
   "cell_type": "markdown",
   "id": "d9c98f99-b846-4a11-8204-ccb565aac80b",
   "metadata": {},
   "source": [
    "### intersection()"
   ]
  },
  {
   "cell_type": "code",
   "execution_count": 178,
   "id": "23239be6-70f9-4b6d-a872-a35f6bf1d522",
   "metadata": {},
   "outputs": [
    {
     "data": {
      "text/plain": [
       "{23, 78}"
      ]
     },
     "execution_count": 178,
     "metadata": {},
     "output_type": "execute_result"
    }
   ],
   "source": [
    "s1.intersection(S2)"
   ]
  },
  {
   "cell_type": "markdown",
   "id": "ac37cb17-62d0-4203-b17f-7025f8466972",
   "metadata": {},
   "source": [
    "### union() "
   ]
  },
  {
   "cell_type": "code",
   "execution_count": 195,
   "id": "822bd879-ffd0-4a4a-aa99-e0cf4b973444",
   "metadata": {},
   "outputs": [
    {
     "name": "stdout",
     "output_type": "stream",
     "text": [
      "Help on method_descriptor:\n",
      "\n",
      "union(self, /, *others) unbound builtins.set method\n",
      "    Return a new set with elements from the set and all others.\n",
      "\n",
      "None\n"
     ]
    }
   ],
   "source": [
    "print(help(set.union))"
   ]
  },
  {
   "cell_type": "code",
   "execution_count": 179,
   "id": "3fdc1bee-d1f6-48a4-8885-134c1e6db72a",
   "metadata": {},
   "outputs": [
    {
     "data": {
      "text/plain": [
       "{22, 23, 24, 34, 45, 56, 78, 89, 90, 92}"
      ]
     },
     "execution_count": 179,
     "metadata": {},
     "output_type": "execute_result"
    }
   ],
   "source": [
    "S1.union(S2)"
   ]
  },
  {
   "cell_type": "markdown",
   "id": "8d480807-d35e-4c74-af92-58a5a59848a7",
   "metadata": {},
   "source": [
    "### add()\n",
    "- for adding one element"
   ]
  },
  {
   "cell_type": "code",
   "execution_count": 196,
   "id": "db772e7a-5801-4a60-93b4-23fe4618ffc2",
   "metadata": {},
   "outputs": [
    {
     "name": "stdout",
     "output_type": "stream",
     "text": [
      "Help on method_descriptor:\n",
      "\n",
      "add(self, object, /) unbound builtins.set method\n",
      "    Add an element to a set.\n",
      "\n",
      "    This has no effect if the element is already present.\n",
      "\n",
      "None\n"
     ]
    }
   ],
   "source": [
    "print(help(set.add))"
   ]
  },
  {
   "cell_type": "code",
   "execution_count": 199,
   "id": "1cb8cd78-2ad7-4f7f-a23c-cd3c24d97393",
   "metadata": {},
   "outputs": [],
   "source": [
    "S1.add(345)\n"
   ]
  },
  {
   "cell_type": "code",
   "execution_count": 200,
   "id": "9f6e518a-ae21-43ea-a7c5-2e10e17a3c10",
   "metadata": {},
   "outputs": [
    {
     "data": {
      "text/plain": [
       "{23, 24, 45, 56, 78, 89, 90, 345, 1000, 4555}"
      ]
     },
     "execution_count": 200,
     "metadata": {},
     "output_type": "execute_result"
    }
   ],
   "source": [
    "S1"
   ]
  },
  {
   "cell_type": "code",
   "execution_count": 217,
   "id": "f2164b93-52e5-43eb-9747-9828cf9b2025",
   "metadata": {},
   "outputs": [],
   "source": [
    "S1.add('python')"
   ]
  },
  {
   "cell_type": "code",
   "execution_count": 218,
   "id": "affbae95-de15-4415-9b3f-228aa428841a",
   "metadata": {},
   "outputs": [
    {
     "data": {
      "text/plain": [
       "{43, 45, 74, 78, 96, 'python'}"
      ]
     },
     "execution_count": 218,
     "metadata": {},
     "output_type": "execute_result"
    }
   ],
   "source": [
    "S1"
   ]
  },
  {
   "cell_type": "markdown",
   "id": "64f214e6-4c65-4d4a-848e-fd5cabb48c6d",
   "metadata": {},
   "source": [
    "# update()\n",
    "- for adding multiple items to set"
   ]
  },
  {
   "cell_type": "code",
   "execution_count": 197,
   "id": "f810752f-1648-4b13-a02f-71ad4eed8424",
   "metadata": {},
   "outputs": [
    {
     "name": "stdout",
     "output_type": "stream",
     "text": [
      "Help on method_descriptor:\n",
      "\n",
      "update(self, /, *others) unbound builtins.set method\n",
      "    Update the set, adding elements from all others.\n",
      "\n",
      "None\n"
     ]
    }
   ],
   "source": [
    "print(help(set.update))"
   ]
  },
  {
   "cell_type": "code",
   "execution_count": 219,
   "id": "371b9a2a-70ae-4394-b3b5-1af4241ed231",
   "metadata": {},
   "outputs": [],
   "source": [
    "S1.update((1000,50))"
   ]
  },
  {
   "cell_type": "code",
   "execution_count": 220,
   "id": "05917803-a728-40f1-87be-011beff8dbf2",
   "metadata": {},
   "outputs": [
    {
     "data": {
      "text/plain": [
       "{1000, 43, 45, 50, 74, 78, 96, 'python'}"
      ]
     },
     "execution_count": 220,
     "metadata": {},
     "output_type": "execute_result"
    }
   ],
   "source": [
    "S1"
   ]
  },
  {
   "cell_type": "code",
   "execution_count": 182,
   "id": "78ae60f1-21b2-4edd-b42c-11c3debae405",
   "metadata": {},
   "outputs": [],
   "source": [
    "S1.update([1000,2345,4555])"
   ]
  },
  {
   "cell_type": "code",
   "execution_count": 183,
   "id": "e1de36f3-83e2-42ef-b454-10063f7b6372",
   "metadata": {},
   "outputs": [
    {
     "data": {
      "text/plain": [
       "{23, 24, 34, 45, 56, 78, 89, 90, 345, 1000, 2345, 4555}"
      ]
     },
     "execution_count": 183,
     "metadata": {},
     "output_type": "execute_result"
    }
   ],
   "source": [
    "S1\n"
   ]
  },
  {
   "cell_type": "code",
   "execution_count": 226,
   "id": "7e3f5b44-c252-418b-baa3-b4cda6ccdae0",
   "metadata": {},
   "outputs": [],
   "source": [
    "s1.update((25,34))"
   ]
  },
  {
   "cell_type": "code",
   "execution_count": 227,
   "id": "6296946a-4822-404b-9e1b-35f772923048",
   "metadata": {},
   "outputs": [
    {
     "data": {
      "text/plain": [
       "{23, 25, 34, 45, 78}"
      ]
     },
     "execution_count": 227,
     "metadata": {},
     "output_type": "execute_result"
    }
   ],
   "source": [
    "s1"
   ]
  },
  {
   "cell_type": "markdown",
   "id": "88f3f23d-9df0-4d73-b496-cc66be00f72e",
   "metadata": {},
   "source": [
    "### remove()"
   ]
  },
  {
   "cell_type": "code",
   "execution_count": 214,
   "id": "528a3af1-ad6b-485c-80ec-393e0dea4a72",
   "metadata": {},
   "outputs": [
    {
     "name": "stdout",
     "output_type": "stream",
     "text": [
      "Help on method_descriptor:\n",
      "\n",
      "remove(self, object, /) unbound builtins.set method\n",
      "    Remove an element from a set; it must be a member.\n",
      "\n",
      "    If the element is not a member, raise a KeyError.\n",
      "\n",
      "None\n"
     ]
    }
   ],
   "source": [
    "print(help(set.remove))"
   ]
  },
  {
   "cell_type": "code",
   "execution_count": 184,
   "id": "3b88bd03-e2e3-472d-b913-05cbc5f00067",
   "metadata": {},
   "outputs": [],
   "source": [
    "S1.remove(2345)"
   ]
  },
  {
   "cell_type": "code",
   "execution_count": 185,
   "id": "332e7525-33a9-4691-9953-cd581cedd6e9",
   "metadata": {},
   "outputs": [
    {
     "data": {
      "text/plain": [
       "{23, 24, 34, 45, 56, 78, 89, 90, 345, 1000, 4555}"
      ]
     },
     "execution_count": 185,
     "metadata": {},
     "output_type": "execute_result"
    }
   ],
   "source": [
    "S1"
   ]
  },
  {
   "cell_type": "code",
   "execution_count": 186,
   "id": "01afb518-bd97-42ed-bd81-3cefcf75f4ed",
   "metadata": {},
   "outputs": [
    {
     "ename": "KeyError",
     "evalue": "20",
     "output_type": "error",
     "traceback": [
      "\u001b[1;31m---------------------------------------------------------------------------\u001b[0m",
      "\u001b[1;31mKeyError\u001b[0m                                  Traceback (most recent call last)",
      "Cell \u001b[1;32mIn[186], line 1\u001b[0m\n\u001b[1;32m----> 1\u001b[0m S1\u001b[38;5;241m.\u001b[39mremove(\u001b[38;5;241m20\u001b[39m)\n",
      "\u001b[1;31mKeyError\u001b[0m: 20"
     ]
    }
   ],
   "source": [
    "S1.remove(20)"
   ]
  },
  {
   "cell_type": "markdown",
   "id": "6e172d76-ca8a-419c-a05c-5f6c806c43b7",
   "metadata": {},
   "source": [
    "## discard()"
   ]
  },
  {
   "cell_type": "code",
   "execution_count": 213,
   "id": "2d151dc3-d322-44bc-a3a3-577012c02c4b",
   "metadata": {},
   "outputs": [
    {
     "name": "stdout",
     "output_type": "stream",
     "text": [
      "Help on method_descriptor:\n",
      "\n",
      "discard(self, object, /) unbound builtins.set method\n",
      "    Remove an element from a set if it is a member.\n",
      "\n",
      "    Unlike set.remove(), the discard() method does not raise\n",
      "    an exception when an element is missing from the set.\n",
      "\n",
      "None\n"
     ]
    }
   ],
   "source": [
    "print(help(set.discard))"
   ]
  },
  {
   "cell_type": "code",
   "execution_count": null,
   "id": "f92e008c-d356-4a3a-9d32-6f12f2218872",
   "metadata": {},
   "outputs": [],
   "source": [
    "S1.discard(345)"
   ]
  },
  {
   "cell_type": "code",
   "execution_count": 189,
   "id": "3f9d6548-c4ae-4bd9-8c55-a75acdff8e6e",
   "metadata": {},
   "outputs": [
    {
     "data": {
      "text/plain": [
       "{23, 24, 34, 45, 56, 78, 89, 90, 1000, 4555}"
      ]
     },
     "execution_count": 189,
     "metadata": {},
     "output_type": "execute_result"
    }
   ],
   "source": [
    "S1"
   ]
  },
  {
   "cell_type": "code",
   "execution_count": 190,
   "id": "4948972b-09d4-45c7-997b-f4507790a34b",
   "metadata": {},
   "outputs": [],
   "source": [
    "S1.discard(1234)"
   ]
  },
  {
   "cell_type": "code",
   "execution_count": 191,
   "id": "eac80dc0-b2c2-41b7-ba3b-14416f8d0185",
   "metadata": {},
   "outputs": [
    {
     "data": {
      "text/plain": [
       "{23, 24, 34, 45, 56, 78, 89, 90, 1000, 4555}"
      ]
     },
     "execution_count": 191,
     "metadata": {},
     "output_type": "execute_result"
    }
   ],
   "source": [
    "S1"
   ]
  },
  {
   "cell_type": "code",
   "execution_count": 192,
   "id": "384f8536-dae5-488d-8192-8281a7a62245",
   "metadata": {},
   "outputs": [],
   "source": [
    "#in the above ex discard don't throw error even though it doesn't the value"
   ]
  },
  {
   "cell_type": "markdown",
   "id": "fc40cc40-691d-4c1d-844c-3118ec04adcd",
   "metadata": {},
   "source": [
    "## pop()"
   ]
  },
  {
   "cell_type": "code",
   "execution_count": 212,
   "id": "843fde67-3aed-44e5-9dab-97fe072c9776",
   "metadata": {},
   "outputs": [
    {
     "name": "stdout",
     "output_type": "stream",
     "text": [
      "Help on method_descriptor:\n",
      "\n",
      "pop(self, /) unbound builtins.set method\n",
      "    Remove and return an arbitrary set element.\n",
      "\n",
      "    Raises KeyError if the set is empty.\n",
      "\n",
      "None\n"
     ]
    }
   ],
   "source": [
    "print(help(set.pop))"
   ]
  },
  {
   "cell_type": "code",
   "execution_count": 193,
   "id": "c08c6b3d-9074-4214-94db-0d5d84353927",
   "metadata": {},
   "outputs": [
    {
     "data": {
      "text/plain": [
       "34"
      ]
     },
     "execution_count": 193,
     "metadata": {},
     "output_type": "execute_result"
    }
   ],
   "source": [
    "S1.pop()"
   ]
  },
  {
   "cell_type": "markdown",
   "id": "ad92c07a-a909-4190-8de5-e2dd6e1109c3",
   "metadata": {},
   "source": [
    "## intersection and difference"
   ]
  },
  {
   "cell_type": "code",
   "execution_count": 215,
   "id": "1745dc5b-cd1b-452c-a5cc-c381bf8cf5af",
   "metadata": {},
   "outputs": [
    {
     "name": "stdout",
     "output_type": "stream",
     "text": [
      "Help on method_descriptor:\n",
      "\n",
      "difference(self, /, *others) unbound builtins.set method\n",
      "    Return a new set with elements in the set that are not in the others.\n",
      "\n",
      "None\n"
     ]
    }
   ],
   "source": [
    "print(help(set.difference))"
   ]
  },
  {
   "cell_type": "code",
   "execution_count": 201,
   "id": "6dc02f29-01e0-4225-819a-545b9009484a",
   "metadata": {},
   "outputs": [],
   "source": [
    "S1={23,56,78,24,90,89,45,34}\n",
    "S2={56,89,23,90,78,22,92,12}"
   ]
  },
  {
   "cell_type": "code",
   "execution_count": 202,
   "id": "86c371fc-b7ea-48ab-9b50-5ad58a3e5b26",
   "metadata": {},
   "outputs": [
    {
     "data": {
      "text/plain": [
       "{23, 56, 78, 89, 90}"
      ]
     },
     "execution_count": 202,
     "metadata": {},
     "output_type": "execute_result"
    }
   ],
   "source": [
    "S1.intersection(S2)"
   ]
  },
  {
   "cell_type": "code",
   "execution_count": 203,
   "id": "5535e520-ca87-46c9-b641-a3c604dbad83",
   "metadata": {},
   "outputs": [
    {
     "data": {
      "text/plain": [
       "{24, 34, 45}"
      ]
     },
     "execution_count": 203,
     "metadata": {},
     "output_type": "execute_result"
    }
   ],
   "source": [
    "S1.difference(S2)"
   ]
  },
  {
   "cell_type": "code",
   "execution_count": 204,
   "id": "02f1f982-8963-410f-b5bb-64f95490fd8f",
   "metadata": {},
   "outputs": [
    {
     "data": {
      "text/plain": [
       "{12, 22, 92}"
      ]
     },
     "execution_count": 204,
     "metadata": {},
     "output_type": "execute_result"
    }
   ],
   "source": [
    "S2.difference(S1)"
   ]
  },
  {
   "cell_type": "markdown",
   "id": "05e6319b-f3ad-4b3b-87d2-622139db9b70",
   "metadata": {},
   "source": [
    "### issubset & issuperset"
   ]
  },
  {
   "cell_type": "code",
   "execution_count": 210,
   "id": "e200639b-5331-4852-a67c-d470ac0e10e4",
   "metadata": {},
   "outputs": [
    {
     "name": "stdout",
     "output_type": "stream",
     "text": [
      "Help on method_descriptor:\n",
      "\n",
      "issubset(self, other, /) unbound builtins.set method\n",
      "    Report whether another set contains this set.\n",
      "\n",
      "None\n"
     ]
    }
   ],
   "source": [
    "print(help(set.issubset))"
   ]
  },
  {
   "cell_type": "code",
   "execution_count": 211,
   "id": "0ed669e9-3963-4946-9286-9746b09e3f92",
   "metadata": {},
   "outputs": [
    {
     "name": "stdout",
     "output_type": "stream",
     "text": [
      "Help on method_descriptor:\n",
      "\n",
      "issuperset(self, other, /) unbound builtins.set method\n",
      "    Report whether this set contains another set.\n",
      "\n",
      "None\n"
     ]
    }
   ],
   "source": [
    "print(help(set.issuperset))"
   ]
  },
  {
   "cell_type": "code",
   "execution_count": 207,
   "id": "bf3bbeba-7b58-4cdf-99d4-895ebd500b31",
   "metadata": {},
   "outputs": [],
   "source": [
    "S1={45,78,96,74,43}\n",
    "S2={78,96}"
   ]
  },
  {
   "cell_type": "code",
   "execution_count": 208,
   "id": "1e19a3b1-67bb-47f1-962d-a76699cb1430",
   "metadata": {},
   "outputs": [
    {
     "data": {
      "text/plain": [
       "False"
      ]
     },
     "execution_count": 208,
     "metadata": {},
     "output_type": "execute_result"
    }
   ],
   "source": [
    "S1.issubset(S2)"
   ]
  },
  {
   "cell_type": "code",
   "execution_count": 209,
   "id": "866477a4-f1fe-4ca5-af94-67caeac11fee",
   "metadata": {},
   "outputs": [
    {
     "data": {
      "text/plain": [
       "True"
      ]
     },
     "execution_count": 209,
     "metadata": {},
     "output_type": "execute_result"
    }
   ],
   "source": [
    "S1.issuperset(S2)"
   ]
  },
  {
   "cell_type": "markdown",
   "id": "9ff782fc-c3ac-4af7-bf4b-6fb7d5c57af5",
   "metadata": {},
   "source": [
    "### symmetric_difference() \n",
    "#### syntax eg: A^B ####"
   ]
  },
  {
   "cell_type": "code",
   "execution_count": 228,
   "id": "92f2f193-6224-4c13-bc00-0ac00fe8a5fc",
   "metadata": {},
   "outputs": [],
   "source": [
    "A={1,2,3,5,7,9}\n",
    "B={2,6,7}"
   ]
  },
  {
   "cell_type": "code",
   "execution_count": 230,
   "id": "cbee90a9-0ee2-45bb-a337-084c8db48c5e",
   "metadata": {},
   "outputs": [
    {
     "data": {
      "text/plain": [
       "{1, 3, 5, 6, 9}"
      ]
     },
     "execution_count": 230,
     "metadata": {},
     "output_type": "execute_result"
    }
   ],
   "source": [
    "A.symmetric_difference(B) #removes intersection of A&B and gives the elemnts in both A,B"
   ]
  },
  {
   "cell_type": "markdown",
   "id": "190b1db3-fc04-482f-a90c-5b8af5fe438a",
   "metadata": {},
   "source": [
    "### isdisjoint()"
   ]
  },
  {
   "cell_type": "code",
   "execution_count": 231,
   "id": "5dd1c6de-8b6a-4e02-8b95-1aff3b95ab4a",
   "metadata": {},
   "outputs": [],
   "source": [
    "setA={1,2,45,6,89}\n",
    "setB={45,35,85}"
   ]
  },
  {
   "cell_type": "code",
   "execution_count": 232,
   "id": "fb522dc7-b3ad-46c2-bb1d-f3b83a51a93e",
   "metadata": {},
   "outputs": [],
   "source": [
    "#if A intersectiom of B is null then I can say that A and BB are dijoint sets"
   ]
  },
  {
   "cell_type": "code",
   "execution_count": 233,
   "id": "5d7c5a6e-9932-468c-bd4e-0dee95892d22",
   "metadata": {},
   "outputs": [
    {
     "data": {
      "text/plain": [
       "False"
      ]
     },
     "execution_count": 233,
     "metadata": {},
     "output_type": "execute_result"
    }
   ],
   "source": [
    "setA.isdisjoint(setB)"
   ]
  },
  {
   "cell_type": "code",
   "execution_count": 234,
   "id": "af8ebb33-1b18-4e4e-bc8d-2173815fde73",
   "metadata": {},
   "outputs": [],
   "source": [
    "setC={45,35,85}"
   ]
  },
  {
   "cell_type": "code",
   "execution_count": 236,
   "id": "f17fe0fe-7b05-438a-aaf6-737304514be2",
   "metadata": {},
   "outputs": [
    {
     "data": {
      "text/plain": [
       "False"
      ]
     },
     "execution_count": 236,
     "metadata": {},
     "output_type": "execute_result"
    }
   ],
   "source": [
    "setB.isdisjoint(setC)"
   ]
  },
  {
   "cell_type": "code",
   "execution_count": 237,
   "id": "819b7ea5-4399-4649-879d-434958c0a846",
   "metadata": {},
   "outputs": [
    {
     "data": {
      "text/plain": [
       "{35, 45, 85}"
      ]
     },
     "execution_count": 237,
     "metadata": {},
     "output_type": "execute_result"
    }
   ],
   "source": [
    "setB.intersection(setC)"
   ]
  },
  {
   "cell_type": "code",
   "execution_count": 238,
   "id": "896a1d8e-c8a0-44be-986f-7aad987b7b07",
   "metadata": {},
   "outputs": [],
   "source": [
    "setD={1,2,3}"
   ]
  },
  {
   "cell_type": "code",
   "execution_count": 239,
   "id": "64480f4e-f6e5-417e-bbc2-f7ef6e0deba2",
   "metadata": {},
   "outputs": [
    {
     "data": {
      "text/plain": [
       "True"
      ]
     },
     "execution_count": 239,
     "metadata": {},
     "output_type": "execute_result"
    }
   ],
   "source": [
    "setB.isdisjoint(setD)"
   ]
  },
  {
   "cell_type": "code",
   "execution_count": 240,
   "id": "28c67e80-5f44-4077-bc25-80e1d72282b0",
   "metadata": {},
   "outputs": [
    {
     "data": {
      "text/plain": [
       "set()"
      ]
     },
     "execution_count": 240,
     "metadata": {},
     "output_type": "execute_result"
    }
   ],
   "source": [
    "setB.intersection(setD)"
   ]
  },
  {
   "cell_type": "code",
   "execution_count": null,
   "id": "ba14c9b3-28c7-4844-989d-932d9602e7c1",
   "metadata": {},
   "outputs": [],
   "source": [
    "setD."
   ]
  }
 ],
 "metadata": {
  "kernelspec": {
   "display_name": "Python [conda env:base] *",
   "language": "python",
   "name": "conda-base-py"
  },
  "language_info": {
   "codemirror_mode": {
    "name": "ipython",
    "version": 3
   },
   "file_extension": ".py",
   "mimetype": "text/x-python",
   "name": "python",
   "nbconvert_exporter": "python",
   "pygments_lexer": "ipython3",
   "version": "3.13.5"
  }
 },
 "nbformat": 4,
 "nbformat_minor": 5
}
