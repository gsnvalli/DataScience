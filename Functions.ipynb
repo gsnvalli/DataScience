{
 "cells": [
  {
   "cell_type": "markdown",
   "id": "482bc3be-93c6-4535-a31e-c0de6b86c2b3",
   "metadata": {},
   "source": [
    "### Functions\n",
    "- Blocks of statements that does a specific task\n",
    "- we perform repetitive tsks\n",
    "- we reuse the code using function calls\n",
    "## Functiom Definition\n",
    "we use **def** keywoed\n",
    "#### syntax:\n",
    "def function_name(parameters):\n",
    "statements of blocks"
   ]
  },
  {
   "cell_type": "code",
   "execution_count": 1,
   "id": "a1c14768-4872-449e-ae62-2f1c8851b7fb",
   "metadata": {},
   "outputs": [
    {
     "name": "stdout",
     "output_type": "stream",
     "text": [
      "python functions\n"
     ]
    }
   ],
   "source": [
    "def fun():\n",
    "    print(\"python functions\")\n",
    "fun()"
   ]
  },
  {
   "cell_type": "markdown",
   "id": "3bdcd3fc-4dc8-4ab0-934a-42d0a2e8c31c",
   "metadata": {},
   "source": [
    "##### Function Arguments"
   ]
  },
  {
   "cell_type": "code",
   "execution_count": 4,
   "id": "f0a96afb-a361-4ef1-a3f2-3aaec47032e8",
   "metadata": {},
   "outputs": [
    {
     "name": "stdout",
     "output_type": "stream",
     "text": [
      "Even\n",
      "odd\n"
     ]
    }
   ],
   "source": [
    "def evenOdd(x):\n",
    "    if(x%2==0):\n",
    "        return \"Even\"\n",
    "    else:\n",
    "        return \"odd\"\n",
    "print(evenOdd(16))\n",
    "print(evenOdd(7))"
   ]
  },
  {
   "cell_type": "markdown",
   "id": "7e69f806-869b-4b47-ab59-fd077f87855b",
   "metadata": {},
   "source": [
    "#### Types of Function Arguments\n",
    "- **Default arguments**: assumes a default value in case it is not specified in the function call\n",
    "- **keyword Arguments**: values are passed specifying parameter name\n",
    "- -**Positional Arguments**:values are assigned to parameters based on their order\n",
    "- **Arbitary arguments**:pass variable no of arguments to the function using special symbols\n",
    "\n",
    "1 *args\n",
    "  \n",
    "2 **kwargs"
   ]
  },
  {
   "cell_type": "code",
   "execution_count": 5,
   "id": "c0a4bc09-d84a-44b1-81d6-a9b18220998a",
   "metadata": {},
   "outputs": [
    {
     "name": "stdout",
     "output_type": "stream",
     "text": [
      "x: 10\n",
      "y: 50\n"
     ]
    }
   ],
   "source": [
    "def fun(x,y=50):\n",
    "    print(\"x:\",x)\n",
    "    print(\"y:\",y)\n",
    "fun(10)"
   ]
  },
  {
   "cell_type": "code",
   "execution_count": 6,
   "id": "02849285-2f3e-4e86-9f38-0053e2566964",
   "metadata": {},
   "outputs": [
    {
     "name": "stdout",
     "output_type": "stream",
     "text": [
      "python program\n",
      "valli Reddy\n"
     ]
    }
   ],
   "source": [
    "def students(fname,lname):\n",
    "    print(fname,lname)\n",
    "students(fname=\"python\",lname=\"program\")\n",
    "students(lname=\"Reddy\",fname=\"valli\")"
   ]
  },
  {
   "cell_type": "code",
   "execution_count": 7,
   "id": "bfcf3f29-24cc-4db3-9a31-e7ef98b8c129",
   "metadata": {},
   "outputs": [
    {
     "name": "stdout",
     "output_type": "stream",
     "text": [
      "Hi I am  Suraj\n",
      "my age is : 27\n",
      "Hi I am  27\n",
      "my age is : Suraj\n"
     ]
    }
   ],
   "source": [
    "def nameAge(name,age):\n",
    "    print(\"Hi I am \",name)\n",
    "    print(\"my age is :\",age)\n",
    "nameAge(\"Suraj\",27)\n",
    "nameAge(27,\"Suraj\")"
   ]
  },
  {
   "cell_type": "code",
   "execution_count": 12,
   "id": "df0c81b6-087f-48e8-833b-b196fd7f4232",
   "metadata": {},
   "outputs": [
    {
     "name": "stdout",
     "output_type": "stream",
     "text": [
      "nonkeyword:\n",
      "Hey\n",
      "Hello\n",
      "first==python\n",
      "mid==For\n",
      "last==Datascience\n"
     ]
    }
   ],
   "source": [
    "def fun(*args,**kwargs):\n",
    "    print(\"nonkeyword:\")\n",
    "    for arg in args:\n",
    "        print(arg)\n",
    "    for key,value in kwargs.items():\n",
    "        print(f\"{key}=={value}\")\n",
    "fun(\"Hey\",\"Hello\",first=\"python\",mid=\"For\",last=\"Datascience\")"
   ]
  },
  {
   "cell_type": "markdown",
   "id": "47887d04-35c3-4459-ba81-90fbbfde9941",
   "metadata": {},
   "source": [
    "### Nested Functions\n",
    "-Functions inside function"
   ]
  },
  {
   "cell_type": "code",
   "execution_count": 14,
   "id": "ace37891-ebae-46cd-aa8c-6f80684cf0fd",
   "metadata": {},
   "outputs": [
    {
     "name": "stdout",
     "output_type": "stream",
     "text": [
      "I love coding:\n"
     ]
    }
   ],
   "source": [
    "def fun1():\n",
    "    s=\"I love coding:\"\n",
    "    def fun2():\n",
    "        print(s)\n",
    "    fun2()\n",
    "fun1()"
   ]
  },
  {
   "cell_type": "markdown",
   "id": "46d75487-d5bb-40a9-bc7e-f0f89b2ac886",
   "metadata": {},
   "source": [
    "### Lambda functions\n",
    "- define the funtion **without def keyword**\n",
    "**Syntax**\n",
    "\n",
    "lambda arguments:expression"
   ]
  },
  {
   "cell_type": "code",
   "execution_count": 16,
   "id": "d856bfd8-396d-4ce5-badd-2d1f9670db10",
   "metadata": {},
   "outputs": [
    {
     "name": "stdout",
     "output_type": "stream",
     "text": [
      "25\n"
     ]
    }
   ],
   "source": [
    "square=lambda x:x*x\n",
    "print(square(5))\n"
   ]
  },
  {
   "cell_type": "code",
   "execution_count": 32,
   "id": "60699394-3b3e-4aa4-bd34-73a343bb765d",
   "metadata": {},
   "outputs": [
    {
     "data": {
      "text/plain": [
       "25"
      ]
     },
     "execution_count": 32,
     "metadata": {},
     "output_type": "execute_result"
    }
   ],
   "source": [
    "#normal function without lambda\n",
    "def square(x):\n",
    "    return x*x\n",
    "square(5)"
   ]
  },
  {
   "cell_type": "code",
   "execution_count": 21,
   "id": "8bf2e9a1-797b-4885-be4b-9fa2edcdd319",
   "metadata": {},
   "outputs": [
    {
     "name": "stdout",
     "output_type": "stream",
     "text": [
      "12\n"
     ]
    }
   ],
   "source": [
    "max_num=lambda a,b:a if a>b else b\n",
    "print((max_num(8,12)))"
   ]
  },
  {
   "cell_type": "code",
   "execution_count": 23,
   "id": "89051c88-f63d-4963-905a-71326f9c0d3c",
   "metadata": {},
   "outputs": [
    {
     "name": "stdout",
     "output_type": "stream",
     "text": [
      "[('shaima', 85), ('Tejasei', 90), ('shailaja', 100)]\n"
     ]
    }
   ],
   "source": [
    "students=[(\"Tejasei\",90),(\"shailaja\",100),(\"shaima\",85)]\n",
    "students.sort(key=lambda x:x[1])\n",
    "print(students)"
   ]
  },
  {
   "cell_type": "code",
   "execution_count": 31,
   "id": "68304343-22a9-4965-8650-b745d454a4cd",
   "metadata": {},
   "outputs": [
    {
     "name": "stdout",
     "output_type": "stream",
     "text": [
      "24\n"
     ]
    }
   ],
   "source": [
    "#1*2*3*4*5*6=6!\n",
    "def factorial(n):\n",
    "    if(n==0): #basecase 0!=1\n",
    "        return 1\n",
    "    else:\n",
    "        return n*factorial(n-1)\n",
    "print(factorial(4))\n",
    "    "
   ]
  },
  {
   "cell_type": "markdown",
   "id": "29f14821-78d2-4c26-a3eb-443219f84def",
   "metadata": {},
   "source": [
    "### for above code the recursion will be below\n",
    "factorial(4)\n",
    "\n",
    "= 4 * factorial(3)\n",
    "\n",
    "= 4 * (3 * factorial(2))\n",
    "\n",
    "= 4 * (3 * (2 * factorial(1)))\n",
    "\n",
    "= 4 * 3 * 2 * 1\n",
    "\n",
    "= 24"
   ]
  },
  {
   "cell_type": "markdown",
   "id": "b738a389-4111-4069-b936-c94b59c22ae9",
   "metadata": {},
   "source": [
    "### print Name N time"
   ]
  },
  {
   "cell_type": "code",
   "execution_count": 24,
   "id": "274fc1cb-0e01-4076-9dee-4ed839f7a619",
   "metadata": {},
   "outputs": [
    {
     "name": "stdout",
     "output_type": "stream",
     "text": [
      "valli\n",
      "valli\n",
      "valli\n",
      "valli\n",
      "valli\n",
      "valli\n"
     ]
    }
   ],
   "source": [
    "#Normal approach\n",
    "def print_name(name,n):\n",
    "    for i in range(n):\n",
    "        print(name)\n",
    "print_name(\"valli\",6)"
   ]
  },
  {
   "cell_type": "code",
   "execution_count": 25,
   "id": "7a34f6c0-f11a-44ca-a0ef-1ae40d834aeb",
   "metadata": {},
   "outputs": [
    {
     "name": "stdout",
     "output_type": "stream",
     "text": [
      "valli\n",
      "valli\n",
      "valli\n",
      "valli\n",
      "valli\n"
     ]
    }
   ],
   "source": [
    "#recursive approach\n",
    "def print_name_rec(name,n,i=1):\n",
    "    if i>n:\n",
    "        return\n",
    "    print(name)\n",
    "    print_name_rec(name,n,i+1)\n",
    "print_name_rec(\"valli\",5)\n",
    "    "
   ]
  },
  {
   "cell_type": "code",
   "execution_count": 27,
   "id": "a30320c3-fe8b-4659-9cb9-d04097c09a5b",
   "metadata": {},
   "outputs": [
    {
     "name": "stdout",
     "output_type": "stream",
     "text": [
      "1\n",
      "2\n",
      "3\n",
      "4\n",
      "5\n",
      "6\n",
      "7\n",
      "8\n",
      "9\n",
      "10\n"
     ]
    }
   ],
   "source": [
    "def print_numbers(n):\n",
    "    for i in range(1,n+1):\n",
    "        print(i)\n",
    "print_numbers(10)"
   ]
  },
  {
   "cell_type": "code",
   "execution_count": 28,
   "id": "1a61074d-45de-4f97-8a27-0eb282d87796",
   "metadata": {},
   "outputs": [
    {
     "name": "stdout",
     "output_type": "stream",
     "text": [
      "1\n",
      "2\n",
      "3\n",
      "4\n",
      "5\n",
      "6\n",
      "7\n",
      "8\n",
      "9\n",
      "10\n"
     ]
    }
   ],
   "source": [
    "#recursive approach\n",
    "def print_numbers_rec(i,n):\n",
    "    if i>n:\n",
    "        return\n",
    "    print(i)\n",
    "    print_numbers_rec(i+1,n)\n",
    "print_numbers_rec(1,10)"
   ]
  },
  {
   "cell_type": "markdown",
   "id": "6aef881f-d965-48b3-afaf-740843860e68",
   "metadata": {},
   "source": [
    "##### print numbers in reverse"
   ]
  },
  {
   "cell_type": "code",
   "execution_count": 33,
   "id": "b5e1eaf3-e39b-4c69-9a94-58a24ff9bd4b",
   "metadata": {},
   "outputs": [
    {
     "name": "stdout",
     "output_type": "stream",
     "text": [
      "10\n",
      "9\n",
      "8\n",
      "7\n",
      "6\n",
      "5\n",
      "4\n",
      "3\n",
      "2\n",
      "1\n"
     ]
    }
   ],
   "source": [
    "def print_reverse_numbers(n):\n",
    "    for i in range(n,0,-1):\n",
    "        print(i)\n",
    "print_reverse_numbers(10)"
   ]
  },
  {
   "cell_type": "code",
   "execution_count": 34,
   "id": "7797ba23-0a97-42e7-be84-777ddea95109",
   "metadata": {},
   "outputs": [
    {
     "name": "stdout",
     "output_type": "stream",
     "text": [
      "10\n",
      "9\n",
      "8\n",
      "7\n",
      "6\n",
      "5\n",
      "4\n",
      "3\n",
      "2\n",
      "1\n"
     ]
    }
   ],
   "source": [
    "#recursive approach\n",
    "def print_reverse_numbers_rec(n):\n",
    "    if n==0:\n",
    "        return\n",
    "    print(n)\n",
    "    print_reverse_numbers_rec(n-1)\n",
    "print_reverse_numbers_rec(10)"
   ]
  },
  {
   "cell_type": "code",
   "execution_count": 36,
   "id": "0f24c48f-9d7e-4370-a103-b5c4da9cbbbf",
   "metadata": {},
   "outputs": [
    {
     "name": "stdout",
     "output_type": "stream",
     "text": [
      "10\n",
      "9\n",
      "8\n",
      "7\n",
      "6\n",
      "5\n",
      "4\n",
      "3\n",
      "2\n",
      "1\n"
     ]
    }
   ],
   "source": [
    "#recursive approach\n",
    "import time\n",
    "def print_reverse_numbers_rec(n):\n",
    "    if n==0:\n",
    "        return\n",
    "    print(n)\n",
    "    time.sleep(0.30)\n",
    "    print_reverse_numbers_rec(n-1)\n",
    "print_reverse_numbers_rec(10)"
   ]
  },
  {
   "cell_type": "markdown",
   "id": "79a0ca8d-5f1b-4867-ad8e-7c352e25b50f",
   "metadata": {},
   "source": [
    "#### sum of first N numbers\n"
   ]
  },
  {
   "cell_type": "code",
   "execution_count": 38,
   "id": "96e4c877-ca10-4981-9e55-99ae27a7c80c",
   "metadata": {},
   "outputs": [
    {
     "name": "stdout",
     "output_type": "stream",
     "text": [
      "sum: 55\n"
     ]
    }
   ],
   "source": [
    "def sum_n(n):\n",
    "    total=0\n",
    "    for i in range(1,n+1):\n",
    "        total=total+i\n",
    "    return total\n",
    "print(\"sum:\",sum_n(10))"
   ]
  },
  {
   "cell_type": "code",
   "execution_count": 41,
   "id": "f581f565-7393-49c5-b877-3a75404f9691",
   "metadata": {},
   "outputs": [
    {
     "name": "stdout",
     "output_type": "stream",
     "text": [
      "sum: 55\n"
     ]
    }
   ],
   "source": [
    "#recursive approach / Fibonacci series n+(n-1)+(n-2)+....(n-n)\n",
    "def sum_n_rec(n):\n",
    "    if n==0:\n",
    "        return 0\n",
    "    return n+sum_n_rec(n-1)\n",
    "print(\"sum:\",sum_n_rec(10))\n",
    "    "
   ]
  },
  {
   "cell_type": "code",
   "execution_count": 42,
   "id": "73956b0f-2af4-4810-b208-dd9a11db995a",
   "metadata": {},
   "outputs": [
    {
     "data": {
      "text/plain": [
       "[0, 1, 1, 2, 3, 5, 8, 13, 21, 34]"
      ]
     },
     "execution_count": 42,
     "metadata": {},
     "output_type": "execute_result"
    }
   ],
   "source": [
    "#norma;l approach\n",
    "#sum of two previous numbers is the succeding number\n",
    "def fib(n):\n",
    "    if n<=0:\n",
    "        return []\n",
    "    fib=[0]\n",
    "    \n",
    "    if n==1:\n",
    "        return fib\n",
    "    fib.append(1)\n",
    "\n",
    "    for i in range(2,n):\n",
    "        fib.append(fib[i-1]+fib[i-2])\n",
    "    return fib\n",
    "fib(10)"
   ]
  },
  {
   "cell_type": "code",
   "execution_count": 46,
   "id": "fd259af1-74c2-4ee5-93d3-794424f096f1",
   "metadata": {},
   "outputs": [
    {
     "name": "stdout",
     "output_type": "stream",
     "text": [
      "enter the number :\n"
     ]
    },
    {
     "name": "stdin",
     "output_type": "stream",
     "text": [
      "None 3\n"
     ]
    },
    {
     "data": {
      "text/plain": [
       "[0, 1, 1]"
      ]
     },
     "execution_count": 46,
     "metadata": {},
     "output_type": "execute_result"
    }
   ],
   "source": [
    "k=int(input(print(\"enter the number :\")))\n",
    "def fib(n):\n",
    "    if n<=0:\n",
    "        return []\n",
    "    fib=[0]\n",
    "    \n",
    "    if n==1:\n",
    "        return fib\n",
    "    fib.append(1)\n",
    "\n",
    "    for i in range(2,n):\n",
    "        fib.append(fib[i-1]+fib[i-2])\n",
    "    return fib\n",
    "fib(k)"
   ]
  },
  {
   "cell_type": "code",
   "execution_count": null,
   "id": "de2c5df1-59f6-4fc0-bdec-cd865ae79def",
   "metadata": {},
   "outputs": [],
   "source": []
  }
 ],
 "metadata": {
  "kernelspec": {
   "display_name": "Python [conda env:base] *",
   "language": "python",
   "name": "conda-base-py"
  },
  "language_info": {
   "codemirror_mode": {
    "name": "ipython",
    "version": 3
   },
   "file_extension": ".py",
   "mimetype": "text/x-python",
   "name": "python",
   "nbconvert_exporter": "python",
   "pygments_lexer": "ipython3",
   "version": "3.13.5"
  }
 },
 "nbformat": 4,
 "nbformat_minor": 5
}
