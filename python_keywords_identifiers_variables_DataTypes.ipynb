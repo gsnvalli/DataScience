{
 "cells": [
  {
   "cell_type": "markdown",
   "id": "da548a4a-fd94-43e1-baee-a24f1195873c",
   "metadata": {},
   "source": [
    "#### keywords ####\n",
    "- in Python keywords are **reserved words** that have predefined meaning\n",
    "- keywords are used to define the syntax and structures\n",
    "  \n"
   ]
  },
  {
   "cell_type": "markdown",
   "id": "40fe9fbd-e72f-4fb5-8c32-63313480c9e7",
   "metadata": {},
   "source": [
    "### keywords ###\n",
    "- in Python keywords are **reserved words** that have predefined meaning and can't be changed\n",
    "- keywords are used to define the syntax and structures\n",
    "- keywords are *case sensitive*\n",
    "- keywords should not used as identifiers\n",
    "- "
   ]
  },
  {
   "cell_type": "code",
   "execution_count": 2,
   "id": "84ec32af-0c28-40c4-89e6-633f7fa4f30a",
   "metadata": {},
   "outputs": [
    {
     "name": "stdout",
     "output_type": "stream",
     "text": [
      "['False', 'None', 'True', 'and', 'as', 'assert', 'async', 'await', 'break', 'class', 'continue', 'def', 'del', 'elif', 'else', 'except', 'finally', 'for', 'from', 'global', 'if', 'import', 'in', 'is', 'lambda', 'nonlocal', 'not', 'or', 'pass', 'raise', 'return', 'try', 'while', 'with', 'yield']\n"
     ]
    }
   ],
   "source": [
    "import keyword\n",
    "print(keyword.kwlist)"
   ]
  },
  {
   "cell_type": "code",
   "execution_count": 3,
   "id": "540ac48c-3f3c-487a-977f-9d1c2782469d",
   "metadata": {},
   "outputs": [
    {
     "name": "stdout",
     "output_type": "stream",
     "text": [
      "35\n"
     ]
    }
   ],
   "source": [
    "print(len(keyword.kwlist))"
   ]
  },
  {
   "cell_type": "code",
   "execution_count": 4,
   "id": "30706f49-bed1-4bb3-8025-bcde27a11455",
   "metadata": {},
   "outputs": [
    {
     "data": {
      "text/plain": [
       "True"
      ]
     },
     "execution_count": 4,
     "metadata": {},
     "output_type": "execute_result"
    }
   ],
   "source": [
    "10>5 and 20>10"
   ]
  },
  {
   "cell_type": "markdown",
   "id": "13cff955-b8c3-47ed-8691-2ff0a381f791",
   "metadata": {},
   "source": [
    "### Identifiers ###\n",
    "- Name of a variable/class/object/function is called as identifiers\n",
    "- keywords should not used as identifiers\n",
    "- **identifier is the name you give something to your program**\n",
    "\n"
   ]
  },
  {
   "cell_type": "markdown",
   "id": "62c58507-e4bb-46b5-9c59-96915ffbc1cf",
   "metadata": {},
   "source": [
    "#### Identifier name Rules ####"
   ]
  },
  {
   "cell_type": "markdown",
   "id": "57df82ea-21a1-445a-ad1b-c29b6165a951",
   "metadata": {},
   "source": [
    "- Identifier can only contain alphanumerics and an underscore(_)\n",
    "    - (a-z),(A-Z),(0,9),_\n",
    "- Identifier should only start with a character or an underscore(_)\n",
    "- keywords should not be used as identifiers\n",
    "- no special characters are allowed except underscore(_)\n",
    "- white spaces are not allowed"
   ]
  },
  {
   "cell_type": "markdown",
   "id": "b0d563d7-a408-41f3-95fc-f122633eb472",
   "metadata": {},
   "source": [
    "#### Comments ####"
   ]
  },
  {
   "cell_type": "markdown",
   "id": "0fd19049-61b8-4956-a0ee-b6d8ae4ffbfe",
   "metadata": {},
   "source": [
    "- comments start with **#**\n",
    "- If we want to comment multiple lines each line should be commented separately"
   ]
  },
  {
   "cell_type": "code",
   "execution_count": 5,
   "id": "f7e71d1e-0f68-4b02-a457-e52e8e5eb341",
   "metadata": {},
   "outputs": [],
   "source": [
    "are=40 #valid\n"
   ]
  },
  {
   "cell_type": "code",
   "execution_count": 6,
   "id": "d8a05932-9b1c-4ec4-9ea0-62a58cee4c30",
   "metadata": {},
   "outputs": [
    {
     "ename": "SyntaxError",
     "evalue": "invalid decimal literal (3013877657.py, line 1)",
     "output_type": "error",
     "traceback": [
      "\u001b[1;36m  Cell \u001b[1;32mIn[6], line 1\u001b[1;36m\u001b[0m\n\u001b[1;33m    4area=40 #invalid as identifier can't start with numeric\u001b[0m\n\u001b[1;37m    ^\u001b[0m\n\u001b[1;31mSyntaxError\u001b[0m\u001b[1;31m:\u001b[0m invalid decimal literal\n"
     ]
    }
   ],
   "source": [
    "4area=40 #invalid as identifier can't start with numeric"
   ]
  },
  {
   "cell_type": "code",
   "execution_count": 7,
   "id": "a65ae596-39c7-4d0f-8889-f6985963ec21",
   "metadata": {},
   "outputs": [],
   "source": [
    "area_width=25 #valid"
   ]
  },
  {
   "cell_type": "code",
   "execution_count": 8,
   "id": "8493a42c-7627-4a41-bf2d-6e9b3f6326a2",
   "metadata": {},
   "outputs": [
    {
     "ename": "SyntaxError",
     "evalue": "invalid syntax (2812078102.py, line 1)",
     "output_type": "error",
     "traceback": [
      "\u001b[1;36m  Cell \u001b[1;32mIn[8], line 1\u001b[1;36m\u001b[0m\n\u001b[1;33m    area width=26#invalid as white spaces should not be there\u001b[0m\n\u001b[1;37m         ^\u001b[0m\n\u001b[1;31mSyntaxError\u001b[0m\u001b[1;31m:\u001b[0m invalid syntax\n"
     ]
    }
   ],
   "source": [
    "area width=26#invalid as white spaces should not be there"
   ]
  },
  {
   "cell_type": "markdown",
   "id": "0115b3ac-57e2-428c-ba68-5e398e616f2f",
   "metadata": {},
   "source": [
    "### Best practices for identifiers ###"
   ]
  },
  {
   "cell_type": "markdown",
   "id": "540e9ee8-0c54-4782-ab0b-3852956c53e7",
   "metadata": {},
   "source": [
    "- use **Descriptive names** (not single characters)\n",
    "- use **snake case** for variables\n",
    "    - eg:student_name, calulate_total\n",
    "- use **pascal case (camel case)** for class name \n",
    "    - eg: CalculateTotalRevenue\n",
    "- use **UPPERCASE** for constants\n",
    "    - eg: PI=3.14"
   ]
  },
  {
   "cell_type": "markdown",
   "id": "531dbd76-2a50-4f29-a772-0c09e0df87cb",
   "metadata": {},
   "source": [
    "#### Variables ####"
   ]
  },
  {
   "cell_type": "markdown",
   "id": "accbb136-a7c6-4f33-9e0b-898beac007ff",
   "metadata": {},
   "source": [
    "- Variable is a **Data container**\n",
    "- variable is a name that referes to a value stored in memory"
   ]
  },
  {
   "cell_type": "code",
   "execution_count": 10,
   "id": "6cfbe78a-1d2f-4443-acc1-5df36de9f922",
   "metadata": {},
   "outputs": [],
   "source": [
    "a=20"
   ]
  },
  {
   "cell_type": "code",
   "execution_count": 11,
   "id": "3ca0f40e-637e-4594-aebb-72d0d4830846",
   "metadata": {},
   "outputs": [],
   "source": [
    "x=10 #integer variable\n",
    "name='valli' #string varibale\n",
    "price=98.4 #floating variable"
   ]
  },
  {
   "cell_type": "markdown",
   "id": "15447537-5d52-4a8d-8685-eb3b5340eb16",
   "metadata": {},
   "source": [
    "**Reassigning variables**\n",
    "- you can change the value of a variable anytime"
   ]
  },
  {
   "cell_type": "markdown",
   "id": "157d6bb5-0aaa-4ce0-a74f-c5a2fb66fe2d",
   "metadata": {},
   "source": [
    "**Multiple assignments**\n",
    "- Python allows assigning multiple variables in a single line"
   ]
  },
  {
   "cell_type": "code",
   "execution_count": 12,
   "id": "0fa2f69f-c9c6-45e3-ab58-90aa8c1e88c8",
   "metadata": {},
   "outputs": [
    {
     "name": "stdout",
     "output_type": "stream",
     "text": [
      "10 20 30\n"
     ]
    }
   ],
   "source": [
    "a,b,c=10,20,30\n",
    "print(a,b,c)"
   ]
  },
  {
   "cell_type": "code",
   "execution_count": 13,
   "id": "ee48d845-a3ab-4e94-99f6-c2fe96dfe3f2",
   "metadata": {},
   "outputs": [],
   "source": [
    "x=y=z=100\n"
   ]
  },
  {
   "cell_type": "code",
   "execution_count": 14,
   "id": "bf552724-62b4-406c-ad69-9b24e1b13ef3",
   "metadata": {},
   "outputs": [
    {
     "data": {
      "text/plain": [
       "(100, 100, 100)"
      ]
     },
     "execution_count": 14,
     "metadata": {},
     "output_type": "execute_result"
    }
   ],
   "source": [
    "x,y,z\n"
   ]
  },
  {
   "cell_type": "markdown",
   "id": "3df679da-3a46-46da-bfc8-f3e6786c68c5",
   "metadata": {},
   "source": [
    "### variable name rules ###\n",
    "- same as Identifiers since variables are identifiers"
   ]
  },
  {
   "cell_type": "markdown",
   "id": "80818ce9-8e3f-4d9a-9a55-312aba02056d",
   "metadata": {},
   "source": [
    "1. **Variable** =Name that refers to a value in memory\n",
    "2. **No type Declaration is Required**(python is dynamically typed)\n",
    "3. **can reassign anytime** "
   ]
  },
  {
   "cell_type": "markdown",
   "id": "fc66efa8-d1f9-4c49-b3ad-fec7e7d99adf",
   "metadata": {},
   "source": [
    "### Data Types\n",
    "\n",
    "1. **Numeric Data Types**\n",
    "    - Integers\n",
    "    - Float\n",
    "    - Complex\n",
    "2. **Text**\n",
    "    - String\n",
    "3. **Sequence**\n",
    "    - List\n",
    "    - Tuple\n",
    "    - Set \n",
    "    - Dictionary\n",
    "    - String\n",
    "4. **set**\n",
    "    - Set \n",
    "    - Frozen Set \n",
    "5. **Boolean**\n",
    "    - True\n",
    "    - False \n",
    "6. **Mapping**\n",
    "    - Dictionary"
   ]
  },
  {
   "cell_type": "markdown",
   "id": "6838d5a0-bc08-4135-b00b-ecb21e657d3e",
   "metadata": {},
   "source": [
    "### Numeric Data Types ###"
   ]
  },
  {
   "cell_type": "markdown",
   "id": "7a1d79ea-9717-4800-a293-1250f7c13d44",
   "metadata": {},
   "source": [
    "- **Integers**"
   ]
  },
  {
   "cell_type": "code",
   "execution_count": 15,
   "id": "30f5e8d4-e3b9-480e-bd51-35f715d47ff0",
   "metadata": {},
   "outputs": [
    {
     "data": {
      "text/plain": [
       "int"
      ]
     },
     "execution_count": 15,
     "metadata": {},
     "output_type": "execute_result"
    }
   ],
   "source": [
    "a=234\n",
    "type(a) #type is a method which returns the data type of variable"
   ]
  },
  {
   "cell_type": "code",
   "execution_count": 17,
   "id": "2e6451fc-8e68-4268-8942-e8f28240caf8",
   "metadata": {},
   "outputs": [
    {
     "name": "stdout",
     "output_type": "stream",
     "text": [
      "<class 'int'>\n"
     ]
    }
   ],
   "source": [
    "print(type(a)) # print is a method which prints the values and text"
   ]
  },
  {
   "cell_type": "code",
   "execution_count": 18,
   "id": "5c392bbe-6cee-4ec4-acb9-3c25321a422d",
   "metadata": {},
   "outputs": [
    {
     "data": {
      "text/plain": [
       "int"
      ]
     },
     "execution_count": 18,
     "metadata": {},
     "output_type": "execute_result"
    }
   ],
   "source": [
    "b=-456\n",
    "type(b)"
   ]
  },
  {
   "cell_type": "code",
   "execution_count": 19,
   "id": "193ab558-ee86-4c48-b9fa-1d54017c95ed",
   "metadata": {},
   "outputs": [
    {
     "name": "stdout",
     "output_type": "stream",
     "text": [
      "the data type of variable a is <class 'int'>\n",
      "the data type of variable b is <class 'int'>\n"
     ]
    }
   ],
   "source": [
    "print('the data type of variable a is',type(a))\n",
    "print('the data type of variable b is',type(b))"
   ]
  },
  {
   "cell_type": "markdown",
   "id": "8c56f871-c746-49d8-9624-122d250f50c7",
   "metadata": {},
   "source": [
    "**floating  numbers**"
   ]
  },
  {
   "cell_type": "code",
   "execution_count": 20,
   "id": "34541ce2-0bf4-4e0b-aa05-03b8ac2cdd46",
   "metadata": {},
   "outputs": [],
   "source": [
    "c=45.89\n",
    "d=-89.25"
   ]
  },
  {
   "cell_type": "code",
   "execution_count": 21,
   "id": "4041f140-ba64-4651-89cd-e0364bc3084d",
   "metadata": {},
   "outputs": [
    {
     "name": "stdout",
     "output_type": "stream",
     "text": [
      "the data type of variable c is <class 'float'>\n",
      "the data type of variable d is <class 'float'>\n"
     ]
    }
   ],
   "source": [
    "print('the data type of variable c is',type(c))\n",
    "print('the data type of variable d is',type(d))"
   ]
  },
  {
   "cell_type": "markdown",
   "id": "5e8c349b-7cce-4082-b64e-77c758c655d3",
   "metadata": {},
   "source": [
    "**complex numbers**"
   ]
  },
  {
   "cell_type": "code",
   "execution_count": 23,
   "id": "6312d5c7-49f4-42c1-b731-fc1bafc522df",
   "metadata": {},
   "outputs": [],
   "source": [
    "a=34 + 4j"
   ]
  },
  {
   "cell_type": "code",
   "execution_count": 24,
   "id": "f31d927e-ab4c-4bec-aad9-d7b75abb3749",
   "metadata": {},
   "outputs": [],
   "source": [
    "b=-7-8j"
   ]
  },
  {
   "cell_type": "code",
   "execution_count": 25,
   "id": "6075d259-329a-46ae-9696-bef25a4ca2b7",
   "metadata": {},
   "outputs": [],
   "source": [
    "c=-4j"
   ]
  },
  {
   "cell_type": "code",
   "execution_count": 27,
   "id": "cbf3bcd9-9f79-4cac-adb6-14d2ca984a3f",
   "metadata": {},
   "outputs": [
    {
     "name": "stdout",
     "output_type": "stream",
     "text": [
      "the data type of variable a is <class 'complex'>\n",
      "the data type of variable b is <class 'complex'>\n",
      "the data type of variable c is <class 'complex'>\n"
     ]
    }
   ],
   "source": [
    "print('the data type of variable a is',type(a))\n",
    "print('the data type of variable b is',type(b))\n",
    "print('the data type of variable c is',type(c))\n"
   ]
  },
  {
   "cell_type": "markdown",
   "id": "1d4981bd-41ed-44d4-bfc5-d4f8ef5f3c8d",
   "metadata": {},
   "source": []
  },
  {
   "cell_type": "code",
   "execution_count": null,
   "id": "cd8525c8-49a0-4546-ae44-fe15fb479cf3",
   "metadata": {},
   "outputs": [],
   "source": []
  }
 ],
 "metadata": {
  "kernelspec": {
   "display_name": "Python [conda env:base] *",
   "language": "python",
   "name": "conda-base-py"
  },
  "language_info": {
   "codemirror_mode": {
    "name": "ipython",
    "version": 3
   },
   "file_extension": ".py",
   "mimetype": "text/x-python",
   "name": "python",
   "nbconvert_exporter": "python",
   "pygments_lexer": "ipython3",
   "version": "3.13.5"
  }
 },
 "nbformat": 4,
 "nbformat_minor": 5
}
