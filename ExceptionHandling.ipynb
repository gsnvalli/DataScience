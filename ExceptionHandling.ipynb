{
 "cells": [
  {
   "cell_type": "markdown",
   "id": "dc8a2988-2e02-421a-9f6a-b17406a8b6e2",
   "metadata": {},
   "source": [
    "#### Exception handling\n"
   ]
  },
  {
   "cell_type": "markdown",
   "id": "4fc89a99-b48c-4ba2-9436-9b253b0aebae",
   "metadata": {},
   "source": [
    "- zeroDivisionError\n",
    "- valueError\n",
    "- Type Error\n",
    "- Index Error\n",
    "- key Error\n",
    "- FileNotFound Error\n",
    "- Name Error\n",
    "- Attribute Error"
   ]
  },
  {
   "cell_type": "markdown",
   "id": "32d76212-355c-4313-a254-e4f8e2b51777",
   "metadata": {},
   "source": [
    "### Handling errors\n",
    "try:\n",
    "\n",
    "    #code that might raise error\n",
    "    \n",
    "except:\n",
    "\n",
    "    #code to handle that error\n"
   ]
  },
  {
   "cell_type": "code",
   "execution_count": null,
   "id": "2307db2b-6bb4-4a83-98c5-7794abc4af67",
   "metadata": {},
   "outputs": [],
   "source": [
    "a=10\n",
    "b=0\n",
    "print(a/b)"
   ]
  },
  {
   "cell_type": "code",
   "execution_count": 2,
   "id": "8ce98ee7-a2e0-442c-bf0d-cd4721f8cd22",
   "metadata": {},
   "outputs": [
    {
     "name": "stdin",
     "output_type": "stream",
     "text": [
      "enter number: 5\n"
     ]
    },
    {
     "name": "stdout",
     "output_type": "stream",
     "text": [
      "2.0\n"
     ]
    }
   ],
   "source": [
    "try:\n",
    "    num=int(input(\"enter number:\"))\n",
    "    print(10/num)\n",
    "except:\n",
    "    print(\"Invalid input\")"
   ]
  },
  {
   "cell_type": "code",
   "execution_count": 3,
   "id": "627a7165-01bf-405e-9eb6-26c45e5cec3b",
   "metadata": {},
   "outputs": [
    {
     "name": "stdin",
     "output_type": "stream",
     "text": [
      "enter number: 0\n"
     ]
    },
    {
     "name": "stdout",
     "output_type": "stream",
     "text": [
      "Invalid input\n"
     ]
    }
   ],
   "source": [
    "try:\n",
    "    num=int(input(\"enter number:\"))\n",
    "    print(10/num)\n",
    "except:\n",
    "    print(\"Invalid input\")"
   ]
  },
  {
   "cell_type": "code",
   "execution_count": 5,
   "id": "95c552b0-7a26-45fa-9cb3-eee361cacfe5",
   "metadata": {},
   "outputs": [
    {
     "name": "stdin",
     "output_type": "stream",
     "text": [
      "enter number1: 10\n",
      "enter number2: 0\n"
     ]
    },
    {
     "name": "stdout",
     "output_type": "stream",
     "text": [
      "num2 can't be Zero .0 not allowed\n"
     ]
    }
   ],
   "source": [
    "try:\n",
    "    a=int(input(\"enter number1:\"))\n",
    "    b=int(input(\"enter number2:\"))\n",
    "    print(a/b)\n",
    "except ZeroDivisionError:\n",
    "    print(\"num2 can't be Zero .0 not allowed\")\n",
    "except ValueError:\n",
    "    print(\"please enter valid numbers\")"
   ]
  },
  {
   "cell_type": "code",
   "execution_count": 6,
   "id": "5a83e073-6ffc-47ec-a273-27e749b3bc87",
   "metadata": {},
   "outputs": [
    {
     "name": "stdin",
     "output_type": "stream",
     "text": [
      "enter number1: 10\n",
      "enter number2: abc\n"
     ]
    },
    {
     "name": "stdout",
     "output_type": "stream",
     "text": [
      "please enter valid numbers\n"
     ]
    }
   ],
   "source": [
    "try:\n",
    "    a=int(input(\"enter number1:\"))\n",
    "    b=int(input(\"enter number2:\"))\n",
    "    print(a/b)\n",
    "except ZeroDivisionError:\n",
    "    print(\"num2 can't be Zero .0 not allowed\")\n",
    "except ValueError:\n",
    "    print(\"please enter valid numbers\")"
   ]
  },
  {
   "cell_type": "code",
   "execution_count": 8,
   "id": "ff852cff-682e-4000-bc26-f1a1a02c4262",
   "metadata": {},
   "outputs": [
    {
     "name": "stdin",
     "output_type": "stream",
     "text": [
      "enter number1: abc\n"
     ]
    },
    {
     "name": "stdout",
     "output_type": "stream",
     "text": [
      "please enter valid numbers\n"
     ]
    }
   ],
   "source": [
    "try:\n",
    "    a=int(input(\"enter number1:\"))\n",
    "    b=int(input(\"enter number2:\"))\n",
    "    print(a/b)\n",
    "except ZeroDivisionError:\n",
    "    print(\"num2 can't be Zero .0 not allowed\")\n",
    "except ValueError:\n",
    "    print(\"please enter valid numbers\")"
   ]
  },
  {
   "cell_type": "code",
   "execution_count": 9,
   "id": "09829f81-83c8-4335-8d15-7daf8d1e4eef",
   "metadata": {},
   "outputs": [
    {
     "name": "stdin",
     "output_type": "stream",
     "text": [
      "enter number1: 10\n",
      "enter number2: \n"
     ]
    },
    {
     "name": "stdout",
     "output_type": "stream",
     "text": [
      "please enter valid numbers\n",
      "this will always execute\n"
     ]
    }
   ],
   "source": [
    "try:\n",
    "    a=int(input(\"enter number1:\"))\n",
    "    b=int(input(\"enter number2:\"))\n",
    "    d=a/b\n",
    "except ZeroDivisionError:\n",
    "    print(\"num2 can't be Zero .0 not allowed\")\n",
    "except ValueError:\n",
    "    print(\"please enter valid numbers\")\n",
    "else:\n",
    "    print(\"division resilt:\",d)\n",
    "finally:\n",
    "    print(\"this will always execute\")\n"
   ]
  },
  {
   "cell_type": "code",
   "execution_count": 10,
   "id": "c46a0127-d3ae-4305-91a9-5de567e6b915",
   "metadata": {},
   "outputs": [
    {
     "name": "stdin",
     "output_type": "stream",
     "text": [
      "enter a number 0\n"
     ]
    },
    {
     "name": "stdout",
     "output_type": "stream",
     "text": [
      "zero not allowed\n"
     ]
    }
   ],
   "source": [
    "try:\n",
    "    a=int(input(\"enter a number\"))\n",
    "    try:\n",
    "        print(10/a)\n",
    "    except ZeroDivisionError:\n",
    "        print(\"zero not allowed\")\n",
    "except ValueError:\n",
    "    print(\"please enter valid numbers\")"
   ]
  },
  {
   "cell_type": "code",
   "execution_count": 12,
   "id": "916f7afc-4529-4249-ad68-77703bd94510",
   "metadata": {},
   "outputs": [
    {
     "name": "stdin",
     "output_type": "stream",
     "text": [
      "enter a number abc\n"
     ]
    },
    {
     "name": "stdout",
     "output_type": "stream",
     "text": [
      "please enter valid numbers\n"
     ]
    }
   ],
   "source": [
    "try:\n",
    "    a=int(input(\"enter a number\"))\n",
    "    try:\n",
    "        print(10/a)\n",
    "    except ZeroDivisionError:\n",
    "        print(\"zero not allowed\")\n",
    "except ValueError:\n",
    "    print(\"please enter valid numbers\")\n",
    "    "
   ]
  },
  {
   "cell_type": "code",
   "execution_count": 13,
   "id": "c812865f-b0f5-4def-8ee5-b844ce52a11a",
   "metadata": {},
   "outputs": [
    {
     "ename": "TypeError",
     "evalue": "exceptions must derive from BaseException",
     "output_type": "error",
     "traceback": [
      "\u001b[1;31m---------------------------------------------------------------------------\u001b[0m",
      "\u001b[1;31mTypeError\u001b[0m                                 Traceback (most recent call last)",
      "Cell \u001b[1;32mIn[13], line 3\u001b[0m\n\u001b[0;32m      1\u001b[0m x\u001b[38;5;241m=\u001b[39m\u001b[38;5;241m-\u001b[39m\u001b[38;5;241m5\u001b[39m\n\u001b[0;32m      2\u001b[0m \u001b[38;5;28;01mif\u001b[39;00m x\u001b[38;5;241m<\u001b[39m\u001b[38;5;241m0\u001b[39m:\n\u001b[1;32m----> 3\u001b[0m     \u001b[38;5;28;01mraise\u001b[39;00m(\u001b[38;5;124m\"\u001b[39m\u001b[38;5;124minvalid\u001b[39m\u001b[38;5;124m\"\u001b[39m)\n",
      "\u001b[1;31mTypeError\u001b[0m: exceptions must derive from BaseException"
     ]
    }
   ],
   "source": [
    "x=-5\n",
    "if x<0:\n",
    "    raise(\"invalid\")"
   ]
  },
  {
   "cell_type": "code",
   "execution_count": 14,
   "id": "d1596437-fe29-4bfd-a88a-06d85e128940",
   "metadata": {},
   "outputs": [
    {
     "ename": "ValueError",
     "evalue": "invalid",
     "output_type": "error",
     "traceback": [
      "\u001b[1;31m---------------------------------------------------------------------------\u001b[0m",
      "\u001b[1;31mValueError\u001b[0m                                Traceback (most recent call last)",
      "Cell \u001b[1;32mIn[14], line 5\u001b[0m\n\u001b[0;32m      1\u001b[0m x \u001b[38;5;241m=\u001b[39m \u001b[38;5;241m-\u001b[39m\u001b[38;5;241m5\u001b[39m\n\u001b[0;32m      2\u001b[0m \u001b[38;5;28;01mif\u001b[39;00m x \u001b[38;5;241m<\u001b[39m \u001b[38;5;241m0\u001b[39m:\n\u001b[0;32m      3\u001b[0m     \u001b[38;5;66;03m# The raise statement requires an exception object, not just a string\u001b[39;00m\n\u001b[0;32m      4\u001b[0m     \u001b[38;5;66;03m# We can use a built-in exception like ValueError or create a custom one\u001b[39;00m\n\u001b[1;32m----> 5\u001b[0m     \u001b[38;5;28;01mraise\u001b[39;00m \u001b[38;5;167;01mValueError\u001b[39;00m(\u001b[38;5;124m\"\u001b[39m\u001b[38;5;124minvalid\u001b[39m\u001b[38;5;124m\"\u001b[39m)\n",
      "\u001b[1;31mValueError\u001b[0m: invalid"
     ]
    }
   ],
   "source": [
    "x = -5\n",
    "if x < 0:\n",
    "    # The raise statement requires an exception object, not just a string\n",
    "    # We can use a built-in exception like ValueError or create a custom one\n",
    "    raise ValueError(\"invalid\")"
   ]
  },
  {
   "cell_type": "code",
   "execution_count": null,
   "id": "94432bdf-20cf-4816-b597-25727499481b",
   "metadata": {},
   "outputs": [],
   "source": []
  },
  {
   "cell_type": "markdown",
   "id": "fe235170-9fce-4c51-b158-dd38ac16ca5e",
   "metadata": {},
   "source": [
    "# Assistant\n",
    "The error occurs because the `raise` statement is not being used correctly. When using `raise`, you need to provide an exception object, not just a string.\n",
    "\n",
    "Would you like me to provide the corrected code?"
   ]
  },
  {
   "cell_type": "markdown",
   "id": "91ce4f0f-11e9-490a-8e4d-e4540e94438c",
   "metadata": {},
   "source": [
    "# User\n",
    "yes"
   ]
  },
  {
   "cell_type": "code",
   "execution_count": 15,
   "id": "13f1290b-d02a-47f2-adb9-0114723827aa",
   "metadata": {},
   "outputs": [
    {
     "ename": "ValueError",
     "evalue": "invalid",
     "output_type": "error",
     "traceback": [
      "\u001b[1;31m---------------------------------------------------------------------------\u001b[0m",
      "\u001b[1;31mValueError\u001b[0m                                Traceback (most recent call last)",
      "Cell \u001b[1;32mIn[15], line 6\u001b[0m\n\u001b[0;32m      2\u001b[0m x \u001b[38;5;241m=\u001b[39m \u001b[38;5;241m-\u001b[39m\u001b[38;5;241m5\u001b[39m\n\u001b[0;32m      3\u001b[0m \u001b[38;5;28;01mif\u001b[39;00m x \u001b[38;5;241m<\u001b[39m \u001b[38;5;241m0\u001b[39m:\n\u001b[0;32m      4\u001b[0m     \u001b[38;5;66;03m# The raise statement requires an exception object, not just a string\u001b[39;00m\n\u001b[0;32m      5\u001b[0m     \u001b[38;5;66;03m# We can use a built-in exception like ValueError or create a custom one\u001b[39;00m\n\u001b[1;32m----> 6\u001b[0m     \u001b[38;5;28;01mraise\u001b[39;00m \u001b[38;5;167;01mValueError\u001b[39;00m(\u001b[38;5;124m\"\u001b[39m\u001b[38;5;124minvalid\u001b[39m\u001b[38;5;124m\"\u001b[39m)\n",
      "\u001b[1;31mValueError\u001b[0m: invalid"
     ]
    }
   ],
   "source": [
    "# Assistant\n",
    "x = -5\n",
    "if x < 0:\n",
    "    # The raise statement requires an exception object, not just a string\n",
    "    # We can use a built-in exception like ValueError or create a custom one\n",
    "    raise ValueError(\"invalid\")"
   ]
  },
  {
   "cell_type": "markdown",
   "id": "baafbc53-1e7e-4f2a-bb1f-5ee1c380752a",
   "metadata": {},
   "source": [
    "# Assistant\n",
    "The error occurs because the code is raising a ValueError with the message \"invalid\", which is causing the kernel to stop execution. This isn't necessarily a syntax error - the code is working as designed to raise an exception.\n",
    "\n",
    "If you want to handle this error rather than letting it stop your program, you need to use a try-except block.\n",
    "\n",
    "Would you like me to provide the corrected code?"
   ]
  },
  {
   "cell_type": "markdown",
   "id": "d58dd1c0-7884-4712-ad7b-5c044efc1804",
   "metadata": {},
   "source": [
    "# User\n",
    "yes"
   ]
  },
  {
   "cell_type": "code",
   "execution_count": 16,
   "id": "3bb87d43-cfcf-4793-922f-bc99504cd289",
   "metadata": {},
   "outputs": [
    {
     "name": "stdout",
     "output_type": "stream",
     "text": [
      "Caught an error: invalid\n",
      "x = 0\n"
     ]
    }
   ],
   "source": [
    "# Assistant\n",
    "# Assistant\n",
    "x = -5\n",
    "try:\n",
    "    if x < 0:\n",
    "        # The raise statement is correct, but now we're catching the exception\n",
    "        raise ValueError(\"invalid\")\n",
    "except ValueError as e:\n",
    "    # This block will execute when the ValueError is raised\n",
    "    print(f\"Caught an error: {e}\")\n",
    "    # You can handle the error appropriately here\n",
    "    # For example, set x to a default value\n",
    "    x = 0\n",
    "    \n",
    "print(f\"x = {x}\")  # Program continues execution"
   ]
  }
 ],
 "metadata": {
  "kernelspec": {
   "display_name": "Python [conda env:base] *",
   "language": "python",
   "name": "conda-base-py"
  },
  "language_info": {
   "codemirror_mode": {
    "name": "ipython",
    "version": 3
   },
   "file_extension": ".py",
   "mimetype": "text/x-python",
   "name": "python",
   "nbconvert_exporter": "python",
   "pygments_lexer": "ipython3",
   "version": "3.13.5"
  }
 },
 "nbformat": 4,
 "nbformat_minor": 5
}
