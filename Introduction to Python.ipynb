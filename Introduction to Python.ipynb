{
 "cells": [
  {
   "cell_type": "code",
   "execution_count": 1,
   "id": "ea741931",
   "metadata": {},
   "outputs": [
    {
     "name": "stdout",
     "output_type": "stream",
     "text": [
      "hello all , Welcome to DataTeach.ai\n"
     ]
    }
   ],
   "source": [
    "print('hello all , Welcome to DataTeach.ai')"
   ]
  },
  {
   "cell_type": "code",
   "execution_count": 4,
   "id": "2abf9142",
   "metadata": {},
   "outputs": [
    {
     "name": "stdout",
     "output_type": "stream",
     "text": [
      "hello all, greetings of the Day!!\n",
      "Thank you all for joining\n"
     ]
    }
   ],
   "source": [
    "print('hello all, greetings of the Day!!')\n",
    "print('Thank you all for joining')\n",
    "print('Done')"
   ]
  },
  {
   "cell_type": "markdown",
   "id": "ddf72eda",
   "metadata": {},
   "source": [
    "# Introduction to Python Programming - H1"
   ]
  },
  {
   "cell_type": "markdown",
   "id": "ddacf374",
   "metadata": {},
   "source": [
    "## Introduction to Python Programming - H2"
   ]
  },
  {
   "cell_type": "markdown",
   "id": "c679f797",
   "metadata": {},
   "source": [
    "### Introduction to Python Programming - H3"
   ]
  },
  {
   "cell_type": "markdown",
   "id": "40ba7d6d",
   "metadata": {},
   "source": [
    "#### Introduction to Python Programming - H4"
   ]
  },
  {
   "cell_type": "markdown",
   "id": "22e9660c",
   "metadata": {},
   "source": [
    "## Features of Python Programming \n",
    "\n",
    "1. Python is **Open-Source** Programming Langauge\n",
    "2. Python Syntax allows programmers to write **fewer lines** of code when compared to other programming languages\n",
    "3. Python is **Interpreter Based** language\n",
    "4. Python is **Dynamically typed** language\n",
    "5. Python is **Platform Independent** Language\n",
    "6. python Supports **OOPS**\n",
    "7. Python have **Exception handling** Techniques"
   ]
  },
  {
   "cell_type": "markdown",
   "id": "c78f4b73",
   "metadata": {},
   "source": [
    "## Features of Python Programming \n",
    "\n",
    "- Python is **Open-Source** Programming Langauge\n",
    "- Python Syntax allows programmers to write **fewer lines** of code when compared to other programming languages\n",
    "- Python is ***Interpreter Based*** language\n",
    "- Python is ***Dynamically typed*** language\n",
    "- Python is ***Platform Independent*** Language\n",
    "- python Supports *OOPS*\n",
    "- Python have *Exception handling* Techniques"
   ]
  },
  {
   "cell_type": "markdown",
   "id": "b636f47a",
   "metadata": {},
   "source": [
    "## Data Types\n",
    "1. Numeric Data Types\n",
    "    - Integer\n",
    "        - Positive\n",
    "        - Negative\n",
    "    - Float\n",
    "    - Complex\n"
   ]
  },
  {
   "cell_type": "code",
   "execution_count": 5,
   "id": "252b6d1a",
   "metadata": {},
   "outputs": [],
   "source": [
    "a = 45 \n",
    "b = 36\n",
    "c = a + b\n",
    "\n",
    "print(c)\n",
    "print('Thank you')"
   ]
  },
  {
   "cell_type": "code",
   "execution_count": 8,
   "id": "fece45bb",
   "metadata": {},
   "outputs": [
    {
     "name": "stdout",
     "output_type": "stream",
     "text": [
      "Hi all, welcome to Data teach.ai\n"
     ]
    }
   ],
   "source": [
    "print('Hi all, welcome to Data teach.ai')"
   ]
  },
  {
   "cell_type": "code",
   "execution_count": 7,
   "id": "79e19faf",
   "metadata": {},
   "outputs": [
    {
     "name": "stdout",
     "output_type": "stream",
     "text": [
      "Thank you\n"
     ]
    }
   ],
   "source": [
    "print('Thank you')"
   ]
  },
  {
   "cell_type": "markdown",
   "id": "fc7ff964",
   "metadata": {},
   "source": [
    "## Features of Python Programming \n",
    "\n",
    "- Python is **Open-Source** Programming Langauge\n",
    "- Python Syntax allows programmers to write **fewer lines** of code when compared to other programming languages\n",
    "- Python is ***Interpreter Based*** language\n",
    "- Python is ***Dynamically typed*** language\n",
    "- Python is ***Platform Independent*** Language\n",
    "- python Supports *OOPS*\n",
    "- Python have *Exception handling* Techniques"
   ]
  },
  {
   "cell_type": "markdown",
   "id": "fae30675",
   "metadata": {},
   "source": [
    "### Keywords\n",
    "- In Python , Keywords are **reserved words** that have predefined Meaning and can not be changed \n",
    "- keywords are used to define the syntax and structure of python language\n",
    "- Keywords should not be used as identifiers\n",
    "- Keywords are **case-sensitive**"
   ]
  },
  {
   "cell_type": "code",
   "execution_count": 9,
   "id": "b6b9f2fb",
   "metadata": {},
   "outputs": [],
   "source": [
    "import keyword"
   ]
  },
  {
   "cell_type": "code",
   "execution_count": 10,
   "id": "a31d255d",
   "metadata": {},
   "outputs": [
    {
     "name": "stdout",
     "output_type": "stream",
     "text": [
      "['False', 'None', 'True', 'and', 'as', 'assert', 'async', 'await', 'break', 'class', 'continue', 'def', 'del', 'elif', 'else', 'except', 'finally', 'for', 'from', 'global', 'if', 'import', 'in', 'is', 'lambda', 'nonlocal', 'not', 'or', 'pass', 'raise', 'return', 'try', 'while', 'with', 'yield']\n"
     ]
    }
   ],
   "source": [
    "print(keyword.kwlist)"
   ]
  },
  {
   "cell_type": "code",
   "execution_count": 11,
   "id": "a209482d",
   "metadata": {},
   "outputs": [
    {
     "name": "stdout",
     "output_type": "stream",
     "text": [
      "35\n"
     ]
    }
   ],
   "source": [
    "print(len(keyword.kwlist))"
   ]
  },
  {
   "cell_type": "code",
   "execution_count": 12,
   "id": "18eca8b0",
   "metadata": {},
   "outputs": [
    {
     "data": {
      "text/plain": [
       "True"
      ]
     },
     "execution_count": 12,
     "metadata": {},
     "output_type": "execute_result"
    }
   ],
   "source": [
    "10 > 5 and 20 > 10"
   ]
  },
  {
   "cell_type": "markdown",
   "id": "4b7006a7",
   "metadata": {},
   "source": [
    "### Identifiers\n",
    "- Name of a variable / class/ object / function is called an Identifier\n",
    "- Keywords should not be used as Identifiers\n",
    "- **an Identifier is the name you give to something in your program**"
   ]
  },
  {
   "cell_type": "markdown",
   "id": "8b4e57da",
   "metadata": {},
   "source": [
    "#### Rules for Identifiers"
   ]
  },
  {
   "cell_type": "markdown",
   "id": "c217afdc",
   "metadata": {},
   "source": [
    "1. Identifier can only contain alpahnumerics and an underscore ( _ )\n",
    "    - (a - z), (A - Z ), (0 - 9) , _\n",
    "2. Identifier should only start with a character or an underscore ( _ )\n",
    "3. Keywords should not be used as Identifiers\n",
    "4. No Special characters are allowed except an underscore \n",
    "5. White space is not allowed in between characters"
   ]
  },
  {
   "cell_type": "markdown",
   "id": "cdd8adce",
   "metadata": {},
   "source": [
    "#### comments"
   ]
  },
  {
   "cell_type": "code",
   "execution_count": 2,
   "id": "d64a7331",
   "metadata": {},
   "outputs": [],
   "source": [
    "#  Identifier name rules\n",
    "#  Identifiers\n"
   ]
  },
  {
   "cell_type": "markdown",
   "id": "5766391f",
   "metadata": {},
   "source": [
    "- Comments starts with **#**\n",
    "- If we want to comment multiple lines , each line should be commented separately"
   ]
  },
  {
   "cell_type": "code",
   "execution_count": 3,
   "id": "090075d0",
   "metadata": {},
   "outputs": [],
   "source": [
    "area = 40 # valid "
   ]
  },
  {
   "cell_type": "code",
   "execution_count": 4,
   "id": "e688ee34",
   "metadata": {},
   "outputs": [],
   "source": [
    "Area = 56 # valid "
   ]
  },
  {
   "cell_type": "code",
   "execution_count": 5,
   "id": "8abd407d",
   "metadata": {},
   "outputs": [],
   "source": [
    "Area4 = 46 # valid "
   ]
  },
  {
   "cell_type": "code",
   "execution_count": 6,
   "id": "fc056142",
   "metadata": {},
   "outputs": [],
   "source": [
    "Area_56 = 34 # valid "
   ]
  },
  {
   "cell_type": "code",
   "execution_count": 7,
   "id": "9500f755",
   "metadata": {},
   "outputs": [],
   "source": [
    "area = 40 # valid"
   ]
  },
  {
   "cell_type": "code",
   "execution_count": 8,
   "id": "77ce8fa7",
   "metadata": {},
   "outputs": [
    {
     "ename": "SyntaxError",
     "evalue": "invalid decimal literal (1513261394.py, line 1)",
     "output_type": "error",
     "traceback": [
      "\u001b[0;36m  Cell \u001b[0;32mIn[8], line 1\u001b[0;36m\u001b[0m\n\u001b[0;31m    4area = 89 # invalid\u001b[0m\n\u001b[0m    ^\u001b[0m\n\u001b[0;31mSyntaxError\u001b[0m\u001b[0;31m:\u001b[0m invalid decimal literal\n"
     ]
    }
   ],
   "source": [
    "4area = 89 # invalid"
   ]
  },
  {
   "cell_type": "code",
   "execution_count": 9,
   "id": "5dffc078",
   "metadata": {},
   "outputs": [],
   "source": [
    "_area = 60 # valid"
   ]
  },
  {
   "cell_type": "code",
   "execution_count": 10,
   "id": "a5cb85cc",
   "metadata": {},
   "outputs": [
    {
     "ename": "SyntaxError",
     "evalue": "invalid syntax (3987349769.py, line 1)",
     "output_type": "error",
     "traceback": [
      "\u001b[0;36m  Cell \u001b[0;32mIn[10], line 1\u001b[0;36m\u001b[0m\n\u001b[0;31m    if = 34\u001b[0m\n\u001b[0m       ^\u001b[0m\n\u001b[0;31mSyntaxError\u001b[0m\u001b[0;31m:\u001b[0m invalid syntax\n"
     ]
    }
   ],
   "source": [
    "if = 34 # invalid"
   ]
  },
  {
   "cell_type": "code",
   "execution_count": 11,
   "id": "072f0cf3",
   "metadata": {},
   "outputs": [
    {
     "ename": "SyntaxError",
     "evalue": "invalid syntax (3076455996.py, line 1)",
     "output_type": "error",
     "traceback": [
      "\u001b[0;36m  Cell \u001b[0;32mIn[11], line 1\u001b[0;36m\u001b[0m\n\u001b[0;31m    and = 78\u001b[0m\n\u001b[0m    ^\u001b[0m\n\u001b[0;31mSyntaxError\u001b[0m\u001b[0;31m:\u001b[0m invalid syntax\n"
     ]
    }
   ],
   "source": [
    "and = 78 # invalid"
   ]
  },
  {
   "cell_type": "code",
   "execution_count": 12,
   "id": "60669853",
   "metadata": {},
   "outputs": [
    {
     "ename": "SyntaxError",
     "evalue": "cannot assign to expression here. Maybe you meant '==' instead of '='? (2899113679.py, line 1)",
     "output_type": "error",
     "traceback": [
      "\u001b[0;36m  Cell \u001b[0;32mIn[12], line 1\u001b[0;36m\u001b[0m\n\u001b[0;31m    area@67 = 90\u001b[0m\n\u001b[0m    ^\u001b[0m\n\u001b[0;31mSyntaxError\u001b[0m\u001b[0;31m:\u001b[0m cannot assign to expression here. Maybe you meant '==' instead of '='?\n"
     ]
    }
   ],
   "source": [
    "area@67 = 90 # invalid"
   ]
  },
  {
   "cell_type": "code",
   "execution_count": 13,
   "id": "26180be9",
   "metadata": {},
   "outputs": [
    {
     "ename": "SyntaxError",
     "evalue": "invalid syntax (3752400858.py, line 1)",
     "output_type": "error",
     "traceback": [
      "\u001b[0;36m  Cell \u001b[0;32mIn[13], line 1\u001b[0;36m\u001b[0m\n\u001b[0;31m    area width = 67 # invalid\u001b[0m\n\u001b[0m         ^\u001b[0m\n\u001b[0;31mSyntaxError\u001b[0m\u001b[0;31m:\u001b[0m invalid syntax\n"
     ]
    }
   ],
   "source": [
    "area width = 67 # invalid "
   ]
  },
  {
   "cell_type": "code",
   "execution_count": 14,
   "id": "dc777651",
   "metadata": {},
   "outputs": [],
   "source": [
    "area_width = 67 # valid"
   ]
  },
  {
   "cell_type": "code",
   "execution_count": 15,
   "id": "edf12f43",
   "metadata": {},
   "outputs": [],
   "source": [
    "_if = 89 #valid"
   ]
  },
  {
   "cell_type": "markdown",
   "id": "2ebfe81a",
   "metadata": {},
   "source": [
    "#### Best Practices for Identifiers \n",
    "- use **Descriptive names** (not single letters, unless temporary)\n",
    "- use **snake case** for variable and functions \n",
    "    - student_name , calculate_total \n",
    "- use **PascalCase** for class name \n",
    "    - StudentDetails, CarModel\n",
    "- use **UPPERCASE** for Constants\n",
    "    - PI = 3.14, MAX_LIMIT = 100"
   ]
  },
  {
   "cell_type": "markdown",
   "id": "c19b36da",
   "metadata": {},
   "source": [
    "### variables\n",
    "\n",
    "- Variable is a **Data Container**\n",
    "- variable is a name that =refers to a value stored in Memory"
   ]
  },
  {
   "cell_type": "code",
   "execution_count": 16,
   "id": "8214389a",
   "metadata": {},
   "outputs": [],
   "source": [
    "a = 20 "
   ]
  },
  {
   "cell_type": "code",
   "execution_count": 17,
   "id": "0b16c0b2",
   "metadata": {},
   "outputs": [],
   "source": [
    "x = 10   # integer Variable\n",
    "name = 'satyakumar'  # string variable\n",
    "price = 99.78 # float variable\n"
   ]
  },
  {
   "cell_type": "markdown",
   "id": "18f38db9",
   "metadata": {},
   "source": [
    "#### Reassigning Variables\n",
    "- You can change the value of a variable anytime "
   ]
  },
  {
   "cell_type": "code",
   "execution_count": 18,
   "id": "fda80635",
   "metadata": {},
   "outputs": [
    {
     "name": "stdout",
     "output_type": "stream",
     "text": [
      "10\n"
     ]
    }
   ],
   "source": [
    "x = 10 \n",
    "print(x)"
   ]
  },
  {
   "cell_type": "code",
   "execution_count": 19,
   "id": "07574139",
   "metadata": {},
   "outputs": [
    {
     "name": "stdout",
     "output_type": "stream",
     "text": [
      "20\n"
     ]
    }
   ],
   "source": [
    "x = 20 \n",
    "print(x)"
   ]
  },
  {
   "cell_type": "code",
   "execution_count": 20,
   "id": "9bbde661",
   "metadata": {},
   "outputs": [
    {
     "name": "stdout",
     "output_type": "stream",
     "text": [
      "python\n"
     ]
    }
   ],
   "source": [
    "x = 'python'\n",
    "print(x)"
   ]
  },
  {
   "cell_type": "markdown",
   "id": "b539c425",
   "metadata": {},
   "source": [
    "#### Multiple assignments\n",
    "- Python allows assigning multiple variables in a single line\n"
   ]
  },
  {
   "cell_type": "code",
   "execution_count": 21,
   "id": "53dff94c",
   "metadata": {},
   "outputs": [],
   "source": [
    "a, b, c = 10 ,20, 30"
   ]
  },
  {
   "cell_type": "code",
   "execution_count": 22,
   "id": "f7aa988e",
   "metadata": {},
   "outputs": [
    {
     "data": {
      "text/plain": [
       "(10, 20, 30)"
      ]
     },
     "execution_count": 22,
     "metadata": {},
     "output_type": "execute_result"
    }
   ],
   "source": [
    "a,b,c"
   ]
  },
  {
   "cell_type": "code",
   "execution_count": 23,
   "id": "53086f61",
   "metadata": {},
   "outputs": [],
   "source": [
    "x = y = z = 100"
   ]
  },
  {
   "cell_type": "code",
   "execution_count": 24,
   "id": "8f2a5ee7",
   "metadata": {},
   "outputs": [
    {
     "data": {
      "text/plain": [
       "(100, 100, 100)"
      ]
     },
     "execution_count": 24,
     "metadata": {},
     "output_type": "execute_result"
    }
   ],
   "source": [
    "x,y,x"
   ]
  },
  {
   "cell_type": "markdown",
   "id": "9975086f",
   "metadata": {},
   "source": [
    "#### variable name Rules \n",
    "- (same as Identifiers since variables are identifiers)"
   ]
  },
  {
   "cell_type": "markdown",
   "id": "e5ce112c",
   "metadata": {},
   "source": [
    "1. **Variable** = Name That refers to a value in memory\n",
    "2. **No type Declaration is Required**(python is dynamically typed)\n",
    "3. **Can reassign anytime**"
   ]
  },
  {
   "cell_type": "markdown",
   "id": "0b6433ef",
   "metadata": {},
   "source": [
    "### Data Types\n",
    "\n",
    "1. **Numeric Data Types**\n",
    "    - Integers\n",
    "    - Float\n",
    "    - Complex\n",
    "2. **Text**\n",
    "    - String\n",
    "3. **Sequence**\n",
    "    - List\n",
    "    - Tuple\n",
    "    - Set \n",
    "    - Dictionary\n",
    "    - String\n",
    "4. **set**\n",
    "    - Set \n",
    "    - Frozen Set \n",
    "5. **Boolean**\n",
    "    - True\n",
    "    - False \n",
    "6. **Mapping**\n",
    "    - Dictionary"
   ]
  },
  {
   "cell_type": "code",
   "execution_count": null,
   "id": "5daebfc3",
   "metadata": {},
   "outputs": [],
   "source": []
  }
 ],
 "metadata": {
  "kernelspec": {
   "display_name": "Python 3 (ipykernel)",
   "language": "python",
   "name": "python3"
  },
  "language_info": {
   "codemirror_mode": {
    "name": "ipython",
    "version": 3
   },
   "file_extension": ".py",
   "mimetype": "text/x-python",
   "name": "python",
   "nbconvert_exporter": "python",
   "pygments_lexer": "ipython3",
   "version": "3.10.9"
  }
 },
 "nbformat": 4,
 "nbformat_minor": 5
}
