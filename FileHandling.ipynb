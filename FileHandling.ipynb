{
 "cells": [
  {
   "cell_type": "markdown",
   "id": "b30739da-e833-48ad-80a1-c491976e7f6a",
   "metadata": {},
   "source": [
    "### File Handling\n",
    "-It allows a python program to store data permanently to a file and later retrive or modify it\n",
    "- **Example usecases:**\n",
    "  - saving user i/p\n",
    "  - Logging\n",
    "  - datasets\n",
    "  - reports\n",
    "  - configurations etc\n",
    "- **Types of operations**\n",
    "  - open\n",
    "  - close\n",
    "  - write\n",
    "  - read\n",
    "- we can save,modify,open and close,read,write files"
   ]
  },
  {
   "cell_type": "markdown",
   "id": "752ad8dc-c2ec-4bc7-8431-5ec6eb5686a6",
   "metadata": {},
   "source": [
    "#### opening a file\n",
    "Function:open()\n",
    "syntax:\n",
    "\n",
    "open(\"filename\",\"mode\")\n",
    "\n",
    "**File modes**\n",
    "- 'r'\n",
    "- 'w'\n",
    "- 'a'\n",
    "- 'x'\n",
    "- 'r+'\n"
   ]
  },
  {
   "cell_type": "code",
   "execution_count": 1,
   "id": "729f46da-53ab-479b-a597-17d8629b89e1",
   "metadata": {},
   "outputs": [
    {
     "ename": "UnsupportedOperation",
     "evalue": "not writable",
     "output_type": "error",
     "traceback": [
      "\u001b[1;31m---------------------------------------------------------------------------\u001b[0m",
      "\u001b[1;31mUnsupportedOperation\u001b[0m                      Traceback (most recent call last)",
      "Cell \u001b[1;32mIn[1], line 3\u001b[0m\n\u001b[0;32m      1\u001b[0m \u001b[38;5;28;01mwith\u001b[39;00m \u001b[38;5;28mopen\u001b[39m(\u001b[38;5;124m\"\u001b[39m\u001b[38;5;124mdata.txt\u001b[39m\u001b[38;5;124m\"\u001b[39m,\u001b[38;5;124m\"\u001b[39m\u001b[38;5;124mr\u001b[39m\u001b[38;5;124m\"\u001b[39m)\u001b[38;5;28;01mas\u001b[39;00m file:\n\u001b[0;32m      2\u001b[0m     data\u001b[38;5;241m=\u001b[39mfile\u001b[38;5;241m.\u001b[39mread()\n\u001b[1;32m----> 3\u001b[0m     file\u001b[38;5;241m.\u001b[39mwrite(\u001b[38;5;124m\"\u001b[39m\u001b[38;5;124mThois is one of a kind project\u001b[39m\u001b[38;5;124m\"\u001b[39m)\n\u001b[0;32m      4\u001b[0m     file\u001b[38;5;241m.\u001b[39mwrite(\u001b[38;5;124m\"\u001b[39m\u001b[38;5;124mplease consider selecting it\u001b[39m\u001b[38;5;124m\"\u001b[39m)\n\u001b[0;32m      5\u001b[0m     file\u001b[38;5;241m.\u001b[39mwrite(\u001b[38;5;124m\"\u001b[39m\u001b[38;5;124mIn interest of better education\u001b[39m\u001b[38;5;124m\"\u001b[39m)\n",
      "\u001b[1;31mUnsupportedOperation\u001b[0m: not writable"
     ]
    }
   ],
   "source": [
    "with open(\"data.txt\",\"r\")as file:\n",
    "    data=file.read()\n",
    "    file.write(\"Thois is one of a kind project\")\n",
    "    file.write(\"please consider selecting it\")\n",
    "    file.write(\"In interest of better education\")\n",
    "    file.save(\"data.txt\")\n",
    "    \n",
    "    \n",
    "    "
   ]
  },
  {
   "cell_type": "markdown",
   "id": "418c4fd0-6497-4eb1-97e9-0ac09e062515",
   "metadata": {},
   "source": [
    "# Assistant\n",
    "The error occurs because you're trying to write to a file that was opened in read-only mode. Additionally, there's an incorrect method call at the end.\n",
    "\n",
    "Would you like me to provide the corrected code?"
   ]
  },
  {
   "cell_type": "markdown",
   "id": "dddb9503-c81a-4095-8d16-bb4332b6e9f9",
   "metadata": {},
   "source": [
    "# User\n",
    "yes"
   ]
  },
  {
   "cell_type": "code",
   "execution_count": 6,
   "id": "10825388-1c3c-495f-af3b-5024698c4c6b",
   "metadata": {},
   "outputs": [],
   "source": [
    "# Assistant\n",
    "# Open the file in read mode first to read existing data\n",
    "with open(\"data.txt\", \"r\") as file:\n",
    "    data = file.read()\n",
    "\n",
    "# Then open the file in write mode to write new content\n",
    "with open(\"data.txt\", \"w\") as file:\n",
    "    file.write(\"Thois is one of a kind project\\n\")\n",
    "    file.write(\"please consider selecting it\\n\")\n",
    "    file.write(\"In interest of better education\\n\")\n",
    "    # Note: file.save() is not a valid method - we don't need it\n",
    "    # The file is automatically saved when the 'with' block ends"
   ]
  },
  {
   "cell_type": "code",
   "execution_count": 7,
   "id": "b9b92b0f-3cd9-4c52-a663-eaa2dc082c9f",
   "metadata": {},
   "outputs": [
    {
     "name": "stdout",
     "output_type": "stream",
     "text": [
      "Thois is one of a kind project\n",
      "please consider selecting it\n",
      "In interest of better education\n",
      "\n"
     ]
    }
   ],
   "source": [
    "with open(\"data.txt\", \"r\") as file:\n",
    "    data = file.read()\n",
    "print(data)"
   ]
  },
  {
   "cell_type": "code",
   "execution_count": 8,
   "id": "8743d38d-df71-4ffb-a6c8-3b59aabdbb36",
   "metadata": {},
   "outputs": [
    {
     "name": "stdout",
     "output_type": "stream",
     "text": [
      "Thois is one of a kind project\n",
      "\n"
     ]
    }
   ],
   "source": [
    "with open(\"data.txt\",\"r\")as file:\n",
    "    line=file.readline()\n",
    "    print(line)\n",
    "    "
   ]
  },
  {
   "cell_type": "code",
   "execution_count": 9,
   "id": "25138f81-19f1-481e-aadc-2b4784895255",
   "metadata": {},
   "outputs": [
    {
     "name": "stdout",
     "output_type": "stream",
     "text": [
      "Thois is one of a kind project\n",
      "\n",
      "please consider selecting it\n",
      "\n",
      "In interest of better education\n",
      "\n"
     ]
    }
   ],
   "source": [
    "with open(\"data.txt\",\"r\")as file:\n",
    "    line=file.readline()\n",
    "    line2=file.readline()\n",
    "    line3=file.readline()\n",
    "    print(line)\n",
    "    print(line2)\n",
    "    print(line3)\n"
   ]
  },
  {
   "cell_type": "code",
   "execution_count": 11,
   "id": "2ef71cab-1e1a-4c4a-ac6d-e23d6af655cd",
   "metadata": {},
   "outputs": [],
   "source": [
    "#appending file\n",
    "file=open(\"data.txt\",\"a\")\n",
    "file.write(\"this line was added to the file\")\n",
    "file.close()\n",
    "\n"
   ]
  },
  {
   "cell_type": "code",
   "execution_count": 12,
   "id": "8bc31a20-70b8-4ee8-8d02-cbb617ac5d94",
   "metadata": {},
   "outputs": [
    {
     "name": "stdout",
     "output_type": "stream",
     "text": [
      "Thois is one of a kind project\n",
      "please consider selecting it\n",
      "In interest of better education\n",
      "this line was added to the file\n"
     ]
    }
   ],
   "source": [
    "with open(\"data.txt\", \"r\") as file:\n",
    "    data = file.read()\n",
    "print(data)"
   ]
  },
  {
   "cell_type": "code",
   "execution_count": null,
   "id": "0bc8f23c-bd9b-45f6-99ad-d7be6398b150",
   "metadata": {},
   "outputs": [],
   "source": [
    "#remove file\n",
    "import os\n",
    "os.remove(\"data.txt\")\n",
    "print(\"file removed successfully\")\n",
    "\n",
    "          "
   ]
  },
  {
   "cell_type": "code",
   "execution_count": 15,
   "id": "52f09b4f-c028-4096-ae3e-2506be3df74f",
   "metadata": {},
   "outputs": [
    {
     "name": "stdout",
     "output_type": "stream",
     "text": [
      "Hi this is a example file\n"
     ]
    }
   ],
   "source": [
    "file=open(\"example.txt\",\"r\")\n",
    "content=file.read()\n",
    "print(content)\n",
    "file.close()"
   ]
  },
  {
   "cell_type": "code",
   "execution_count": 16,
   "id": "36382b08-e942-4181-acac-39b6c817e3a2",
   "metadata": {},
   "outputs": [],
   "source": [
    "file=open(\"example.txt\",\"w\")\n",
    "file.write(\"this example file is written\")\n",
    "file.close()"
   ]
  },
  {
   "cell_type": "code",
   "execution_count": 20,
   "id": "16aac231-0d2e-4c36-b138-7ed46ad7dcf1",
   "metadata": {},
   "outputs": [
    {
     "name": "stdout",
     "output_type": "stream",
     "text": [
      "this example file is written\n",
      " nothing deleted.this line is added\n",
      " nothing deleted.this line is added\n",
      " nothing deleted.this line is added\n",
      " nothing deleted.this line is added\n"
     ]
    }
   ],
   "source": [
    "with open(\"example.txt\",\"a+\") as file:\n",
    "    file.write(\"\\n nothing deleted.this line is added\")\n",
    "with open(\"example.txt\",\"r\") as file:\n",
    "    contentafteradded=file.read()\n",
    "    print(contentafteradded)\n",
    "    \n"
   ]
  },
  {
   "cell_type": "code",
   "execution_count": null,
   "id": "1bca5e3c-17cc-4a5d-8a40-477d4758e10d",
   "metadata": {},
   "outputs": [],
   "source": []
  }
 ],
 "metadata": {
  "kernelspec": {
   "display_name": "Python [conda env:base] *",
   "language": "python",
   "name": "conda-base-py"
  },
  "language_info": {
   "codemirror_mode": {
    "name": "ipython",
    "version": 3
   },
   "file_extension": ".py",
   "mimetype": "text/x-python",
   "name": "python",
   "nbconvert_exporter": "python",
   "pygments_lexer": "ipython3",
   "version": "3.13.5"
  }
 },
 "nbformat": 4,
 "nbformat_minor": 5
}
