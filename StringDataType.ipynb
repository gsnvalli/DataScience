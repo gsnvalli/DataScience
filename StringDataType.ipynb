{
 "cells": [
  {
   "cell_type": "markdown",
   "id": "5b30ebb5-13c8-4998-9a0c-3785984978dd",
   "metadata": {},
   "source": [
    "### String ###"
   ]
  },
  {
   "cell_type": "markdown",
   "id": "8d9f76a9-e654-437b-9b09-b742a9bdf195",
   "metadata": {},
   "source": [
    "- String is a sequence of characters written with ''/\"\"/''' '''\n",
    "- string "
   ]
  },
  {
   "cell_type": "markdown",
   "id": "147f1a00-53c7-49cc-928f-bad9ca32da37",
   "metadata": {},
   "source": [
    "- string is collection of characters or group of characters that are enclosed in '  ',\"   \",'''   '''\n",
    "- eg:\n",
    "  'python'\n",
    "  \"programmimg\"\n",
    "  '''python programmimg'''\n",
    "  "
   ]
  },
  {
   "cell_type": "code",
   "execution_count": 1,
   "id": "f63fc02b-da51-43a7-8e69-d21c90ae4f9a",
   "metadata": {},
   "outputs": [],
   "source": [
    "a='python'"
   ]
  },
  {
   "cell_type": "code",
   "execution_count": 2,
   "id": "10741fa2-256a-4897-b191-87b03fb5d266",
   "metadata": {},
   "outputs": [
    {
     "name": "stdout",
     "output_type": "stream",
     "text": [
      "python\n"
     ]
    }
   ],
   "source": [
    "print(a)\n"
   ]
  },
  {
   "cell_type": "code",
   "execution_count": 3,
   "id": "e53a6546-a4f5-4ebe-acba-eb4305166ba4",
   "metadata": {},
   "outputs": [
    {
     "data": {
      "text/plain": [
       "str"
      ]
     },
     "execution_count": 3,
     "metadata": {},
     "output_type": "execute_result"
    }
   ],
   "source": [
    "type(a)"
   ]
  },
  {
   "cell_type": "code",
   "execution_count": 4,
   "id": "66fa581c-c8a9-4bfc-acf3-63c071d9153d",
   "metadata": {},
   "outputs": [],
   "source": [
    "a=\"programming\""
   ]
  },
  {
   "cell_type": "code",
   "execution_count": 6,
   "id": "44e7285a-e2a7-486c-9c39-9e951208debc",
   "metadata": {},
   "outputs": [
    {
     "data": {
      "text/plain": [
       "str"
      ]
     },
     "execution_count": 6,
     "metadata": {},
     "output_type": "execute_result"
    }
   ],
   "source": [
    "type(a)"
   ]
  },
  {
   "cell_type": "code",
   "execution_count": 7,
   "id": "69b78103-44cf-4b3e-a037-7f9e5925b61a",
   "metadata": {},
   "outputs": [],
   "source": [
    "a='python'\n",
    "b='programming'"
   ]
  },
  {
   "cell_type": "code",
   "execution_count": 8,
   "id": "6a764b10-0ab8-4e7d-bc52-22df2bce3c92",
   "metadata": {},
   "outputs": [
    {
     "data": {
      "text/plain": [
       "'pythonprogramming'"
      ]
     },
     "execution_count": 8,
     "metadata": {},
     "output_type": "execute_result"
    }
   ],
   "source": [
    "a+b\n"
   ]
  },
  {
   "cell_type": "code",
   "execution_count": 10,
   "id": "8805ea45-e823-4797-bd30-6d290c718a85",
   "metadata": {},
   "outputs": [
    {
     "data": {
      "text/plain": [
       "'python programming'"
      ]
     },
     "execution_count": 10,
     "metadata": {},
     "output_type": "execute_result"
    }
   ],
   "source": [
    "a+' '+b\n"
   ]
  },
  {
   "cell_type": "code",
   "execution_count": 12,
   "id": "769b6e26-c70a-4ff0-8f47-c99c39fd9fd2",
   "metadata": {},
   "outputs": [],
   "source": [
    "b='python'\n"
   ]
  },
  {
   "cell_type": "code",
   "execution_count": 16,
   "id": "c9163f41-86bf-425e-b116-32c495621e38",
   "metadata": {},
   "outputs": [
    {
     "name": "stdout",
     "output_type": "stream",
     "text": [
      "pythonpythonpython\n"
     ]
    }
   ],
   "source": [
    "c=b*3 #string multiplication\n",
    "print(c)"
   ]
  },
  {
   "cell_type": "code",
   "execution_count": 17,
   "id": "6f0a76a1-4e3f-4cec-988e-e5fb024e1962",
   "metadata": {},
   "outputs": [
    {
     "name": "stdout",
     "output_type": "stream",
     "text": [
      "6\n",
      "18\n"
     ]
    }
   ],
   "source": [
    "print(len(a))\n",
    "print(len(c))"
   ]
  },
  {
   "cell_type": "markdown",
   "id": "0b78b5ee-1e3c-476e-9343-c7e8b2b47629",
   "metadata": {},
   "source": [
    "#### String as an Array ####\n",
    "- Array is a collection of homogeneous Data items\n",
    "- -A string also be treated as an array of characters and each character is string Data type\n",
    "- String Characters can be accessed by referring to their index(location) values"
   ]
  },
  {
   "cell_type": "code",
   "execution_count": 18,
   "id": "f9ed2d8f-ad0c-47c7-8ba1-53341fe8686c",
   "metadata": {},
   "outputs": [
    {
     "data": {
      "text/plain": [
       "str"
      ]
     },
     "execution_count": 18,
     "metadata": {},
     "output_type": "execute_result"
    }
   ],
   "source": [
    "a='programming'\n",
    "type(a)"
   ]
  },
  {
   "cell_type": "markdown",
   "id": "08e4f786-c80f-41f9-b04f-d657bf2abc22",
   "metadata": {},
   "source": [
    "**Accessing string Characters**\n",
    "Accessing String Characters by referring to index\n",
    "Synatax: string[index]"
   ]
  },
  {
   "cell_type": "code",
   "execution_count": 19,
   "id": "fe837c6d-95c1-4ba6-ba8a-f2b2af446f14",
   "metadata": {},
   "outputs": [
    {
     "data": {
      "text/plain": [
       "'p'"
      ]
     },
     "execution_count": 19,
     "metadata": {},
     "output_type": "execute_result"
    }
   ],
   "source": [
    "a[0]"
   ]
  },
  {
   "cell_type": "code",
   "execution_count": 20,
   "id": "56398018-688c-4a5b-8181-8f9e8d62c606",
   "metadata": {},
   "outputs": [
    {
     "data": {
      "text/plain": [
       "'a'"
      ]
     },
     "execution_count": 20,
     "metadata": {},
     "output_type": "execute_result"
    }
   ],
   "source": [
    "a[5]"
   ]
  },
  {
   "cell_type": "code",
   "execution_count": 23,
   "id": "99a46209-79ee-417e-8907-35f02e9a4bf5",
   "metadata": {},
   "outputs": [
    {
     "data": {
      "text/plain": [
       "'g'"
      ]
     },
     "execution_count": 23,
     "metadata": {},
     "output_type": "execute_result"
    }
   ],
   "source": [
    "a[-8]"
   ]
  },
  {
   "cell_type": "code",
   "execution_count": 22,
   "id": "b170478e-e186-4927-890b-2e0722f7209f",
   "metadata": {},
   "outputs": [
    {
     "data": {
      "text/plain": [
       "'o'"
      ]
     },
     "execution_count": 22,
     "metadata": {},
     "output_type": "execute_result"
    }
   ],
   "source": [
    "a[-9]"
   ]
  },
  {
   "cell_type": "markdown",
   "id": "426b7c34-fc1f-466b-ae73-a6c98eed57a8",
   "metadata": {},
   "source": [
    "#### String Slicing ####\n",
    "- Its a process of accessing a part/portion of a string by referring to range of indices"
   ]
  },
  {
   "cell_type": "code",
   "execution_count": 32,
   "id": "43ceb48c-9cee-43b7-8c93-59fb34441653",
   "metadata": {},
   "outputs": [
    {
     "data": {
      "text/plain": [
       "'pro'"
      ]
     },
     "execution_count": 32,
     "metadata": {},
     "output_type": "execute_result"
    }
   ],
   "source": [
    "a[0:3]"
   ]
  },
  {
   "cell_type": "code",
   "execution_count": 33,
   "id": "85e384ad-4a6b-4290-90be-f86a932ba115",
   "metadata": {},
   "outputs": [
    {
     "data": {
      "text/plain": [
       "'pro'"
      ]
     },
     "execution_count": 33,
     "metadata": {},
     "output_type": "execute_result"
    }
   ],
   "source": [
    "a[:3]"
   ]
  },
  {
   "cell_type": "code",
   "execution_count": 34,
   "id": "dd97ca83-f21f-474c-a2fb-83965697fc81",
   "metadata": {},
   "outputs": [
    {
     "data": {
      "text/plain": [
       "'rogr'"
      ]
     },
     "execution_count": 34,
     "metadata": {},
     "output_type": "execute_result"
    }
   ],
   "source": [
    "a[-10:-6]"
   ]
  },
  {
   "cell_type": "code",
   "execution_count": 31,
   "id": "5d58cf82-fbc2-4d96-aca4-496458a35406",
   "metadata": {},
   "outputs": [
    {
     "name": "stdout",
     "output_type": "stream",
     "text": [
      "programming\n"
     ]
    }
   ],
   "source": [
    "print(a[:len(a)]) #if we don't give the start_index means it will give the o/p from index 0 "
   ]
  },
  {
   "cell_type": "code",
   "execution_count": 35,
   "id": "bf268a45-70a1-4b98-b17e-6a87be43799f",
   "metadata": {},
   "outputs": [
    {
     "data": {
      "text/plain": [
       "'programming'"
      ]
     },
     "execution_count": 35,
     "metadata": {},
     "output_type": "execute_result"
    }
   ],
   "source": [
    "a[0:]"
   ]
  },
  {
   "cell_type": "code",
   "execution_count": 36,
   "id": "5a451dd3-3dd4-4713-98ca-95811282de05",
   "metadata": {},
   "outputs": [
    {
     "data": {
      "text/plain": [
       "'amming'"
      ]
     },
     "execution_count": 36,
     "metadata": {},
     "output_type": "execute_result"
    }
   ],
   "source": [
    "a[-6:]"
   ]
  },
  {
   "cell_type": "code",
   "execution_count": 37,
   "id": "68565bb1-3011-49ef-992e-a13f083e22b6",
   "metadata": {},
   "outputs": [
    {
     "data": {
      "text/plain": [
       "'programming'"
      ]
     },
     "execution_count": 37,
     "metadata": {},
     "output_type": "execute_result"
    }
   ],
   "source": [
    "a #print all characters"
   ]
  },
  {
   "cell_type": "code",
   "execution_count": 26,
   "id": "787284cb-8be4-4f4f-a45a-3183f69969d0",
   "metadata": {},
   "outputs": [
    {
     "name": "stdout",
     "output_type": "stream",
     "text": [
      "ramming\n"
     ]
    }
   ],
   "source": [
    "print(a[4:len(a)])"
   ]
  },
  {
   "cell_type": "markdown",
   "id": "11e15a19-7197-4e4d-9ec3-470328dbfacb",
   "metadata": {},
   "source": [
    "### step count in String Slicing ###\n",
    "- [start_index:end_index:step_count]"
   ]
  },
  {
   "cell_type": "code",
   "execution_count": 38,
   "id": "0c6f31fc-77ee-42ff-9a5a-04463587c146",
   "metadata": {},
   "outputs": [
    {
     "data": {
      "text/plain": [
       "'programming'"
      ]
     },
     "execution_count": 38,
     "metadata": {},
     "output_type": "execute_result"
    }
   ],
   "source": [
    "a[::]"
   ]
  },
  {
   "cell_type": "code",
   "execution_count": 40,
   "id": "378b916f-5483-4398-84b5-9fcae8737135",
   "metadata": {},
   "outputs": [
    {
     "name": "stdout",
     "output_type": "stream",
     "text": [
      "pormig\n"
     ]
    }
   ],
   "source": [
    "print(a[::2])"
   ]
  },
  {
   "cell_type": "code",
   "execution_count": 41,
   "id": "b861ce74-be76-4593-9dd6-4ba1c6764efe",
   "metadata": {},
   "outputs": [
    {
     "name": "stdout",
     "output_type": "stream",
     "text": [
      "gimrop\n"
     ]
    }
   ],
   "source": [
    "print(a[::-2])"
   ]
  },
  {
   "cell_type": "code",
   "execution_count": 29,
   "id": "81ed032f-a636-4965-b736-d151ab47cf56",
   "metadata": {},
   "outputs": [
    {
     "name": "stdout",
     "output_type": "stream",
     "text": [
      "mming\n"
     ]
    }
   ],
   "source": [
    "print(a[6:])"
   ]
  },
  {
   "cell_type": "code",
   "execution_count": 43,
   "id": "7e8ef6ab-ac88-4aa2-9c31-30d1063f49ad",
   "metadata": {},
   "outputs": [
    {
     "name": "stdout",
     "output_type": "stream",
     "text": [
      "gnimmargorp\n"
     ]
    }
   ],
   "source": [
    "print(a[::-1]) #the o/p witll be in reverse order"
   ]
  },
  {
   "cell_type": "markdown",
   "id": "8cc323f5-d1ee-4266-accf-eeb596a690ce",
   "metadata": {},
   "source": [
    "### String Methods ###"
   ]
  },
  {
   "cell_type": "code",
   "execution_count": 44,
   "id": "c3a83bf9-c0e6-479b-834f-0ec6abd0b836",
   "metadata": {},
   "outputs": [],
   "source": [
    "a='PROGRAMMIMG'"
   ]
  },
  {
   "cell_type": "markdown",
   "id": "39d7dd6e-2381-426f-90c8-3dde1630ba7d",
   "metadata": {},
   "source": [
    "## lower() ##"
   ]
  },
  {
   "cell_type": "code",
   "execution_count": 46,
   "id": "677c177f-ac01-4e2b-a5bc-fefea8b9be4c",
   "metadata": {},
   "outputs": [
    {
     "name": "stdout",
     "output_type": "stream",
     "text": [
      "Help on method_descriptor:\n",
      "\n",
      "lower(self, /) unbound builtins.str method\n",
      "    Return a copy of the string converted to lowercase.\n",
      "\n",
      "None\n"
     ]
    }
   ],
   "source": [
    "print(help(str.lower))"
   ]
  },
  {
   "cell_type": "code",
   "execution_count": 47,
   "id": "ceb33cf7-5c15-4b1f-9f3a-b16404ebc931",
   "metadata": {},
   "outputs": [
    {
     "data": {
      "text/plain": [
       "'programmimg'"
      ]
     },
     "execution_count": 47,
     "metadata": {},
     "output_type": "execute_result"
    }
   ],
   "source": [
    "a.lower() #applying lower() method on variable a"
   ]
  },
  {
   "cell_type": "code",
   "execution_count": 48,
   "id": "4d8e7da4-22bf-4ea9-843b-4638c0d94842",
   "metadata": {},
   "outputs": [
    {
     "name": "stdout",
     "output_type": "stream",
     "text": [
      "PROGRAMMIMG\n"
     ]
    }
   ],
   "source": [
    "print(a) # the original 'a' variable value wont change"
   ]
  },
  {
   "cell_type": "code",
   "execution_count": 49,
   "id": "ae1ece70-7927-455a-b862-75fdaa92ad29",
   "metadata": {},
   "outputs": [
    {
     "name": "stdout",
     "output_type": "stream",
     "text": [
      "programmimg\n"
     ]
    }
   ],
   "source": [
    "b=a.lower()\n",
    "print(b)"
   ]
  },
  {
   "cell_type": "code",
   "execution_count": 50,
   "id": "4719fecd-e962-474c-9e06-20e265635988",
   "metadata": {},
   "outputs": [
    {
     "data": {
      "text/plain": [
       "'programming'"
      ]
     },
     "execution_count": 50,
     "metadata": {},
     "output_type": "execute_result"
    }
   ],
   "source": [
    "a='PRogRammING' #mix of lower and upper\n",
    "a.lower()"
   ]
  },
  {
   "cell_type": "markdown",
   "id": "9fef3c9c-d105-442f-8e42-7f04e63755bc",
   "metadata": {},
   "source": [
    "## upper() ##"
   ]
  },
  {
   "cell_type": "code",
   "execution_count": 51,
   "id": "e173837e-6005-40e7-b4bc-b6634efc9066",
   "metadata": {},
   "outputs": [
    {
     "name": "stdout",
     "output_type": "stream",
     "text": [
      "Help on method_descriptor:\n",
      "\n",
      "upper(self, /) unbound builtins.str method\n",
      "    Return a copy of the string converted to uppercase.\n",
      "\n",
      "None\n"
     ]
    }
   ],
   "source": [
    "print(help(str.upper))"
   ]
  },
  {
   "cell_type": "code",
   "execution_count": 52,
   "id": "55e4efae-8c30-4855-a484-b0e742708075",
   "metadata": {},
   "outputs": [
    {
     "data": {
      "text/plain": [
       "'PROGRAMMIMG'"
      ]
     },
     "execution_count": 52,
     "metadata": {},
     "output_type": "execute_result"
    }
   ],
   "source": [
    "b.upper()"
   ]
  },
  {
   "cell_type": "code",
   "execution_count": 53,
   "id": "6a5bc4f7-4a9d-44b8-986c-8aec9134a7c6",
   "metadata": {},
   "outputs": [
    {
     "name": "stdout",
     "output_type": "stream",
     "text": [
      "PRogRammING PROGRAMMING\n"
     ]
    }
   ],
   "source": [
    "print(a,a.upper())"
   ]
  },
  {
   "cell_type": "markdown",
   "id": "295e0410-6b55-4097-9170-d165b96b69f1",
   "metadata": {},
   "source": [
    "### capitalize() ###\n",
    "- the first charcter of string will conver into capital and rest will be in lower case"
   ]
  },
  {
   "cell_type": "code",
   "execution_count": 54,
   "id": "40564534-1437-4f72-9ea7-4dc8ed83e8f3",
   "metadata": {},
   "outputs": [
    {
     "name": "stdout",
     "output_type": "stream",
     "text": [
      "Help on method_descriptor:\n",
      "\n",
      "capitalize(self, /) unbound builtins.str method\n",
      "    Return a capitalized version of the string.\n",
      "\n",
      "    More specifically, make the first character have upper case and the rest lower\n",
      "    case.\n",
      "\n",
      "None\n"
     ]
    }
   ],
   "source": [
    "print(help(str.capitalize))"
   ]
  },
  {
   "cell_type": "code",
   "execution_count": 55,
   "id": "253438bb-3e29-474a-9b45-35976954250d",
   "metadata": {},
   "outputs": [
    {
     "data": {
      "text/plain": [
       "'Programming'"
      ]
     },
     "execution_count": 55,
     "metadata": {},
     "output_type": "execute_result"
    }
   ],
   "source": [
    "a='programming'\n",
    "a.capitalize()\n"
   ]
  },
  {
   "cell_type": "code",
   "execution_count": 56,
   "id": "1268fe67-ef12-44a4-9109-4c1d59a66e10",
   "metadata": {},
   "outputs": [
    {
     "data": {
      "text/plain": [
       "'Programming'"
      ]
     },
     "execution_count": 56,
     "metadata": {},
     "output_type": "execute_result"
    }
   ],
   "source": [
    "a='pROgraMMinG'\n",
    "a.capitalize()"
   ]
  },
  {
   "cell_type": "code",
   "execution_count": 58,
   "id": "1f4bc4d9-c0b4-4fbb-a4b9-00b46aa31a9d",
   "metadata": {},
   "outputs": [
    {
     "data": {
      "text/plain": [
       "'Python is a programming language'"
      ]
     },
     "execution_count": 58,
     "metadata": {},
     "output_type": "execute_result"
    }
   ],
   "source": [
    "a='python is a programming language'\n",
    "a.capitalize()"
   ]
  },
  {
   "cell_type": "markdown",
   "id": "69c27897-9511-4a36-b2df-ca20259d69fc",
   "metadata": {},
   "source": [
    "## title() ##\n",
    "- the first character of each word in string convert into capital and remaing will be lower"
   ]
  },
  {
   "cell_type": "code",
   "execution_count": 60,
   "id": "2b979ad6-c04d-46be-8edf-843177f7f4ba",
   "metadata": {},
   "outputs": [
    {
     "name": "stdout",
     "output_type": "stream",
     "text": [
      "Help on method_descriptor:\n",
      "\n",
      "title(self, /) unbound builtins.str method\n",
      "    Return a version of the string where each word is titlecased.\n",
      "\n",
      "    More specifically, words start with uppercased characters and all remaining\n",
      "    cased characters have lower case.\n",
      "\n",
      "None\n"
     ]
    }
   ],
   "source": [
    "print(help(str.title))"
   ]
  },
  {
   "cell_type": "code",
   "execution_count": 61,
   "id": "3b231431-2509-4671-88c3-4637d9cf5c6a",
   "metadata": {},
   "outputs": [
    {
     "data": {
      "text/plain": [
       "'Python Programming'"
      ]
     },
     "execution_count": 61,
     "metadata": {},
     "output_type": "execute_result"
    }
   ],
   "source": [
    "a='python programming'\n",
    "a.title()"
   ]
  },
  {
   "cell_type": "code",
   "execution_count": 62,
   "id": "51733e3b-cbe0-43c0-a749-09b73c856aef",
   "metadata": {},
   "outputs": [
    {
     "data": {
      "text/plain": [
       "'Python Programming'"
      ]
     },
     "execution_count": 62,
     "metadata": {},
     "output_type": "execute_result"
    }
   ],
   "source": [
    "a='pYthON proGRAmmIng'\n",
    "a.title()"
   ]
  },
  {
   "cell_type": "code",
   "execution_count": 63,
   "id": "5ce457a3-baf7-4fb1-8e9d-1d22015673d2",
   "metadata": {},
   "outputs": [
    {
     "data": {
      "text/plain": [
       "'Python Programming Is A Good Programming Language'"
      ]
     },
     "execution_count": 63,
     "metadata": {},
     "output_type": "execute_result"
    }
   ],
   "source": [
    "a='python programming is a good programming language'\n",
    "a.title()"
   ]
  },
  {
   "cell_type": "markdown",
   "id": "31563b0a-6bd4-4bdb-bdc0-ea087a035f37",
   "metadata": {},
   "source": [
    "## index() ##\n",
    "- returns index value which is lower index of substring"
   ]
  },
  {
   "cell_type": "code",
   "execution_count": 64,
   "id": "3b9aab3b-b37a-4685-87ea-17d79c807812",
   "metadata": {},
   "outputs": [
    {
     "name": "stdout",
     "output_type": "stream",
     "text": [
      "Help on method_descriptor:\n",
      "\n",
      "index(self, sub[, start[, end]], /) unbound builtins.str method\n",
      "    Return the lowest index in S where substring sub is found, such that sub is contained within S[start:end].\n",
      "\n",
      "    Optional arguments start and end are interpreted as in slice notation.\n",
      "    Raises ValueError when the substring is not found.\n",
      "\n",
      "None\n"
     ]
    }
   ],
   "source": [
    "print(help(str.index))"
   ]
  },
  {
   "cell_type": "code",
   "execution_count": 65,
   "id": "d0e8977d-6f24-40ca-980c-c29bd7bcdedd",
   "metadata": {},
   "outputs": [
    {
     "data": {
      "text/plain": [
       "1"
      ]
     },
     "execution_count": 65,
     "metadata": {},
     "output_type": "execute_result"
    }
   ],
   "source": [
    "a='programming'\n",
    "a.index('r')"
   ]
  },
  {
   "cell_type": "code",
   "execution_count": 66,
   "id": "96cf9ec2-b8bd-41ac-b761-2c084e95dca0",
   "metadata": {},
   "outputs": [
    {
     "name": "stdout",
     "output_type": "stream",
     "text": [
      "m index is: 6\n",
      "g index is : 3\n"
     ]
    }
   ],
   "source": [
    "print('m index is:',a.index('m'))\n",
    "\n",
    "print('g index is :',a.index('g'))"
   ]
  },
  {
   "cell_type": "code",
   "execution_count": 67,
   "id": "4a31e710-81a7-4412-b391-2c798f168053",
   "metadata": {},
   "outputs": [
    {
     "data": {
      "text/plain": [
       "0"
      ]
     },
     "execution_count": 67,
     "metadata": {},
     "output_type": "execute_result"
    }
   ],
   "source": [
    "a.index('p')"
   ]
  },
  {
   "cell_type": "code",
   "execution_count": 70,
   "id": "9ebd717b-9e0a-4fd1-94b5-cda563d19422",
   "metadata": {},
   "outputs": [
    {
     "data": {
      "text/plain": [
       "6"
      ]
     },
     "execution_count": 70,
     "metadata": {},
     "output_type": "execute_result"
    }
   ],
   "source": [
    "a='python programming' # the index where the space is\n",
    "a.index(' ')"
   ]
  },
  {
   "cell_type": "code",
   "execution_count": 71,
   "id": "4cc65989-3103-4213-9a2c-b28889c34f55",
   "metadata": {},
   "outputs": [
    {
     "ename": "ValueError",
     "evalue": "substring not found",
     "output_type": "error",
     "traceback": [
      "\u001b[1;31m---------------------------------------------------------------------------\u001b[0m",
      "\u001b[1;31mValueError\u001b[0m                                Traceback (most recent call last)",
      "Cell \u001b[1;32mIn[71], line 1\u001b[0m\n\u001b[1;32m----> 1\u001b[0m a\u001b[38;5;241m.\u001b[39mindex(\u001b[38;5;124m'\u001b[39m\u001b[38;5;124mX\u001b[39m\u001b[38;5;124m'\u001b[39m)\n",
      "\u001b[1;31mValueError\u001b[0m: substring not found"
     ]
    }
   ],
   "source": [
    "a.index('X')"
   ]
  },
  {
   "cell_type": "markdown",
   "id": "26e9e175-6b90-44c6-8754-f8266d666972",
   "metadata": {},
   "source": [
    "- Here i have one  in index spacing in string \n",
    "\n",
    "If i have a string with 3 spaces \n",
    "\n",
    "How can we retrieve 3 spaces in string is it possible !"
   ]
  },
  {
   "cell_type": "code",
   "execution_count": 79,
   "id": "0a2fefa9-2602-47de-8d9f-891a1ac2e3c7",
   "metadata": {},
   "outputs": [
    {
     "name": "stdout",
     "output_type": "stream",
     "text": [
      "6\n",
      "6\n",
      "6\n",
      "6\n"
     ]
    }
   ],
   "source": [
    "S='python is good progamming lang'\n",
    "for index,char in enumerate(S):\n",
    "    if char==' ':\n",
    "        print(S.index(char))"
   ]
  },
  {
   "cell_type": "markdown",
   "id": "07cef8af-b018-4758-99a7-6f4439e44ff3",
   "metadata": {},
   "source": [
    "#### rindex() ####\n",
    "- returns highest index of substring"
   ]
  },
  {
   "cell_type": "code",
   "execution_count": 73,
   "id": "e1aea82b-2433-4194-9509-18d1c882215d",
   "metadata": {},
   "outputs": [
    {
     "name": "stdout",
     "output_type": "stream",
     "text": [
      "Help on method_descriptor:\n",
      "\n",
      "rindex(self, sub[, start[, end]], /) unbound builtins.str method\n",
      "    Return the highest index in S where substring sub is found, such that sub is contained within S[start:end].\n",
      "\n",
      "    Optional arguments start and end are interpreted as in slice notation.\n",
      "    Raises ValueError when the substring is not found.\n",
      "\n",
      "None\n"
     ]
    }
   ],
   "source": [
    "print(help(str.rindex))\n"
   ]
  },
  {
   "cell_type": "code",
   "execution_count": 77,
   "id": "ae211e3c-124b-43a3-94cf-e03d1d984d7d",
   "metadata": {},
   "outputs": [
    {
     "data": {
      "text/plain": [
       "7"
      ]
     },
     "execution_count": 77,
     "metadata": {},
     "output_type": "execute_result"
    }
   ],
   "source": [
    "a='programming'\n",
    "a.rindex('m')"
   ]
  },
  {
   "cell_type": "code",
   "execution_count": 78,
   "id": "90d32e78-7da9-4d80-8061-aed4fc23ea58",
   "metadata": {},
   "outputs": [
    {
     "data": {
      "text/plain": [
       "21"
      ]
     },
     "execution_count": 78,
     "metadata": {},
     "output_type": "execute_result"
    }
   ],
   "source": [
    "S.rindex('m')"
   ]
  },
  {
   "cell_type": "markdown",
   "id": "b20bd20b-8786-4b13-8fa3-c1534f766886",
   "metadata": {},
   "source": [
    "## find() ##"
   ]
  },
  {
   "cell_type": "code",
   "execution_count": 80,
   "id": "1eb2ca0e-cb5f-4742-ae35-35ccc96d5199",
   "metadata": {},
   "outputs": [
    {
     "name": "stdout",
     "output_type": "stream",
     "text": [
      "Help on method_descriptor:\n",
      "\n",
      "find(self, sub[, start[, end]], /) unbound builtins.str method\n",
      "    Return the lowest index in S where substring sub is found, such that sub is contained within S[start:end].\n",
      "\n",
      "    Optional arguments start and end are interpreted as in slice notation.\n",
      "    Return -1 on failure.\n",
      "\n",
      "None\n"
     ]
    }
   ],
   "source": [
    "print(help(str.find))"
   ]
  },
  {
   "cell_type": "code",
   "execution_count": 81,
   "id": "3319171c-481f-4c37-9c70-c87ef8f1ee20",
   "metadata": {},
   "outputs": [
    {
     "data": {
      "text/plain": [
       "6"
      ]
     },
     "execution_count": 81,
     "metadata": {},
     "output_type": "execute_result"
    }
   ],
   "source": [
    "a.find('m')\n"
   ]
  },
  {
   "cell_type": "code",
   "execution_count": 82,
   "id": "5bd86960-08aa-48f3-96fa-00cf367f4aa6",
   "metadata": {},
   "outputs": [
    {
     "data": {
      "text/plain": [
       "-1"
      ]
     },
     "execution_count": 82,
     "metadata": {},
     "output_type": "execute_result"
    }
   ],
   "source": [
    "a.find('X')\n"
   ]
  },
  {
   "cell_type": "markdown",
   "id": "a01cad36-4891-4021-9306-03f28ca9b469",
   "metadata": {},
   "source": [
    "## rfind() ##"
   ]
  },
  {
   "cell_type": "code",
   "execution_count": 83,
   "id": "22ba1b25-bbb8-4423-b517-1f59da3df463",
   "metadata": {},
   "outputs": [
    {
     "data": {
      "text/plain": [
       "'programming'"
      ]
     },
     "execution_count": 83,
     "metadata": {},
     "output_type": "execute_result"
    }
   ],
   "source": [
    "a"
   ]
  },
  {
   "cell_type": "code",
   "execution_count": 84,
   "id": "ea8fd323-a114-4c62-939a-ba4450c43390",
   "metadata": {},
   "outputs": [
    {
     "data": {
      "text/plain": [
       "7"
      ]
     },
     "execution_count": 84,
     "metadata": {},
     "output_type": "execute_result"
    }
   ],
   "source": [
    "a.rfind('m')"
   ]
  },
  {
   "cell_type": "code",
   "execution_count": 86,
   "id": "3e7b9244-3959-47fb-abd5-be2d0db2d537",
   "metadata": {},
   "outputs": [
    {
     "data": {
      "text/plain": [
       "4"
      ]
     },
     "execution_count": 86,
     "metadata": {},
     "output_type": "execute_result"
    }
   ],
   "source": [
    "a.rfind('r')"
   ]
  },
  {
   "cell_type": "code",
   "execution_count": 87,
   "id": "5c7d8740-5737-44c4-8991-f5aeb94255c2",
   "metadata": {},
   "outputs": [
    {
     "data": {
      "text/plain": [
       "-1"
      ]
     },
     "execution_count": 87,
     "metadata": {},
     "output_type": "execute_result"
    }
   ],
   "source": [
    "a.rfind('Q') #returns -1 if Q is not in string"
   ]
  },
  {
   "cell_type": "markdown",
   "id": "c9eaa0ad-376d-4e37-99e2-4c9c36c21986",
   "metadata": {},
   "source": [
    "#### startswith() ####"
   ]
  },
  {
   "cell_type": "code",
   "execution_count": 89,
   "id": "91730e2a-f722-46d9-9b56-2a2cb84d6393",
   "metadata": {},
   "outputs": [
    {
     "name": "stdout",
     "output_type": "stream",
     "text": [
      "Help on method_descriptor:\n",
      "\n",
      "startswith(self, prefix[, start[, end]], /) unbound builtins.str method\n",
      "    Return True if the string starts with the specified prefix, False otherwise.\n",
      "\n",
      "    prefix\n",
      "      A string or a tuple of strings to try.\n",
      "    start\n",
      "      Optional start position. Default: start of the string.\n",
      "    end\n",
      "      Optional stop position. Default: end of the string.\n",
      "\n",
      "None\n"
     ]
    }
   ],
   "source": [
    "print(help(str.startswith))"
   ]
  },
  {
   "cell_type": "code",
   "execution_count": 90,
   "id": "37be7b74-beda-471a-b1f4-d3cb08a6996e",
   "metadata": {},
   "outputs": [
    {
     "data": {
      "text/plain": [
       "'programming'"
      ]
     },
     "execution_count": 90,
     "metadata": {},
     "output_type": "execute_result"
    }
   ],
   "source": [
    "a"
   ]
  },
  {
   "cell_type": "code",
   "execution_count": 91,
   "id": "32217751-98e2-4009-9f83-9e7dd25ff528",
   "metadata": {},
   "outputs": [
    {
     "data": {
      "text/plain": [
       "True"
      ]
     },
     "execution_count": 91,
     "metadata": {},
     "output_type": "execute_result"
    }
   ],
   "source": [
    "a.startswith('p')"
   ]
  },
  {
   "cell_type": "code",
   "execution_count": 92,
   "id": "25e458fe-430d-4e30-b5d0-95d3dc36cee7",
   "metadata": {},
   "outputs": [
    {
     "data": {
      "text/plain": [
       "True"
      ]
     },
     "execution_count": 92,
     "metadata": {},
     "output_type": "execute_result"
    }
   ],
   "source": [
    "a.startswith('pro')\n"
   ]
  },
  {
   "cell_type": "code",
   "execution_count": 93,
   "id": "7fc0d19b-23a4-4da9-bbdf-ced2905a589b",
   "metadata": {},
   "outputs": [
    {
     "data": {
      "text/plain": [
       "False"
      ]
     },
     "execution_count": 93,
     "metadata": {},
     "output_type": "execute_result"
    }
   ],
   "source": [
    "a.startswith('py')"
   ]
  },
  {
   "cell_type": "code",
   "execution_count": 94,
   "id": "d3561d30-36a3-4682-a919-f50a7940c48d",
   "metadata": {},
   "outputs": [],
   "source": [
    "a='python programming'"
   ]
  },
  {
   "cell_type": "code",
   "execution_count": 101,
   "id": "d15a965b-03f3-45bc-ba82-b3be45f4e6ac",
   "metadata": {},
   "outputs": [
    {
     "data": {
      "text/plain": [
       "True"
      ]
     },
     "execution_count": 101,
     "metadata": {},
     "output_type": "execute_result"
    }
   ],
   "source": [
    "a.startswith('p',7) #7 is the start index of substring"
   ]
  },
  {
   "cell_type": "code",
   "execution_count": 105,
   "id": "7fa1e218-e84b-425a-8323-9cced4515a38",
   "metadata": {},
   "outputs": [
    {
     "data": {
      "text/plain": [
       "True"
      ]
     },
     "execution_count": 105,
     "metadata": {},
     "output_type": "execute_result"
    }
   ],
   "source": [
    "a.startswith('rogr',8,12) # substring start index 8 and end index 12"
   ]
  },
  {
   "cell_type": "code",
   "execution_count": null,
   "id": "93c52f88-7fab-4e78-a693-eee7b4bc2446",
   "metadata": {},
   "outputs": [],
   "source": [
    "a.startswith('rogr',8,11)"
   ]
  },
  {
   "cell_type": "markdown",
   "id": "17e5cf78-3922-473c-aa66-6987b48147e8",
   "metadata": {},
   "source": [
    "#### endswith() ####"
   ]
  },
  {
   "cell_type": "code",
   "execution_count": 95,
   "id": "29014bcb-0720-4b24-992b-356950a6f09a",
   "metadata": {},
   "outputs": [
    {
     "name": "stdout",
     "output_type": "stream",
     "text": [
      "Help on method_descriptor:\n",
      "\n",
      "endswith(self, suffix[, start[, end]], /) unbound builtins.str method\n",
      "    Return True if the string ends with the specified suffix, False otherwise.\n",
      "\n",
      "    suffix\n",
      "      A string or a tuple of strings to try.\n",
      "    start\n",
      "      Optional start position. Default: start of the string.\n",
      "    end\n",
      "      Optional stop position. Default: end of the string.\n",
      "\n",
      "None\n"
     ]
    }
   ],
   "source": [
    "print(help(str.endswith))"
   ]
  },
  {
   "cell_type": "code",
   "execution_count": 96,
   "id": "2b1bd3b0-36fa-49c2-b972-d0f8171bf54b",
   "metadata": {},
   "outputs": [
    {
     "data": {
      "text/plain": [
       "'python programming'"
      ]
     },
     "execution_count": 96,
     "metadata": {},
     "output_type": "execute_result"
    }
   ],
   "source": [
    "a"
   ]
  },
  {
   "cell_type": "code",
   "execution_count": 97,
   "id": "a100f6f2-8e80-4eac-8b7e-d1e897117e83",
   "metadata": {},
   "outputs": [
    {
     "data": {
      "text/plain": [
       "True"
      ]
     },
     "execution_count": 97,
     "metadata": {},
     "output_type": "execute_result"
    }
   ],
   "source": [
    "a.endswith('programming')\n"
   ]
  },
  {
   "cell_type": "code",
   "execution_count": 98,
   "id": "716f51cd-03dc-44ef-8066-daf5143b45d3",
   "metadata": {},
   "outputs": [
    {
     "data": {
      "text/plain": [
       "True"
      ]
     },
     "execution_count": 98,
     "metadata": {},
     "output_type": "execute_result"
    }
   ],
   "source": [
    "a.endswith('ng')"
   ]
  },
  {
   "cell_type": "code",
   "execution_count": 100,
   "id": "2b291327-ae5c-4bac-a23b-4a8825806ea2",
   "metadata": {},
   "outputs": [
    {
     "data": {
      "text/plain": [
       "False"
      ]
     },
     "execution_count": 100,
     "metadata": {},
     "output_type": "execute_result"
    }
   ],
   "source": [
    "a.endswith('abc')"
   ]
  },
  {
   "cell_type": "markdown",
   "id": "17d5a28a-93c8-4f8d-af81-72bed5a77f11",
   "metadata": {},
   "source": [
    "### replace() ###\n",
    "- Its a method to replace characters in the string"
   ]
  },
  {
   "cell_type": "code",
   "execution_count": 106,
   "id": "fa90a1ce-3689-45a7-bad3-6ba4b239f7d1",
   "metadata": {},
   "outputs": [
    {
     "name": "stdout",
     "output_type": "stream",
     "text": [
      "Help on method_descriptor:\n",
      "\n",
      "replace(self, old, new, /, count=-1) unbound builtins.str method\n",
      "    Return a copy with all occurrences of substring old replaced by new.\n",
      "\n",
      "      count\n",
      "        Maximum number of occurrences to replace.\n",
      "        -1 (the default value) means replace all occurrences.\n",
      "\n",
      "    If the optional argument count is given, only the first count occurrences are\n",
      "    replaced.\n",
      "\n",
      "None\n"
     ]
    }
   ],
   "source": [
    "print(help(str.replace))"
   ]
  },
  {
   "cell_type": "code",
   "execution_count": 107,
   "id": "5b856809-7e97-456f-981e-b2d24c06dc62",
   "metadata": {},
   "outputs": [],
   "source": [
    "a='programming'\n"
   ]
  },
  {
   "cell_type": "code",
   "execution_count": 108,
   "id": "299377cf-d102-4bb4-80f7-c06358d8e615",
   "metadata": {},
   "outputs": [
    {
     "data": {
      "text/plain": [
       "'programming'"
      ]
     },
     "execution_count": 108,
     "metadata": {},
     "output_type": "execute_result"
    }
   ],
   "source": [
    "a"
   ]
  },
  {
   "cell_type": "code",
   "execution_count": 109,
   "id": "d3f9f9c6-16db-4f7d-81eb-146522d10831",
   "metadata": {},
   "outputs": [
    {
     "data": {
      "text/plain": [
       "'programming'"
      ]
     },
     "execution_count": 109,
     "metadata": {},
     "output_type": "execute_result"
    }
   ],
   "source": [
    "a.replace('p','j')\n",
    "a"
   ]
  },
  {
   "cell_type": "code",
   "execution_count": 111,
   "id": "68b82ca3-f891-4439-bc77-ae4d7efc3f7e",
   "metadata": {},
   "outputs": [
    {
     "data": {
      "text/plain": [
       "'jython jrogramming'"
      ]
     },
     "execution_count": 111,
     "metadata": {},
     "output_type": "execute_result"
    }
   ],
   "source": [
    "a='python programming'\n",
    "a.replace('p','j')"
   ]
  },
  {
   "cell_type": "code",
   "execution_count": 112,
   "id": "e4d10865-73d8-4ef1-bb78-70fb4d5d6c9f",
   "metadata": {},
   "outputs": [],
   "source": [
    "a='python is good, python is popular, python is easy programming Lang'"
   ]
  },
  {
   "cell_type": "code",
   "execution_count": 113,
   "id": "0e11c420-f231-4a77-a7ae-29d526737ae1",
   "metadata": {},
   "outputs": [
    {
     "data": {
      "text/plain": [
       "'java is good, java is popular, java is easy programming Lang'"
      ]
     },
     "execution_count": 113,
     "metadata": {},
     "output_type": "execute_result"
    }
   ],
   "source": [
    "a.replace('python','java')"
   ]
  },
  {
   "cell_type": "code",
   "execution_count": 115,
   "id": "768c32fc-2a5a-47a7-b1bd-39df178c85f1",
   "metadata": {},
   "outputs": [
    {
     "data": {
      "text/plain": [
       "'java is good, python is popular, python is easy programming Lang'"
      ]
     },
     "execution_count": 115,
     "metadata": {},
     "output_type": "execute_result"
    }
   ],
   "source": [
    "a.replace('python','java',1)"
   ]
  },
  {
   "cell_type": "code",
   "execution_count": 116,
   "id": "fe42881d-f824-4aaa-b47e-e35781790491",
   "metadata": {},
   "outputs": [
    {
     "data": {
      "text/plain": [
       "'java is good, java is popular, python is easy programming Lang'"
      ]
     },
     "execution_count": 116,
     "metadata": {},
     "output_type": "execute_result"
    }
   ],
   "source": [
    "a.replace('python','java',2)"
   ]
  },
  {
   "cell_type": "code",
   "execution_count": 117,
   "id": "dfcfe834-1be3-4d0c-a5bf-e6a83af91f21",
   "metadata": {},
   "outputs": [
    {
     "data": {
      "text/plain": [
       "'cython'"
      ]
     },
     "execution_count": 117,
     "metadata": {},
     "output_type": "execute_result"
    }
   ],
   "source": [
    "a='python'\n",
    "a.replace('p','c')"
   ]
  },
  {
   "cell_type": "markdown",
   "id": "9700c29e-c7ac-490b-a6b9-8890588b666c",
   "metadata": {},
   "source": [
    "### split() ###"
   ]
  },
  {
   "cell_type": "code",
   "execution_count": 118,
   "id": "7a3ed542-aeca-4a7f-be17-8bb01e247997",
   "metadata": {},
   "outputs": [
    {
     "name": "stdout",
     "output_type": "stream",
     "text": [
      "Help on method_descriptor:\n",
      "\n",
      "split(self, /, sep=None, maxsplit=-1) unbound builtins.str method\n",
      "    Return a list of the substrings in the string, using sep as the separator string.\n",
      "\n",
      "      sep\n",
      "        The separator used to split the string.\n",
      "\n",
      "        When set to None (the default value), will split on any whitespace\n",
      "        character (including \\n \\r \\t \\f and spaces) and will discard\n",
      "        empty strings from the result.\n",
      "      maxsplit\n",
      "        Maximum number of splits.\n",
      "        -1 (the default value) means no limit.\n",
      "\n",
      "    Splitting starts at the front of the string and works to the end.\n",
      "\n",
      "    Note, str.split() is mainly useful for data that has been intentionally\n",
      "    delimited.  With natural text that includes punctuation, consider using\n",
      "    the regular expression module.\n",
      "\n",
      "None\n"
     ]
    }
   ],
   "source": [
    "print(help(str.split))"
   ]
  },
  {
   "cell_type": "code",
   "execution_count": 119,
   "id": "e331f0c0-e640-4f4b-b49d-47b60f47f862",
   "metadata": {},
   "outputs": [],
   "source": [
    "a='python is good programming language'"
   ]
  },
  {
   "cell_type": "code",
   "execution_count": 120,
   "id": "a3f63603-f632-4320-bb3d-ad2895022adf",
   "metadata": {},
   "outputs": [
    {
     "data": {
      "text/plain": [
       "['python', 'is', 'good', 'programming', 'language']"
      ]
     },
     "execution_count": 120,
     "metadata": {},
     "output_type": "execute_result"
    }
   ],
   "source": [
    "a.split()"
   ]
  },
  {
   "cell_type": "code",
   "execution_count": 121,
   "id": "2ca5033f-4204-4ffc-ab65-5d97d0690234",
   "metadata": {},
   "outputs": [],
   "source": [
    "a='python@good@easy'"
   ]
  },
  {
   "cell_type": "code",
   "execution_count": 125,
   "id": "a3b7e129-f3c7-481f-86df-36a64e0430d5",
   "metadata": {},
   "outputs": [
    {
     "data": {
      "text/plain": [
       "['python', 'good', 'easy']"
      ]
     },
     "execution_count": 125,
     "metadata": {},
     "output_type": "execute_result"
    }
   ],
   "source": [
    "a.split('@')"
   ]
  },
  {
   "cell_type": "code",
   "execution_count": 126,
   "id": "16b12b21-4f1a-4368-9e81-46dcc35798d4",
   "metadata": {},
   "outputs": [],
   "source": [
    "a='python/is/good/programming/language'"
   ]
  },
  {
   "cell_type": "code",
   "execution_count": 127,
   "id": "38d0d54c-32e3-4b60-8df0-736d377accd8",
   "metadata": {},
   "outputs": [
    {
     "data": {
      "text/plain": [
       "['python', 'is', 'good', 'programming', 'language']"
      ]
     },
     "execution_count": 127,
     "metadata": {},
     "output_type": "execute_result"
    }
   ],
   "source": [
    "a.split('/')"
   ]
  },
  {
   "cell_type": "code",
   "execution_count": 128,
   "id": "98495f2c-2999-4240-ad84-585313294d9b",
   "metadata": {},
   "outputs": [],
   "source": [
    "a='python is good programming language'"
   ]
  },
  {
   "cell_type": "code",
   "execution_count": 129,
   "id": "5610d89d-2f90-42be-8691-3681e6a5dcb8",
   "metadata": {},
   "outputs": [
    {
     "data": {
      "text/plain": [
       "['python is good progr', 'mming l', 'ngu', 'ge']"
      ]
     },
     "execution_count": 129,
     "metadata": {},
     "output_type": "execute_result"
    }
   ],
   "source": [
    "a.split('a')  #we can give character as a separator"
   ]
  },
  {
   "cell_type": "code",
   "execution_count": 130,
   "id": "3659b8ff-1226-4a3b-9987-53d26b20eb81",
   "metadata": {},
   "outputs": [],
   "source": [
    "a='programming'\n"
   ]
  },
  {
   "cell_type": "code",
   "execution_count": 131,
   "id": "0308d66e-12a3-4914-81e1-b8a3935ea783",
   "metadata": {},
   "outputs": [
    {
     "data": {
      "text/plain": [
       "['progr', 'mming']"
      ]
     },
     "execution_count": 131,
     "metadata": {},
     "output_type": "execute_result"
    }
   ],
   "source": [
    "a.split('a')"
   ]
  },
  {
   "cell_type": "code",
   "execution_count": 134,
   "id": "fe65a8b1-7c59-4771-b9fa-20c4ba5a6267",
   "metadata": {},
   "outputs": [
    {
     "data": {
      "text/plain": [
       "['', 'rogramming']"
      ]
     },
     "execution_count": 134,
     "metadata": {},
     "output_type": "execute_result"
    }
   ],
   "source": [
    "a.split('p') #if the separator is your begining at ur string it returns empty string as first string"
   ]
  },
  {
   "cell_type": "code",
   "execution_count": 133,
   "id": "8f7f2731-ff26-4a93-b699-4c9f64c64823",
   "metadata": {},
   "outputs": [
    {
     "data": {
      "text/plain": [
       "['pro', 'rammin', '']"
      ]
     },
     "execution_count": 133,
     "metadata": {},
     "output_type": "execute_result"
    }
   ],
   "source": [
    "a.split('g #if the separator is your ending at ur string"
   ]
  },
  {
   "cell_type": "code",
   "execution_count": 135,
   "id": "537ab967-d5bb-4da6-b6a7-5e8dd98bfe16",
   "metadata": {},
   "outputs": [
    {
     "data": {
      "text/plain": [
       "['progra', '', 'ing']"
      ]
     },
     "execution_count": 135,
     "metadata": {},
     "output_type": "execute_result"
    }
   ],
   "source": [
    "a.split('m')"
   ]
  },
  {
   "cell_type": "code",
   "execution_count": 136,
   "id": "331d4091-6f13-4a6b-b288-d280415162df",
   "metadata": {},
   "outputs": [
    {
     "data": {
      "text/plain": [
       "['progra', '', '', '', '', 'ing']"
      ]
     },
     "execution_count": 136,
     "metadata": {},
     "output_type": "execute_result"
    }
   ],
   "source": [
    "a='programmmmming'\n",
    "a.split('m')"
   ]
  },
  {
   "cell_type": "markdown",
   "id": "443ca317-4aee-429b-8dc2-37247bfa6e3f",
   "metadata": {},
   "source": [
    "## join() ##\n",
    "- its concatenate any no of/ multiple strings"
   ]
  },
  {
   "cell_type": "code",
   "execution_count": 137,
   "id": "631ea3a7-e713-47a9-87fb-38bf05cfa718",
   "metadata": {},
   "outputs": [
    {
     "name": "stdout",
     "output_type": "stream",
     "text": [
      "Help on method_descriptor:\n",
      "\n",
      "join(self, iterable, /) unbound builtins.str method\n",
      "    Concatenate any number of strings.\n",
      "\n",
      "    The string whose method is called is inserted in between each given string.\n",
      "    The result is returned as a new string.\n",
      "\n",
      "    Example: '.'.join(['ab', 'pq', 'rs']) -> 'ab.pq.rs'\n",
      "\n",
      "None\n"
     ]
    }
   ],
   "source": [
    "print(help(str.join))"
   ]
  },
  {
   "cell_type": "code",
   "execution_count": 138,
   "id": "00a1d95d-677b-4974-baab-608e2bb290f6",
   "metadata": {},
   "outputs": [],
   "source": [
    "L=['python','is','good','programming','lang']"
   ]
  },
  {
   "cell_type": "code",
   "execution_count": 139,
   "id": "69b2a1bb-4b8a-4f5c-aee3-3cad08495692",
   "metadata": {},
   "outputs": [
    {
     "data": {
      "text/plain": [
       "['python', 'is', 'good', 'programming', 'lang']"
      ]
     },
     "execution_count": 139,
     "metadata": {},
     "output_type": "execute_result"
    }
   ],
   "source": [
    "L\n"
   ]
  },
  {
   "cell_type": "code",
   "execution_count": 141,
   "id": "c69cad3a-5e39-47e2-b58c-bf58b41d954a",
   "metadata": {},
   "outputs": [
    {
     "data": {
      "text/plain": [
       "'python is good programming lang'"
      ]
     },
     "execution_count": 141,
     "metadata": {},
     "output_type": "execute_result"
    }
   ],
   "source": [
    "' '.join(L)"
   ]
  },
  {
   "cell_type": "code",
   "execution_count": 142,
   "id": "10a47ce0-6f19-4a1a-a169-72b8969b7cb0",
   "metadata": {},
   "outputs": [
    {
     "data": {
      "text/plain": [
       "'python/is/good/programming/lang'"
      ]
     },
     "execution_count": 142,
     "metadata": {},
     "output_type": "execute_result"
    }
   ],
   "source": [
    "'/'.join(L)"
   ]
  },
  {
   "cell_type": "code",
   "execution_count": 143,
   "id": "49a19096-c14b-4a40-8387-0a216c334e96",
   "metadata": {},
   "outputs": [
    {
     "data": {
      "text/plain": [
       "'python.is.good.programming.lang'"
      ]
     },
     "execution_count": 143,
     "metadata": {},
     "output_type": "execute_result"
    }
   ],
   "source": [
    "'.'.join(L)"
   ]
  },
  {
   "cell_type": "code",
   "execution_count": 151,
   "id": "7e862074-d151-4b3c-b047-76c8f5a67936",
   "metadata": {},
   "outputs": [
    {
     "ename": "TypeError",
     "evalue": "str.join() takes exactly one argument (3 given)",
     "output_type": "error",
     "traceback": [
      "\u001b[1;31m---------------------------------------------------------------------------\u001b[0m",
      "\u001b[1;31mTypeError\u001b[0m                                 Traceback (most recent call last)",
      "Cell \u001b[1;32mIn[151], line 4\u001b[0m\n\u001b[0;32m      2\u001b[0m b\u001b[38;5;241m=\u001b[39m\u001b[38;5;124m'\u001b[39m\u001b[38;5;124mprogramming\u001b[39m\u001b[38;5;124m'\u001b[39m\n\u001b[0;32m      3\u001b[0m c\u001b[38;5;241m=\u001b[39m\u001b[38;5;124m'\u001b[39m\u001b[38;5;124mlang\u001b[39m\u001b[38;5;124m'\u001b[39m\n\u001b[1;32m----> 4\u001b[0m \u001b[38;5;124m'\u001b[39m\u001b[38;5;124m \u001b[39m\u001b[38;5;124m'\u001b[39m\u001b[38;5;241m.\u001b[39mjoin(a,b,c)\n",
      "\u001b[1;31mTypeError\u001b[0m: str.join() takes exactly one argument (3 given)"
     ]
    }
   ],
   "source": [
    "a='python'\n",
    "b='programming'\n",
    "c='lang'\n",
    "' '.join(a,b,c)"
   ]
  },
  {
   "cell_type": "markdown",
   "id": "fcaa1069-3ef9-404c-be0f-61a73f668a90",
   "metadata": {},
   "source": [
    "### strip() ###"
   ]
  },
  {
   "cell_type": "code",
   "execution_count": 144,
   "id": "6305b3a9-382f-4dff-8e33-5d82f7b2af04",
   "metadata": {},
   "outputs": [
    {
     "name": "stdout",
     "output_type": "stream",
     "text": [
      "Help on method_descriptor:\n",
      "\n",
      "strip(self, chars=None, /) unbound builtins.str method\n",
      "    Return a copy of the string with leading and trailing whitespace removed.\n",
      "\n",
      "    If chars is given and not None, remove characters in chars instead.\n",
      "\n",
      "None\n"
     ]
    }
   ],
   "source": [
    "print(help(str.strip))"
   ]
  },
  {
   "cell_type": "code",
   "execution_count": 145,
   "id": "e6b0be0c-0d29-42d6-9d0f-97304c784614",
   "metadata": {},
   "outputs": [],
   "source": [
    "a='        programming              '"
   ]
  },
  {
   "cell_type": "code",
   "execution_count": 146,
   "id": "411c587f-2478-4e96-ace5-843898c933aa",
   "metadata": {},
   "outputs": [
    {
     "data": {
      "text/plain": [
       "'        programming              '"
      ]
     },
     "execution_count": 146,
     "metadata": {},
     "output_type": "execute_result"
    }
   ],
   "source": [
    "a"
   ]
  },
  {
   "cell_type": "code",
   "execution_count": 147,
   "id": "06911ed6-90cb-4195-950b-dbea296b6d41",
   "metadata": {},
   "outputs": [
    {
     "data": {
      "text/plain": [
       "'programming'"
      ]
     },
     "execution_count": 147,
     "metadata": {},
     "output_type": "execute_result"
    }
   ],
   "source": [
    "a.strip()"
   ]
  },
  {
   "cell_type": "code",
   "execution_count": 148,
   "id": "e171bdc4-090d-4fba-ac4e-d379dd8c8e2b",
   "metadata": {},
   "outputs": [],
   "source": [
    "a='**********Programming************'"
   ]
  },
  {
   "cell_type": "code",
   "execution_count": 149,
   "id": "d02d2c3a-88c0-4378-a6e3-3e838330f247",
   "metadata": {},
   "outputs": [
    {
     "data": {
      "text/plain": [
       "'**********Programming************'"
      ]
     },
     "execution_count": 149,
     "metadata": {},
     "output_type": "execute_result"
    }
   ],
   "source": [
    "a"
   ]
  },
  {
   "cell_type": "code",
   "execution_count": 150,
   "id": "6c9e0b87-cfb9-4607-be83-791ab018b053",
   "metadata": {},
   "outputs": [
    {
     "data": {
      "text/plain": [
       "'Programming'"
      ]
     },
     "execution_count": 150,
     "metadata": {},
     "output_type": "execute_result"
    }
   ],
   "source": [
    "a.strip('*')"
   ]
  },
  {
   "cell_type": "code",
   "execution_count": 152,
   "id": "437f6652-030d-4b98-b9a4-17292a838b18",
   "metadata": {},
   "outputs": [
    {
     "data": {
      "text/plain": [
       "'Hello world'"
      ]
     },
     "execution_count": 152,
     "metadata": {},
     "output_type": "execute_result"
    }
   ],
   "source": [
    "#remove multiple characters\n",
    "text='xyxyHello worldxyxy'\n",
    "text.strip('xy')"
   ]
  },
  {
   "cell_type": "code",
   "execution_count": 154,
   "id": "63af7708-0f6c-4a19-bdcc-e316e3c1b344",
   "metadata": {},
   "outputs": [
    {
     "data": {
      "text/plain": [
       "'Hello xyxy world'"
      ]
     },
     "execution_count": 154,
     "metadata": {},
     "output_type": "execute_result"
    }
   ],
   "source": [
    "text='xyxyHello xyxy worldxyxy' #only removes leading and trailing (start and end)\n",
    "text.strip('xy')"
   ]
  },
  {
   "cell_type": "code",
   "execution_count": 155,
   "id": "3a4bd705-8d6b-42c7-a651-3036d4296882",
   "metadata": {},
   "outputs": [
    {
     "data": {
      "text/plain": [
       "'programming'"
      ]
     },
     "execution_count": 155,
     "metadata": {},
     "output_type": "execute_result"
    }
   ],
   "source": [
    "a='             programming'\n",
    "a.strip()"
   ]
  },
  {
   "cell_type": "code",
   "execution_count": 156,
   "id": "439d4990-a8b2-4b6a-85c4-49729f724142",
   "metadata": {},
   "outputs": [],
   "source": [
    "a='programming.     '"
   ]
  },
  {
   "cell_type": "code",
   "execution_count": 157,
   "id": "baff43b1-0f09-43ca-bd46-40e59a583447",
   "metadata": {},
   "outputs": [
    {
     "data": {
      "text/plain": [
       "'programming.     '"
      ]
     },
     "execution_count": 157,
     "metadata": {},
     "output_type": "execute_result"
    }
   ],
   "source": [
    "a"
   ]
  },
  {
   "cell_type": "code",
   "execution_count": 158,
   "id": "fd648165-62cc-4c40-8d3a-d2f6cd8bf091",
   "metadata": {},
   "outputs": [
    {
     "data": {
      "text/plain": [
       "'programming.'"
      ]
     },
     "execution_count": 158,
     "metadata": {},
     "output_type": "execute_result"
    }
   ],
   "source": [
    "a.strip()"
   ]
  },
  {
   "cell_type": "markdown",
   "id": "3c2619d7-04b3-459d-a83a-65f8a00873c3",
   "metadata": {},
   "source": [
    "### lstrip() and rstrip() ### \n",
    "- lstrip() removes leading whitespaces\n",
    "- - rstrip() removes trailing whitespaces"
   ]
  },
  {
   "cell_type": "code",
   "execution_count": 159,
   "id": "05d90ab3-ce92-4ca1-bc82-8654540ce3e3",
   "metadata": {},
   "outputs": [
    {
     "name": "stdout",
     "output_type": "stream",
     "text": [
      "Help on method_descriptor:\n",
      "\n",
      "lstrip(self, chars=None, /) unbound builtins.str method\n",
      "    Return a copy of the string with leading whitespace removed.\n",
      "\n",
      "    If chars is given and not None, remove characters in chars instead.\n",
      "\n",
      "None\n"
     ]
    }
   ],
   "source": [
    "print(help(str.lstrip))"
   ]
  },
  {
   "cell_type": "code",
   "execution_count": 160,
   "id": "522cb6aa-a37a-4ef7-a99e-e95daf94f63c",
   "metadata": {},
   "outputs": [],
   "source": [
    "a='        programming         '"
   ]
  },
  {
   "cell_type": "code",
   "execution_count": 161,
   "id": "3c8c56ac-fb64-4a4c-af4a-2ae02ef26611",
   "metadata": {},
   "outputs": [
    {
     "data": {
      "text/plain": [
       "'        programming         '"
      ]
     },
     "execution_count": 161,
     "metadata": {},
     "output_type": "execute_result"
    }
   ],
   "source": [
    "a"
   ]
  },
  {
   "cell_type": "code",
   "execution_count": 162,
   "id": "a9986dbe-eea2-46fc-abb8-a619ea06fa00",
   "metadata": {},
   "outputs": [
    {
     "data": {
      "text/plain": [
       "'programming         '"
      ]
     },
     "execution_count": 162,
     "metadata": {},
     "output_type": "execute_result"
    }
   ],
   "source": [
    "a.lstrip()"
   ]
  },
  {
   "cell_type": "code",
   "execution_count": 163,
   "id": "74b42cbb-8bdd-4b90-bdea-678511920457",
   "metadata": {},
   "outputs": [
    {
     "data": {
      "text/plain": [
       "'        programming'"
      ]
     },
     "execution_count": 163,
     "metadata": {},
     "output_type": "execute_result"
    }
   ],
   "source": [
    "a.rstrip()"
   ]
  },
  {
   "cell_type": "markdown",
   "id": "f9ea8d0d-154f-46a0-af20-f137729ce3f0",
   "metadata": {},
   "source": [
    "### count() ###\n",
    "- it returns the no of non overlapping occurances(frequency of characters)"
   ]
  },
  {
   "cell_type": "code",
   "execution_count": 164,
   "id": "e1a3b0f8-c627-4956-a5b5-10d10acda324",
   "metadata": {},
   "outputs": [
    {
     "name": "stdout",
     "output_type": "stream",
     "text": [
      "Help on method_descriptor:\n",
      "\n",
      "count(self, sub[, start[, end]], /) unbound builtins.str method\n",
      "    Return the number of non-overlapping occurrences of substring sub in string S[start:end].\n",
      "\n",
      "    Optional arguments start and end are interpreted as in slice notation.\n",
      "\n",
      "None\n"
     ]
    }
   ],
   "source": [
    "print(help(str.count))"
   ]
  },
  {
   "cell_type": "code",
   "execution_count": 165,
   "id": "fed4d065-aa07-4bb7-b5ec-942caab8a8cf",
   "metadata": {},
   "outputs": [],
   "source": [
    "a='programming'\n"
   ]
  },
  {
   "cell_type": "code",
   "execution_count": 166,
   "id": "1e6d9013-7c3b-4399-90db-dedd58c3db59",
   "metadata": {},
   "outputs": [
    {
     "data": {
      "text/plain": [
       "1"
      ]
     },
     "execution_count": 166,
     "metadata": {},
     "output_type": "execute_result"
    }
   ],
   "source": [
    "a.count('p')"
   ]
  },
  {
   "cell_type": "code",
   "execution_count": 167,
   "id": "cd303ccc-439e-4c5d-91e5-afea467f1a23",
   "metadata": {},
   "outputs": [
    {
     "data": {
      "text/plain": [
       "2"
      ]
     },
     "execution_count": 167,
     "metadata": {},
     "output_type": "execute_result"
    }
   ],
   "source": [
    "a.count('m')"
   ]
  },
  {
   "cell_type": "code",
   "execution_count": 168,
   "id": "a18aac6e-cc01-4c3b-8633-2b64a3f832e9",
   "metadata": {},
   "outputs": [],
   "source": [
    "a='python is good,python is popular and python is easy'\n"
   ]
  },
  {
   "cell_type": "code",
   "execution_count": 169,
   "id": "6b21b58a-e1ae-4f9d-a67a-99a4ee69ae2b",
   "metadata": {},
   "outputs": [
    {
     "data": {
      "text/plain": [
       "3"
      ]
     },
     "execution_count": 169,
     "metadata": {},
     "output_type": "execute_result"
    }
   ],
   "source": [
    "a.count('python')"
   ]
  },
  {
   "cell_type": "code",
   "execution_count": 170,
   "id": "9ad14616-5ed5-49a1-a128-49e0ee2c9775",
   "metadata": {},
   "outputs": [
    {
     "data": {
      "text/plain": [
       "5"
      ]
     },
     "execution_count": 170,
     "metadata": {},
     "output_type": "execute_result"
    }
   ],
   "source": [
    "a.count('p')\n"
   ]
  },
  {
   "cell_type": "code",
   "execution_count": 171,
   "id": "aa364fb8-8a5c-4ab9-949b-4e06db257865",
   "metadata": {},
   "outputs": [
    {
     "data": {
      "text/plain": [
       "1"
      ]
     },
     "execution_count": 171,
     "metadata": {},
     "output_type": "execute_result"
    }
   ],
   "source": [
    "a.count('p',30,45) #we are checking no of occurances of p inbetween index 30 and 45"
   ]
  },
  {
   "cell_type": "code",
   "execution_count": 172,
   "id": "18c8b474-543d-4c4d-a32a-b74f5f923fba",
   "metadata": {},
   "outputs": [
    {
     "data": {
      "text/plain": [
       "0"
      ]
     },
     "execution_count": 172,
     "metadata": {},
     "output_type": "execute_result"
    }
   ],
   "source": [
    "a.count('X')"
   ]
  },
  {
   "cell_type": "markdown",
   "id": "935a3ff4-4977-43ce-a2c4-dd49ba3c00f9",
   "metadata": {},
   "source": [
    "### isupper() and islower() ###"
   ]
  },
  {
   "cell_type": "code",
   "execution_count": 173,
   "id": "531b3228-1613-4659-b51b-00d046f53f70",
   "metadata": {},
   "outputs": [
    {
     "name": "stdout",
     "output_type": "stream",
     "text": [
      "Help on method_descriptor:\n",
      "\n",
      "isupper(self, /) unbound builtins.str method\n",
      "    Return True if the string is an uppercase string, False otherwise.\n",
      "\n",
      "    A string is uppercase if all cased characters in the string are uppercase and\n",
      "    there is at least one cased character in the string.\n",
      "\n",
      "None\n"
     ]
    }
   ],
   "source": [
    "print(help(str.isupper))"
   ]
  },
  {
   "cell_type": "code",
   "execution_count": 174,
   "id": "93b031d9-13e3-4f00-aa12-6eca4b3d26dc",
   "metadata": {},
   "outputs": [],
   "source": [
    "a='PROGRAMMING'\n",
    "B='ProGRAmminG'\n"
   ]
  },
  {
   "cell_type": "code",
   "execution_count": 175,
   "id": "6547da8e-506a-49cb-9f01-5fcdedc28d4a",
   "metadata": {},
   "outputs": [
    {
     "data": {
      "text/plain": [
       "True"
      ]
     },
     "execution_count": 175,
     "metadata": {},
     "output_type": "execute_result"
    }
   ],
   "source": [
    "a.isupper()"
   ]
  },
  {
   "cell_type": "code",
   "execution_count": 176,
   "id": "11c11461-e611-4bc0-9665-c4b093e7a75c",
   "metadata": {},
   "outputs": [
    {
     "data": {
      "text/plain": [
       "False"
      ]
     },
     "execution_count": 176,
     "metadata": {},
     "output_type": "execute_result"
    }
   ],
   "source": [
    "b.isupper()"
   ]
  },
  {
   "cell_type": "code",
   "execution_count": 177,
   "id": "6a8cba30-6581-4a24-91b9-4994de3c5914",
   "metadata": {},
   "outputs": [
    {
     "name": "stdout",
     "output_type": "stream",
     "text": [
      "Help on method_descriptor:\n",
      "\n",
      "islower(self, /) unbound builtins.str method\n",
      "    Return True if the string is a lowercase string, False otherwise.\n",
      "\n",
      "    A string is lowercase if all cased characters in the string are lowercase and\n",
      "    there is at least one cased character in the string.\n",
      "\n",
      "None\n"
     ]
    }
   ],
   "source": [
    "print(help(str.islower))"
   ]
  },
  {
   "cell_type": "code",
   "execution_count": 178,
   "id": "bc221f3b-1d94-4e01-926f-0c2cf7cc269c",
   "metadata": {},
   "outputs": [],
   "source": [
    "a='programming'\n",
    "b='ProgRam'\n"
   ]
  },
  {
   "cell_type": "code",
   "execution_count": 180,
   "id": "ae152bd2-1478-4d97-8abb-3b7ecec5f36f",
   "metadata": {},
   "outputs": [
    {
     "name": "stdout",
     "output_type": "stream",
     "text": [
      "a contains lower letters  True\n",
      "b contains all lower letters: False\n"
     ]
    }
   ],
   "source": [
    "print(\"a contains lower letters \",a.islower())\n",
    "print(\"b contains all lower letters:\",b.islower())"
   ]
  },
  {
   "cell_type": "markdown",
   "id": "34e0f3d2-bc68-4a1f-978a-db323f109033",
   "metadata": {},
   "source": [
    "#### isdigit() ####\n",
    "- returns true if all characters are digits"
   ]
  },
  {
   "cell_type": "code",
   "execution_count": 181,
   "id": "152215be-48e8-4109-b17e-f674a2c30a32",
   "metadata": {},
   "outputs": [
    {
     "name": "stdout",
     "output_type": "stream",
     "text": [
      "Help on method_descriptor:\n",
      "\n",
      "isdigit(self, /) unbound builtins.str method\n",
      "    Return True if the string is a digit string, False otherwise.\n",
      "\n",
      "    A string is a digit string if all characters in the string are digits and there\n",
      "    is at least one character in the string.\n",
      "\n",
      "None\n"
     ]
    }
   ],
   "source": [
    "print(help(str.isdigit))"
   ]
  },
  {
   "cell_type": "code",
   "execution_count": 182,
   "id": "64ec906c-b430-47aa-a44c-9e8ee9bec4e2",
   "metadata": {},
   "outputs": [],
   "source": [
    "a='3489'"
   ]
  },
  {
   "cell_type": "code",
   "execution_count": 183,
   "id": "12b4f285-fd70-4a51-b92a-1ebf514798e4",
   "metadata": {},
   "outputs": [
    {
     "data": {
      "text/plain": [
       "True"
      ]
     },
     "execution_count": 183,
     "metadata": {},
     "output_type": "execute_result"
    }
   ],
   "source": [
    "a.isdigit()"
   ]
  },
  {
   "cell_type": "code",
   "execution_count": 184,
   "id": "0339bacd-5653-4375-93ec-020fb94d839d",
   "metadata": {},
   "outputs": [],
   "source": [
    "a='56python'"
   ]
  },
  {
   "cell_type": "code",
   "execution_count": 185,
   "id": "541ba6ea-1473-4754-bec9-36ccca09bb29",
   "metadata": {},
   "outputs": [
    {
     "data": {
      "text/plain": [
       "False"
      ]
     },
     "execution_count": 185,
     "metadata": {},
     "output_type": "execute_result"
    }
   ],
   "source": [
    "a.isdigit()"
   ]
  },
  {
   "cell_type": "markdown",
   "id": "e981e743-30e6-425a-8ae9-476ce1847fc6",
   "metadata": {},
   "source": [
    "#### isalnum() ####\n",
    "- returns true if ur string is alphanumeric"
   ]
  },
  {
   "cell_type": "code",
   "execution_count": 186,
   "id": "6d1eeccd-323b-4230-8229-62e57d888abd",
   "metadata": {},
   "outputs": [
    {
     "name": "stdout",
     "output_type": "stream",
     "text": [
      "Help on method_descriptor:\n",
      "\n",
      "isalnum(self, /) unbound builtins.str method\n",
      "    Return True if the string is an alpha-numeric string, False otherwise.\n",
      "\n",
      "    A string is alpha-numeric if all characters in the string are alpha-numeric and\n",
      "    there is at least one character in the string.\n",
      "\n",
      "None\n"
     ]
    }
   ],
   "source": [
    "print(help(str.isalnum))"
   ]
  },
  {
   "cell_type": "code",
   "execution_count": 187,
   "id": "4950469d-9b41-4077-ba0c-7588df75148c",
   "metadata": {},
   "outputs": [],
   "source": [
    "a='programming'"
   ]
  },
  {
   "cell_type": "code",
   "execution_count": 188,
   "id": "18745003-35ec-4370-a449-0460852af161",
   "metadata": {},
   "outputs": [
    {
     "data": {
      "text/plain": [
       "True"
      ]
     },
     "execution_count": 188,
     "metadata": {},
     "output_type": "execute_result"
    }
   ],
   "source": [
    "a.isalnum()"
   ]
  },
  {
   "cell_type": "code",
   "execution_count": 189,
   "id": "27315ee6-5a86-4c00-aea8-a966e8b0b3b3",
   "metadata": {},
   "outputs": [],
   "source": [
    "a='1234'"
   ]
  },
  {
   "cell_type": "code",
   "execution_count": 191,
   "id": "962fa15d-5120-4555-b09c-b9fa02e1da3f",
   "metadata": {},
   "outputs": [
    {
     "data": {
      "text/plain": [
       "True"
      ]
     },
     "execution_count": 191,
     "metadata": {},
     "output_type": "execute_result"
    }
   ],
   "source": [
    "a.isalnum()"
   ]
  },
  {
   "cell_type": "code",
   "execution_count": 192,
   "id": "af3a3e76-ec39-4c97-9b2b-9bc2ae4a5329",
   "metadata": {},
   "outputs": [],
   "source": [
    "a='34python'\n"
   ]
  },
  {
   "cell_type": "code",
   "execution_count": 193,
   "id": "2b558dde-6b1c-4426-9dcb-b4d1dfb4e5d2",
   "metadata": {},
   "outputs": [
    {
     "data": {
      "text/plain": [
       "True"
      ]
     },
     "execution_count": 193,
     "metadata": {},
     "output_type": "execute_result"
    }
   ],
   "source": [
    "a.isalnum()"
   ]
  },
  {
   "cell_type": "markdown",
   "id": "8ff6c01d-3ee4-4945-b109-506314d82be8",
   "metadata": {},
   "source": [
    "#### isalpha() ####\n",
    "- returns true if all characters in string are alphabetic"
   ]
  },
  {
   "cell_type": "code",
   "execution_count": 194,
   "id": "3e5b2aca-051b-426e-8eb6-c9df60142e41",
   "metadata": {},
   "outputs": [
    {
     "name": "stdout",
     "output_type": "stream",
     "text": [
      "Help on method_descriptor:\n",
      "\n",
      "isalpha(self, /) unbound builtins.str method\n",
      "    Return True if the string is an alphabetic string, False otherwise.\n",
      "\n",
      "    A string is alphabetic if all characters in the string are alphabetic and there\n",
      "    is at least one character in the string.\n",
      "\n",
      "None\n"
     ]
    }
   ],
   "source": [
    "print(help(str.isalpha))"
   ]
  },
  {
   "cell_type": "code",
   "execution_count": 195,
   "id": "5011dbea-ef97-47b2-87dc-39f525a5ed5b",
   "metadata": {},
   "outputs": [],
   "source": [
    "a='programming'"
   ]
  },
  {
   "cell_type": "code",
   "execution_count": 196,
   "id": "55aad3d4-59ba-43b8-a1eb-aad129715bca",
   "metadata": {},
   "outputs": [
    {
     "data": {
      "text/plain": [
       "True"
      ]
     },
     "execution_count": 196,
     "metadata": {},
     "output_type": "execute_result"
    }
   ],
   "source": [
    "a.isalpha()"
   ]
  },
  {
   "cell_type": "code",
   "execution_count": 197,
   "id": "0d391d65-58c8-46e0-bef8-2c64c309e518",
   "metadata": {},
   "outputs": [],
   "source": [
    "a='56program'"
   ]
  },
  {
   "cell_type": "code",
   "execution_count": 198,
   "id": "8e930f99-eb9e-4d3f-b289-73b32e25e638",
   "metadata": {},
   "outputs": [
    {
     "data": {
      "text/plain": [
       "False"
      ]
     },
     "execution_count": 198,
     "metadata": {},
     "output_type": "execute_result"
    }
   ],
   "source": [
    "a.isalpha()"
   ]
  },
  {
   "cell_type": "markdown",
   "id": "3437603b-fe46-416d-88fd-7ce99e98bde0",
   "metadata": {},
   "source": [
    "#### isspace() ####\n",
    "- returns true if ur string is white space string"
   ]
  },
  {
   "cell_type": "code",
   "execution_count": 199,
   "id": "84754a7c-80c7-45aa-8e91-ac08b1508885",
   "metadata": {},
   "outputs": [
    {
     "name": "stdout",
     "output_type": "stream",
     "text": [
      "Help on method_descriptor:\n",
      "\n",
      "isspace(self, /) unbound builtins.str method\n",
      "    Return True if the string is a whitespace string, False otherwise.\n",
      "\n",
      "    A string is whitespace if all characters in the string are whitespace and there\n",
      "    is at least one character in the string.\n",
      "\n",
      "None\n"
     ]
    }
   ],
   "source": [
    "print(help(str.isspace))"
   ]
  },
  {
   "cell_type": "code",
   "execution_count": 200,
   "id": "be398ce8-7ab4-4908-8cba-88ccf9af2a6c",
   "metadata": {},
   "outputs": [],
   "source": [
    "a='    '"
   ]
  },
  {
   "cell_type": "code",
   "execution_count": 201,
   "id": "e54998db-3146-4e19-bac4-b8020daee1b3",
   "metadata": {},
   "outputs": [
    {
     "data": {
      "text/plain": [
       "True"
      ]
     },
     "execution_count": 201,
     "metadata": {},
     "output_type": "execute_result"
    }
   ],
   "source": [
    "a.isspace()"
   ]
  },
  {
   "cell_type": "code",
   "execution_count": 202,
   "id": "8f13a9db-710d-4912-8872-63722e81a104",
   "metadata": {},
   "outputs": [],
   "source": [
    "a='    abc'"
   ]
  },
  {
   "cell_type": "code",
   "execution_count": 203,
   "id": "8f345c1c-c622-4a90-baec-863c19e1cca9",
   "metadata": {},
   "outputs": [
    {
     "data": {
      "text/plain": [
       "False"
      ]
     },
     "execution_count": 203,
     "metadata": {},
     "output_type": "execute_result"
    }
   ],
   "source": [
    "a.isspace()"
   ]
  },
  {
   "cell_type": "markdown",
   "id": "d88c11d1-696f-4307-a32c-5ee519ea8f6d",
   "metadata": {},
   "source": [
    "#### istitle() ####\n",
    "- returns true if ur string is title case"
   ]
  },
  {
   "cell_type": "code",
   "execution_count": 204,
   "id": "ca9d0748-b99b-4518-aa11-327b45c354ab",
   "metadata": {},
   "outputs": [
    {
     "name": "stdout",
     "output_type": "stream",
     "text": [
      "Help on method_descriptor:\n",
      "\n",
      "istitle(self, /) unbound builtins.str method\n",
      "    Return True if the string is a title-cased string, False otherwise.\n",
      "\n",
      "    In a title-cased string, upper- and title-case characters may only\n",
      "    follow uncased characters and lowercase characters only cased ones.\n",
      "\n",
      "None\n"
     ]
    }
   ],
   "source": [
    "print(help(str.istitle))"
   ]
  },
  {
   "cell_type": "code",
   "execution_count": 205,
   "id": "7b111b78-037d-4244-a60c-56c8e0f0d716",
   "metadata": {},
   "outputs": [],
   "source": [
    "a='Python Programming Is Good'"
   ]
  },
  {
   "cell_type": "code",
   "execution_count": 206,
   "id": "c3ed4441-bde2-454b-a25d-ef99ce7169c7",
   "metadata": {},
   "outputs": [
    {
     "data": {
      "text/plain": [
       "True"
      ]
     },
     "execution_count": 206,
     "metadata": {},
     "output_type": "execute_result"
    }
   ],
   "source": [
    "a.istitle()"
   ]
  },
  {
   "cell_type": "code",
   "execution_count": 207,
   "id": "7e2f6159-a54f-4f6f-88cd-a801ac60931a",
   "metadata": {},
   "outputs": [],
   "source": [
    "a='Python programming'"
   ]
  },
  {
   "cell_type": "code",
   "execution_count": 208,
   "id": "65f2ba2a-a811-47c8-b27c-f0b79cee182f",
   "metadata": {},
   "outputs": [
    {
     "data": {
      "text/plain": [
       "False"
      ]
     },
     "execution_count": 208,
     "metadata": {},
     "output_type": "execute_result"
    }
   ],
   "source": [
    "a.istitle()"
   ]
  },
  {
   "cell_type": "markdown",
   "id": "16ca6f02-27c6-4729-9249-91c7cbfefeb9",
   "metadata": {},
   "source": [
    "#### ASCII values ####\n",
    "- American Standard Code for Interchange\n",
    "- A-65\n",
    "- B-66\n",
    "- C-67\n",
    "- .\n",
    "- .\n",
    "- .\n",
    "- Z\n",
    "- a-97\n",
    "- b-98\n",
    "- "
   ]
  },
  {
   "cell_type": "code",
   "execution_count": 209,
   "id": "4febc2fb-9caf-4242-b830-9ab85225ad07",
   "metadata": {},
   "outputs": [
    {
     "data": {
      "text/plain": [
       "'A'"
      ]
     },
     "execution_count": 209,
     "metadata": {},
     "output_type": "execute_result"
    }
   ],
   "source": [
    "chr(65)"
   ]
  },
  {
   "cell_type": "code",
   "execution_count": 210,
   "id": "51d6c14d-94a5-47f3-ba35-5ad2f71bfbf8",
   "metadata": {},
   "outputs": [
    {
     "data": {
      "text/plain": [
       "'b'"
      ]
     },
     "execution_count": 210,
     "metadata": {},
     "output_type": "execute_result"
    }
   ],
   "source": [
    "chr(98)\n"
   ]
  },
  {
   "cell_type": "code",
   "execution_count": 211,
   "id": "ba96e36d-aebd-4409-99d0-705eee123e95",
   "metadata": {},
   "outputs": [
    {
     "data": {
      "text/plain": [
       "65"
      ]
     },
     "execution_count": 211,
     "metadata": {},
     "output_type": "execute_result"
    }
   ],
   "source": [
    "ord('A')"
   ]
  },
  {
   "cell_type": "code",
   "execution_count": 212,
   "id": "c536e667-c894-433f-a52c-5052d667cbaf",
   "metadata": {},
   "outputs": [
    {
     "data": {
      "text/plain": [
       "67"
      ]
     },
     "execution_count": 212,
     "metadata": {},
     "output_type": "execute_result"
    }
   ],
   "source": [
    "ord('C')"
   ]
  },
  {
   "cell_type": "code",
   "execution_count": 213,
   "id": "5eb02c9e-8509-432f-a6e3-8561737a2f06",
   "metadata": {},
   "outputs": [
    {
     "data": {
      "text/plain": [
       "97"
      ]
     },
     "execution_count": 213,
     "metadata": {},
     "output_type": "execute_result"
    }
   ],
   "source": [
    "ord('a')"
   ]
  },
  {
   "cell_type": "markdown",
   "id": "690ca283-1cfa-4142-ad1c-32b118a27d0f",
   "metadata": {},
   "source": [
    "#### format() ####\n"
   ]
  },
  {
   "cell_type": "code",
   "execution_count": 214,
   "id": "6d45bbfe-08c4-462a-a425-e1be019e82ac",
   "metadata": {},
   "outputs": [
    {
     "name": "stdout",
     "output_type": "stream",
     "text": [
      "Help on method_descriptor:\n",
      "\n",
      "format(self, /, *args, **kwargs) unbound builtins.str method\n",
      "    Return a formatted version of the string, using substitutions from args and kwargs.\n",
      "    The substitutions are identified by braces ('{' and '}').\n",
      "\n",
      "None\n"
     ]
    }
   ],
   "source": [
    "print(help(str.format))"
   ]
  },
  {
   "cell_type": "code",
   "execution_count": 215,
   "id": "991f605f-9221-42f2-88e4-16ee46af3439",
   "metadata": {},
   "outputs": [],
   "source": [
    "text='My name is sivanagavalli, My age is 31'\n"
   ]
  },
  {
   "cell_type": "code",
   "execution_count": 217,
   "id": "83b0405d-b88e-4aec-8482-571175e85b31",
   "metadata": {},
   "outputs": [
    {
     "name": "stdout",
     "output_type": "stream",
     "text": [
      "My name is sivanagavalli, My age is 31\n"
     ]
    }
   ],
   "source": [
    "print(text)"
   ]
  },
  {
   "cell_type": "code",
   "execution_count": 218,
   "id": "cc9b91f4-9cb7-4cc2-a389-1c7fba472f7f",
   "metadata": {},
   "outputs": [],
   "source": [
    "text='My name is surendar, My age is 38'"
   ]
  },
  {
   "cell_type": "code",
   "execution_count": 219,
   "id": "7de59bd7-a03b-4fdf-b6ed-0b4da41cdbaf",
   "metadata": {},
   "outputs": [
    {
     "name": "stdout",
     "output_type": "stream",
     "text": [
      "My name is surendar, My age is 38\n"
     ]
    }
   ],
   "source": [
    "print(text)"
   ]
  },
  {
   "cell_type": "code",
   "execution_count": 220,
   "id": "17999eb9-45e6-4934-b321-68c67a835ac8",
   "metadata": {},
   "outputs": [],
   "source": [
    "text='My Name is {}, My age is {}'"
   ]
  },
  {
   "cell_type": "code",
   "execution_count": 221,
   "id": "7afbd3cf-41df-4c81-81e5-c25c951d2dd0",
   "metadata": {},
   "outputs": [
    {
     "data": {
      "text/plain": [
       "'My Name is Michel, My age is 28'"
      ]
     },
     "execution_count": 221,
     "metadata": {},
     "output_type": "execute_result"
    }
   ],
   "source": [
    "text.format('Michel',28)"
   ]
  },
  {
   "cell_type": "code",
   "execution_count": 223,
   "id": "37d49acc-82b7-49f4-bb97-92db2a3ce0f0",
   "metadata": {},
   "outputs": [
    {
     "data": {
      "text/plain": [
       "'My Name is Vijayalakshmi, My age is 50'"
      ]
     },
     "execution_count": 223,
     "metadata": {},
     "output_type": "execute_result"
    }
   ],
   "source": [
    "text.format('Vijayalakshmi',50) #positional argumets i.e based on position/index it will mapped\n"
   ]
  },
  {
   "cell_type": "code",
   "execution_count": 224,
   "id": "ba7c818e-e33a-4f61-beb5-0dd43b839d2f",
   "metadata": {},
   "outputs": [],
   "source": [
    "text='My name is {0}, My age is {1}, mylocation {2},mycountry{3}'"
   ]
  },
  {
   "cell_type": "code",
   "execution_count": 225,
   "id": "e98cd570-5fa7-4ed4-8c14-29ff18ea2221",
   "metadata": {},
   "outputs": [
    {
     "data": {
      "text/plain": [
       "'My name is Valli, My age is 31, mylocation HYD,mycountryIndia'"
      ]
     },
     "execution_count": 225,
     "metadata": {},
     "output_type": "execute_result"
    }
   ],
   "source": [
    "text.format('Valli',31,'HYD','India')"
   ]
  },
  {
   "cell_type": "code",
   "execution_count": 229,
   "id": "cfdd4144-db51-41b6-844c-5c168e3ab7d4",
   "metadata": {},
   "outputs": [],
   "source": [
    "#based on keywords argumetns will be mapped\n",
    "text='My name is {name}, My age is {age}, mylocation {loc},mycountry{Con}'"
   ]
  },
  {
   "cell_type": "code",
   "execution_count": 228,
   "id": "1d524735-56c1-40e3-99ca-8d7cfba7deb3",
   "metadata": {},
   "outputs": [
    {
     "data": {
      "text/plain": [
       "'My name is valli, My age is 31, mylocation HYD,mycountryIndia'"
      ]
     },
     "execution_count": 228,
     "metadata": {},
     "output_type": "execute_result"
    }
   ],
   "source": [
    "text.format(age=31,loc='HYD',Con='India',name='valli')"
   ]
  },
  {
   "cell_type": "code",
   "execution_count": 230,
   "id": "2ff6d8bf-8f73-4370-9b69-c1a07cd7be62",
   "metadata": {},
   "outputs": [],
   "source": [
    "name='valli'\n",
    "age=31\n"
   ]
  },
  {
   "cell_type": "code",
   "execution_count": 231,
   "id": "41549886-d398-4fea-9a5f-813eca973036",
   "metadata": {},
   "outputs": [
    {
     "data": {
      "text/plain": [
       "'My Name is valli, My age is 31'"
      ]
     },
     "execution_count": 231,
     "metadata": {},
     "output_type": "execute_result"
    }
   ],
   "source": [
    "'My Name is {}, My age is {}'.format(name,age)"
   ]
  },
  {
   "cell_type": "code",
   "execution_count": 232,
   "id": "3906faf6-2362-454b-b219-5fa7b9be2d61",
   "metadata": {},
   "outputs": [
    {
     "name": "stdout",
     "output_type": "stream",
     "text": [
      "the result of addition is : 30\n"
     ]
    }
   ],
   "source": [
    "a=10\n",
    "b=20\n",
    "c=a+b\n",
    "print('the result of addition is :',c)"
   ]
  },
  {
   "cell_type": "code",
   "execution_count": 233,
   "id": "cda8a31f-dee0-47b6-bc69-81ab9c09095b",
   "metadata": {},
   "outputs": [
    {
     "name": "stdout",
     "output_type": "stream",
     "text": [
      "the result of addition is 30,the result of substraction is -10\n"
     ]
    }
   ],
   "source": [
    "a=10\n",
    "b=20\n",
    "c=a+b\n",
    "d=a-b\n",
    "print('the result of addition is {},the result of substraction is {}'.format(c,d))"
   ]
  },
  {
   "cell_type": "markdown",
   "id": "7173bc2f-11b9-455a-865e-3b6f9823ae98",
   "metadata": {},
   "source": [
    "#### f string ####\n",
    "instead of writing .format() we can use f string i.e formatted string"
   ]
  },
  {
   "cell_type": "code",
   "execution_count": 234,
   "id": "c57c9113-a24d-4bad-8667-d4e4a8d85fdf",
   "metadata": {},
   "outputs": [
    {
     "name": "stdout",
     "output_type": "stream",
     "text": [
      "My name is valli, age is 31\n"
     ]
    }
   ],
   "source": [
    "name='valli'\n",
    "age=31\n",
    "print(f'My name is {name}, age is {age}')"
   ]
  },
  {
   "cell_type": "code",
   "execution_count": 235,
   "id": "5ed47278-7556-4b45-a38c-37a7f7392554",
   "metadata": {},
   "outputs": [
    {
     "name": "stdout",
     "output_type": "stream",
     "text": [
      "the result of addition is 30,the result of substraction is -10\n"
     ]
    }
   ],
   "source": [
    "a=10\n",
    "b=20\n",
    "c=a+b\n",
    "d=a-b\n",
    "print(f'the result of addition is {c},the result of substraction is {d}')"
   ]
  },
  {
   "cell_type": "markdown",
   "id": "afff4323-b2a5-452e-bc1f-606101ee98e2",
   "metadata": {},
   "source": [
    "#### center() ####\n",
    "- centers ur string"
   ]
  },
  {
   "cell_type": "code",
   "execution_count": 236,
   "id": "da0a6796-60c5-42cd-b4c0-39b04c940703",
   "metadata": {},
   "outputs": [
    {
     "name": "stdout",
     "output_type": "stream",
     "text": [
      "Help on method_descriptor:\n",
      "\n",
      "center(self, width, fillchar=' ', /) unbound builtins.str method\n",
      "    Return a centered string of length width.\n",
      "\n",
      "    Padding is done using the specified fill character (default is a space).\n",
      "\n",
      "None\n"
     ]
    }
   ],
   "source": [
    "print(help(str.center))"
   ]
  },
  {
   "cell_type": "code",
   "execution_count": 237,
   "id": "e48e013e-57ee-49db-b104-32e913bdf3fb",
   "metadata": {},
   "outputs": [],
   "source": [
    "a='python'"
   ]
  },
  {
   "cell_type": "code",
   "execution_count": 239,
   "id": "6205c861-9e8f-4300-8da3-99e0f8aadfa4",
   "metadata": {},
   "outputs": [
    {
     "data": {
      "text/plain": [
       "'  python  '"
      ]
     },
     "execution_count": 239,
     "metadata": {},
     "output_type": "execute_result"
    }
   ],
   "source": [
    "a.center(10) #10 white spaces will be taken and in those whitespaces the python will be adjusted"
   ]
  },
  {
   "cell_type": "code",
   "execution_count": 240,
   "id": "d0f2f2e0-7128-437f-bf7d-e6a03eff01c1",
   "metadata": {},
   "outputs": [
    {
     "data": {
      "text/plain": [
       "'**python**'"
      ]
     },
     "execution_count": 240,
     "metadata": {},
     "output_type": "execute_result"
    }
   ],
   "source": [
    "a.center(10,'*')"
   ]
  },
  {
   "cell_type": "code",
   "execution_count": 243,
   "id": "af30c68c-f961-4d4a-bebb-a445921bcafe",
   "metadata": {},
   "outputs": [],
   "source": [
    "a='pythons' # depends on no of characters in the string and the no of whitespaces or characters u given in center method"
   ]
  },
  {
   "cell_type": "code",
   "execution_count": 242,
   "id": "ae491247-2d1c-4c3f-bc33-148ff7c04f06",
   "metadata": {},
   "outputs": [
    {
     "data": {
      "text/plain": [
       "'*pythons**'"
      ]
     },
     "execution_count": 242,
     "metadata": {},
     "output_type": "execute_result"
    }
   ],
   "source": [
    "a.center(10,'*')"
   ]
  },
  {
   "cell_type": "code",
   "execution_count": 244,
   "id": "779b08a4-e9e0-4316-be85-1da1f97693cb",
   "metadata": {},
   "outputs": [
    {
     "data": {
      "text/plain": [
       "'######pythons#######'"
      ]
     },
     "execution_count": 244,
     "metadata": {},
     "output_type": "execute_result"
    }
   ],
   "source": [
    "a.center(20,'#')"
   ]
  },
  {
   "cell_type": "markdown",
   "id": "ff4c56d6-bfa1-4193-85c8-c93f6419136b",
   "metadata": {},
   "source": [
    "#### ljust() ####"
   ]
  },
  {
   "cell_type": "code",
   "execution_count": 4,
   "id": "b2773665-6ff4-45ff-9362-ca365308e357",
   "metadata": {},
   "outputs": [
    {
     "name": "stdout",
     "output_type": "stream",
     "text": [
      "Help on method_descriptor:\n",
      "\n",
      "ljust(self, width, fillchar=' ', /) unbound builtins.str method\n",
      "    Return a left-justified string of length width.\n",
      "\n",
      "    Padding is done using the specified fill character (default is a space).\n",
      "\n",
      "None\n"
     ]
    }
   ],
   "source": [
    "print(help(str.ljust))"
   ]
  },
  {
   "cell_type": "code",
   "execution_count": 1,
   "id": "7f3365ec-4134-4b60-b455-d30c0f8ba3cd",
   "metadata": {},
   "outputs": [],
   "source": [
    "a='python'"
   ]
  },
  {
   "cell_type": "code",
   "execution_count": 5,
   "id": "3aec899e-37d7-44bf-930e-e2b7e6f7c42a",
   "metadata": {},
   "outputs": [
    {
     "data": {
      "text/plain": [
       "'python****'"
      ]
     },
     "execution_count": 5,
     "metadata": {},
     "output_type": "execute_result"
    }
   ],
   "source": [
    "a.ljust(10,'*')"
   ]
  },
  {
   "cell_type": "markdown",
   "id": "72f0ba4f-e0e8-4dba-98cf-75d82d8a127c",
   "metadata": {},
   "source": [
    "#### rjust() ####"
   ]
  },
  {
   "cell_type": "code",
   "execution_count": 6,
   "id": "cc701431-0ef6-4104-9c8c-8d81fd307113",
   "metadata": {},
   "outputs": [],
   "source": [
    "a='python'\n"
   ]
  },
  {
   "cell_type": "code",
   "execution_count": 7,
   "id": "bebbd77b-8a1d-426f-8ed5-ae85232c9802",
   "metadata": {},
   "outputs": [
    {
     "data": {
      "text/plain": [
       "'#########python'"
      ]
     },
     "execution_count": 7,
     "metadata": {},
     "output_type": "execute_result"
    }
   ],
   "source": [
    "a.rjust(15,'#')"
   ]
  },
  {
   "cell_type": "markdown",
   "id": "58ee5816-643f-4371-85bc-68e2442f522a",
   "metadata": {},
   "source": [
    "##### swapcase() ####"
   ]
  },
  {
   "cell_type": "code",
   "execution_count": 8,
   "id": "bd160f68-932b-4966-be19-fe9e77869b97",
   "metadata": {},
   "outputs": [
    {
     "name": "stdout",
     "output_type": "stream",
     "text": [
      "Help on method_descriptor:\n",
      "\n",
      "swapcase(self, /) unbound builtins.str method\n",
      "    Convert uppercase characters to lowercase and lowercase characters to uppercase.\n",
      "\n",
      "None\n"
     ]
    }
   ],
   "source": [
    "print(help(str.swapcase))"
   ]
  },
  {
   "cell_type": "code",
   "execution_count": 9,
   "id": "88f9d82e-27bb-4452-96d8-fd1c1109ff5c",
   "metadata": {},
   "outputs": [],
   "source": [
    "a=\"PyThOn\""
   ]
  },
  {
   "cell_type": "code",
   "execution_count": 10,
   "id": "b48265c1-ee16-4c6c-b890-928d21158dba",
   "metadata": {},
   "outputs": [
    {
     "data": {
      "text/plain": [
       "'pYtHoN'"
      ]
     },
     "execution_count": 10,
     "metadata": {},
     "output_type": "execute_result"
    }
   ],
   "source": [
    "a.swapcase()"
   ]
  },
  {
   "cell_type": "markdown",
   "id": "35f79f96-8d3a-4b04-9487-78710522106e",
   "metadata": {},
   "source": [
    "### casefold() ###"
   ]
  },
  {
   "cell_type": "code",
   "execution_count": 11,
   "id": "9a929a18-1ab7-4cc3-a215-0aa5deb743e6",
   "metadata": {},
   "outputs": [
    {
     "name": "stdout",
     "output_type": "stream",
     "text": [
      "Help on method_descriptor:\n",
      "\n",
      "casefold(self, /) unbound builtins.str method\n",
      "    Return a version of the string suitable for caseless comparisons.\n",
      "\n",
      "None\n"
     ]
    }
   ],
   "source": [
    "print(help(str.casefold))"
   ]
  },
  {
   "cell_type": "markdown",
   "id": "8b7fd223-fa0b-4827-aab0-180b7a58cc11",
   "metadata": {},
   "source": [
    "- The .casefold() method in Python is used to convert a string to lowercase in a way that's more aggressive than .lower(), making it ideal for case-insensitive comparisons, especially with international characters."
   ]
  },
  {
   "cell_type": "markdown",
   "id": "3a2f28ba-5eaf-425b-9c1f-d0dbe810ea4e",
   "metadata": {},
   "source": [
    "### Test quiz question ###"
   ]
  },
  {
   "cell_type": "code",
   "execution_count": 1,
   "id": "59269f28-5687-4168-8487-5ba935d6c48d",
   "metadata": {},
   "outputs": [],
   "source": [
    "p=\"abcdef\"\n"
   ]
  },
  {
   "cell_type": "code",
   "execution_count": 2,
   "id": "9b633ecd-1f76-4c42-a0ac-83c059477fea",
   "metadata": {},
   "outputs": [
    {
     "data": {
      "text/plain": [
       "'abcd'"
      ]
     },
     "execution_count": 2,
     "metadata": {},
     "output_type": "execute_result"
    }
   ],
   "source": [
    "p[:-2]"
   ]
  },
  {
   "cell_type": "code",
   "execution_count": 3,
   "id": "44fc6fb9-e8c3-4b8a-a7eb-87ffc745dc9a",
   "metadata": {},
   "outputs": [],
   "source": [
    "s=\"python\"\n"
   ]
  },
  {
   "cell_type": "code",
   "execution_count": 4,
   "id": "237817a5-5642-4f81-8846-d758955d7bc6",
   "metadata": {},
   "outputs": [
    {
     "name": "stdout",
     "output_type": "stream",
     "text": [
      "h\n"
     ]
    }
   ],
   "source": [
    "print(s[3])"
   ]
  },
  {
   "cell_type": "code",
   "execution_count": null,
   "id": "d6e9aa2c-a0d4-431e-a7d5-32a30e859304",
   "metadata": {},
   "outputs": [],
   "source": []
  }
 ],
 "metadata": {
  "kernelspec": {
   "display_name": "Python [conda env:base] *",
   "language": "python",
   "name": "conda-base-py"
  },
  "language_info": {
   "codemirror_mode": {
    "name": "ipython",
    "version": 3
   },
   "file_extension": ".py",
   "mimetype": "text/x-python",
   "name": "python",
   "nbconvert_exporter": "python",
   "pygments_lexer": "ipython3",
   "version": "3.13.5"
  }
 },
 "nbformat": 4,
 "nbformat_minor": 5
}
