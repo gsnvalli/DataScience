{
 "cells": [
  {
   "cell_type": "code",
   "execution_count": 1,
   "id": "6c0c2db1-8933-4e5c-a806-7f3f51aa6b14",
   "metadata": {},
   "outputs": [],
   "source": [
    "s1={1,2,3,'abc'}"
   ]
  },
  {
   "cell_type": "code",
   "execution_count": 2,
   "id": "41304fc9-3631-4900-b1e3-c1db50ac417f",
   "metadata": {},
   "outputs": [
    {
     "name": "stdout",
     "output_type": "stream",
     "text": [
      "{1, 2, 3, 'abc'}\n"
     ]
    }
   ],
   "source": [
    "print(s1)"
   ]
  },
  {
   "cell_type": "code",
   "execution_count": 4,
   "id": "76bdd726-1ed0-47fc-9982-aed898bf7a89",
   "metadata": {},
   "outputs": [],
   "source": [
    "s1.add('defg')"
   ]
  },
  {
   "cell_type": "code",
   "execution_count": 5,
   "id": "6966ca4b-22d0-4284-a98a-0544b20f925a",
   "metadata": {},
   "outputs": [
    {
     "name": "stdout",
     "output_type": "stream",
     "text": [
      "{1, 2, 3, 'defg', 'abc'}\n"
     ]
    }
   ],
   "source": [
    "print(s1)"
   ]
  },
  {
   "cell_type": "code",
   "execution_count": 6,
   "id": "5dc5019d-b6ba-4966-8172-fe5e4d979863",
   "metadata": {},
   "outputs": [],
   "source": [
    "#in the above we can't guarantee the value added in the end becoz the set is is unordered"
   ]
  },
  {
   "cell_type": "code",
   "execution_count": 7,
   "id": "19c8762e-b0c6-4d13-af5c-da529daeeaea",
   "metadata": {},
   "outputs": [],
   "source": [
    "s1.update(['ghi','jkl','mno'])"
   ]
  },
  {
   "cell_type": "code",
   "execution_count": 8,
   "id": "9173be38-ecc1-4bc5-b324-aec3695c39fa",
   "metadata": {},
   "outputs": [
    {
     "data": {
      "text/plain": [
       "{1, 2, 3, 'abc', 'defg', 'ghi', 'jkl', 'mno'}"
      ]
     },
     "execution_count": 8,
     "metadata": {},
     "output_type": "execute_result"
    }
   ],
   "source": [
    "s1"
   ]
  },
  {
   "cell_type": "code",
   "execution_count": 10,
   "id": "55b91787-2592-4b6c-8d7f-5fb04bd78410",
   "metadata": {},
   "outputs": [],
   "source": [
    "s1.update({'pqr','stu'})"
   ]
  },
  {
   "cell_type": "code",
   "execution_count": 11,
   "id": "0ca7e321-2769-4eb1-a1b4-9d1eaf3f0a56",
   "metadata": {},
   "outputs": [
    {
     "data": {
      "text/plain": [
       "{1, 2, 3, 'abc', 'defg', 'ghi', 'jkl', 'mno', 'pqr', 'stu'}"
      ]
     },
     "execution_count": 11,
     "metadata": {},
     "output_type": "execute_result"
    }
   ],
   "source": [
    "s1"
   ]
  },
  {
   "cell_type": "code",
   "execution_count": 12,
   "id": "e1fe1cef-1fd8-4ae0-89da-6aae39585084",
   "metadata": {},
   "outputs": [],
   "source": [
    "s1.update('ABC')"
   ]
  },
  {
   "cell_type": "code",
   "execution_count": 13,
   "id": "7312c80d-0dcc-4137-8332-d9e0ed4f00c8",
   "metadata": {},
   "outputs": [
    {
     "data": {
      "text/plain": [
       "{1, 2, 3, 'A', 'B', 'C', 'abc', 'defg', 'ghi', 'jkl', 'mno', 'pqr', 'stu'}"
      ]
     },
     "execution_count": 13,
     "metadata": {},
     "output_type": "execute_result"
    }
   ],
   "source": [
    "s1\n"
   ]
  },
  {
   "cell_type": "markdown",
   "id": "8a4511aa-3452-4cef-a6ab-3d2b0542aae2",
   "metadata": {},
   "source": [
    "# Dictionary"
   ]
  },
  {
   "cell_type": "markdown",
   "id": "ee236c24-992f-4e4b-b3b2-3bea6f15353e",
   "metadata": {},
   "source": [
    "- Dictionary is colllection of key and value pair.\n",
    "- its enclosed in {  }\n",
    "- {key1:value1,key2:value2,key3,value3}\n",
    "- Here no concept of index i.e address because we can get value by its key\n",
    "- "
   ]
  },
  {
   "cell_type": "code",
   "execution_count": 16,
   "id": "65730fe2-b9dd-4000-9d7d-fe1a6517d82e",
   "metadata": {},
   "outputs": [],
   "source": [
    "my_dict={'Name':'valli','age':31,'section':123}"
   ]
  },
  {
   "cell_type": "code",
   "execution_count": 17,
   "id": "fea8d6b6-6610-4d44-aaed-698fff6f16b6",
   "metadata": {},
   "outputs": [
    {
     "data": {
      "text/plain": [
       "{'Name': 'valli', 'age': 31, 'section': 123}"
      ]
     },
     "execution_count": 17,
     "metadata": {},
     "output_type": "execute_result"
    }
   ],
   "source": [
    "my_dict"
   ]
  },
  {
   "cell_type": "code",
   "execution_count": 18,
   "id": "7915b7f3-bd7b-4dc3-a1ab-edab500fe3d3",
   "metadata": {},
   "outputs": [
    {
     "data": {
      "text/plain": [
       "dict_keys(['Name', 'age', 'section'])"
      ]
     },
     "execution_count": 18,
     "metadata": {},
     "output_type": "execute_result"
    }
   ],
   "source": [
    "my_dict.keys()"
   ]
  },
  {
   "cell_type": "code",
   "execution_count": 19,
   "id": "533287fe-5227-4b19-b63c-1a4a65597ea6",
   "metadata": {},
   "outputs": [
    {
     "data": {
      "text/plain": [
       "dict_values(['valli', 31, 123])"
      ]
     },
     "execution_count": 19,
     "metadata": {},
     "output_type": "execute_result"
    }
   ],
   "source": [
    "my_dict.values()"
   ]
  },
  {
   "cell_type": "code",
   "execution_count": 20,
   "id": "c70ae471-96de-4692-be16-01fd518e807c",
   "metadata": {},
   "outputs": [
    {
     "data": {
      "text/plain": [
       "dict_items([('Name', 'valli'), ('age', 31), ('section', 123)])"
      ]
     },
     "execution_count": 20,
     "metadata": {},
     "output_type": "execute_result"
    }
   ],
   "source": [
    "my_dict.items()"
   ]
  },
  {
   "cell_type": "code",
   "execution_count": 21,
   "id": "ae925486-4db4-463d-a6fe-c96a27c7a47b",
   "metadata": {},
   "outputs": [],
   "source": [
    "# in the above the o/p is tuple"
   ]
  },
  {
   "cell_type": "code",
   "execution_count": 22,
   "id": "19373cdd-a679-458f-af53-23a6f290f971",
   "metadata": {},
   "outputs": [
    {
     "name": "stdout",
     "output_type": "stream",
     "text": [
      "('Name', 'valli')\n",
      "('age', 31)\n",
      "('section', 123)\n"
     ]
    }
   ],
   "source": [
    "for i in my_dict.items():\n",
    "    print(i)"
   ]
  },
  {
   "cell_type": "code",
   "execution_count": 24,
   "id": "24a9e123-b7e3-4f84-bdbc-ac464d29a23c",
   "metadata": {},
   "outputs": [
    {
     "data": {
      "text/plain": [
       "'valli'"
      ]
     },
     "execution_count": 24,
     "metadata": {},
     "output_type": "execute_result"
    }
   ],
   "source": [
    "my_dict['Name']"
   ]
  },
  {
   "cell_type": "markdown",
   "id": "037e99b6-4cd6-4a5e-8279-fdfd690c519c",
   "metadata": {},
   "source": [
    "#### get()"
   ]
  },
  {
   "cell_type": "code",
   "execution_count": 26,
   "id": "7092ddb1-dd3b-4c00-9f34-cd48b32a9916",
   "metadata": {},
   "outputs": [
    {
     "name": "stdout",
     "output_type": "stream",
     "text": [
      "Help on method_descriptor:\n",
      "\n",
      "get(self, key, default=None, /) unbound builtins.dict method\n",
      "    Return the value for key if key is in the dictionary, else default.\n",
      "\n",
      "None\n"
     ]
    }
   ],
   "source": [
    "print(help(dict.get))"
   ]
  },
  {
   "cell_type": "code",
   "execution_count": 29,
   "id": "d4cf1690-5524-421e-b8d1-5154a112c2c1",
   "metadata": {},
   "outputs": [],
   "source": [
    "my_dict.get('Marks')"
   ]
  },
  {
   "cell_type": "code",
   "execution_count": null,
   "id": "fb27e7a7-cc55-4841-86b7-5dbdf14c48b4",
   "metadata": {},
   "outputs": [],
   "source": [
    "my_dict.get('Marks',0)"
   ]
  },
  {
   "cell_type": "code",
   "execution_count": 63,
   "id": "fc9f3e67-644e-4530-b5e7-d12cce58f9fb",
   "metadata": {},
   "outputs": [],
   "source": [
    "my_dict={'Name':'valli','class':10,'section':'B','Marks':90}\n"
   ]
  },
  {
   "cell_type": "code",
   "execution_count": 64,
   "id": "f38458a7-3039-41ed-956c-71d183f087d7",
   "metadata": {},
   "outputs": [
    {
     "data": {
      "text/plain": [
       "{'Name': 'valli', 'class': 10, 'section': 'B', 'Marks': 90}"
      ]
     },
     "execution_count": 64,
     "metadata": {},
     "output_type": "execute_result"
    }
   ],
   "source": [
    "my_dict"
   ]
  },
  {
   "cell_type": "code",
   "execution_count": 32,
   "id": "37178291-f2aa-4250-9c16-f3bff3978c05",
   "metadata": {},
   "outputs": [
    {
     "data": {
      "text/plain": [
       "90"
      ]
     },
     "execution_count": 32,
     "metadata": {},
     "output_type": "execute_result"
    }
   ],
   "source": [
    "my_dict.get('Marks',0)"
   ]
  },
  {
   "cell_type": "code",
   "execution_count": 65,
   "id": "f6de9772-c43f-400f-aee3-f2fb0d1389d9",
   "metadata": {},
   "outputs": [],
   "source": [
    "my_dict['section']='B'"
   ]
  },
  {
   "cell_type": "code",
   "execution_count": 66,
   "id": "80b79d0a-4541-47c9-b18f-0b29560160f5",
   "metadata": {},
   "outputs": [
    {
     "data": {
      "text/plain": [
       "{'Name': 'valli', 'class': 10, 'section': 'B', 'Marks': 90}"
      ]
     },
     "execution_count": 66,
     "metadata": {},
     "output_type": "execute_result"
    }
   ],
   "source": [
    "my_dict"
   ]
  },
  {
   "cell_type": "markdown",
   "id": "cd843c76-866d-4628-b145-26a14f9eca59",
   "metadata": {},
   "source": [
    "### update()\n",
    "- to update more key value pairs"
   ]
  },
  {
   "cell_type": "code",
   "execution_count": 35,
   "id": "f54078c5-8d9f-4997-9080-46a4de86511e",
   "metadata": {},
   "outputs": [
    {
     "name": "stdout",
     "output_type": "stream",
     "text": [
      "Help on method_descriptor:\n",
      "\n",
      "update(...) unbound builtins.dict method\n",
      "    D.update([E, ]**F) -> None.  Update D from mapping/iterable E and F.\n",
      "    If E is present and has a .keys() method, then does:  for k in E.keys(): D[k] = E[k]\n",
      "    If E is present and lacks a .keys() method, then does:  for k, v in E: D[k] = v\n",
      "    In either case, this is followed by: for k in F:  D[k] = F[k]\n",
      "\n",
      "None\n"
     ]
    }
   ],
   "source": [
    "print(help(dict.update))"
   ]
  },
  {
   "cell_type": "code",
   "execution_count": 37,
   "id": "11a3d177-08d4-4bc8-9283-1bacf4537caa",
   "metadata": {},
   "outputs": [],
   "source": [
    "my_dict={'Name':'valli','class':10,'sectiom':'B','Marks':90}"
   ]
  },
  {
   "cell_type": "code",
   "execution_count": 38,
   "id": "4d273764-b24d-48e4-aa83-1162d4e7792a",
   "metadata": {},
   "outputs": [
    {
     "data": {
      "text/plain": [
       "{'Name': 'valli', 'class': 10, 'sectiom': 'B', 'Marks': 90}"
      ]
     },
     "execution_count": 38,
     "metadata": {},
     "output_type": "execute_result"
    }
   ],
   "source": [
    "my_dict"
   ]
  },
  {
   "cell_type": "code",
   "execution_count": 40,
   "id": "7dafb62d-22de-466e-a4fe-30a9c375d3bb",
   "metadata": {},
   "outputs": [],
   "source": [
    "my_dict.update({'Mobile no':7894561233,'school':'ABC'})"
   ]
  },
  {
   "cell_type": "code",
   "execution_count": 41,
   "id": "571301f5-bc54-48b2-9921-983dfaf2d44a",
   "metadata": {},
   "outputs": [
    {
     "data": {
      "text/plain": [
       "{'Name': 'valli',\n",
       " 'class': 10,\n",
       " 'sectiom': 'B',\n",
       " 'Marks': 90,\n",
       " 'Mobile no': 7894561233,\n",
       " 'school': 'ABC'}"
      ]
     },
     "execution_count": 41,
     "metadata": {},
     "output_type": "execute_result"
    }
   ],
   "source": [
    "my_dict"
   ]
  },
  {
   "cell_type": "code",
   "execution_count": 45,
   "id": "b033a939-e184-498d-bf15-6bf9f459c586",
   "metadata": {},
   "outputs": [
    {
     "data": {
      "text/plain": [
       "0"
      ]
     },
     "execution_count": 45,
     "metadata": {},
     "output_type": "execute_result"
    }
   ],
   "source": [
    "my_dict.pop(\"Mobile no\",0) # removes the value of key mobile no if its key is not there returns )"
   ]
  },
  {
   "cell_type": "code",
   "execution_count": 43,
   "id": "d429c46b-d4b0-48cf-862b-a50864800c1e",
   "metadata": {},
   "outputs": [
    {
     "data": {
      "text/plain": [
       "{'Name': 'valli', 'class': 10, 'sectiom': 'B', 'Marks': 90, 'school': 'ABC'}"
      ]
     },
     "execution_count": 43,
     "metadata": {},
     "output_type": "execute_result"
    }
   ],
   "source": [
    "my_dict"
   ]
  },
  {
   "cell_type": "code",
   "execution_count": 44,
   "id": "21ca9596-d1fd-463a-a97e-68ba9a7d6b0b",
   "metadata": {},
   "outputs": [
    {
     "data": {
      "text/plain": [
       "('school', 'ABC')"
      ]
     },
     "execution_count": 44,
     "metadata": {},
     "output_type": "execute_result"
    }
   ],
   "source": [
    "my_dict.popitem() #removes the last value of dictionary"
   ]
  },
  {
   "cell_type": "code",
   "execution_count": 46,
   "id": "4751abaf-e7dd-4bb7-a7b8-d4295244ff5d",
   "metadata": {},
   "outputs": [],
   "source": [
    "my_dict_copy=my_dict.copy()"
   ]
  },
  {
   "cell_type": "code",
   "execution_count": 47,
   "id": "ce617284-a13d-4a5b-985d-579cb32dbe82",
   "metadata": {},
   "outputs": [
    {
     "data": {
      "text/plain": [
       "{'Name': 'valli', 'class': 10, 'sectiom': 'B', 'Marks': 90}"
      ]
     },
     "execution_count": 47,
     "metadata": {},
     "output_type": "execute_result"
    }
   ],
   "source": [
    "my_dict_copy"
   ]
  },
  {
   "cell_type": "code",
   "execution_count": 48,
   "id": "227d7a0a-4d67-4a97-9ea4-df1de986b424",
   "metadata": {},
   "outputs": [],
   "source": [
    "my_dict_copy.clear()"
   ]
  },
  {
   "cell_type": "code",
   "execution_count": 49,
   "id": "c78f8113-499a-4eb8-a7ff-69510286d075",
   "metadata": {},
   "outputs": [
    {
     "data": {
      "text/plain": [
       "{}"
      ]
     },
     "execution_count": 49,
     "metadata": {},
     "output_type": "execute_result"
    }
   ],
   "source": [
    "my_dict_copy"
   ]
  },
  {
   "cell_type": "markdown",
   "id": "4a61bd6f-0935-4ac1-a8ab-87c1ff9754ae",
   "metadata": {},
   "source": [
    "### setdefault()\n",
    "- no need to explicity define and provide value\n",
    "- "
   ]
  },
  {
   "cell_type": "code",
   "execution_count": 50,
   "id": "136b559c-4cd8-4b54-851a-8961934a3a7f",
   "metadata": {},
   "outputs": [
    {
     "name": "stdout",
     "output_type": "stream",
     "text": [
      "Help on method_descriptor:\n",
      "\n",
      "setdefault(self, key, default=None, /) unbound builtins.dict method\n",
      "    Insert key with a value of default if key is not in the dictionary.\n",
      "\n",
      "    Return the value for key if key is in the dictionary, else default.\n",
      "\n",
      "None\n"
     ]
    }
   ],
   "source": [
    "print(help(dict.setdefault))"
   ]
  },
  {
   "cell_type": "code",
   "execution_count": 51,
   "id": "a3675cf4-11d6-434e-bb70-be0a79bc314e",
   "metadata": {},
   "outputs": [],
   "source": [
    "new_dict=dict.fromkeys(['Name','age','phone No'],0)"
   ]
  },
  {
   "cell_type": "code",
   "execution_count": 55,
   "id": "1a84a07a-1779-4271-b64e-8eeef49eb800",
   "metadata": {},
   "outputs": [
    {
     "data": {
      "text/plain": [
       "'India'"
      ]
     },
     "execution_count": 55,
     "metadata": {},
     "output_type": "execute_result"
    }
   ],
   "source": [
    "new_dict.setdefault('country','India')"
   ]
  },
  {
   "cell_type": "code",
   "execution_count": 56,
   "id": "35814227-68d5-4b80-a487-72eeb32acb49",
   "metadata": {},
   "outputs": [
    {
     "data": {
      "text/plain": [
       "{'Name': 0, 'age': 0, 'phone No': 0, 'country': 'India'}"
      ]
     },
     "execution_count": 56,
     "metadata": {},
     "output_type": "execute_result"
    }
   ],
   "source": [
    "new_dict"
   ]
  },
  {
   "cell_type": "code",
   "execution_count": 62,
   "id": "97a2619c-8617-4e66-9daf-ad7348ec4c30",
   "metadata": {},
   "outputs": [],
   "source": [
    "dict_values=[('First',1),('second',2),('third',3)]\n",
    "# need to create a list which has the internal values as tuple\n",
    "#where in tuple the first index is key and second index is  value "
   ]
  },
  {
   "cell_type": "code",
   "execution_count": 61,
   "id": "dc35f0dd-75e9-4c53-b536-79302b1e72ab",
   "metadata": {},
   "outputs": [
    {
     "data": {
      "text/plain": [
       "[('First', 1), ('second', 2), ('third', 3)]"
      ]
     },
     "execution_count": 61,
     "metadata": {},
     "output_type": "execute_result"
    }
   ],
   "source": [
    "dict_values"
   ]
  },
  {
   "cell_type": "code",
   "execution_count": null,
   "id": "3df0d262-8a50-4e6c-a38a-06500c31a46b",
   "metadata": {},
   "outputs": [],
   "source": []
  }
 ],
 "metadata": {
  "kernelspec": {
   "display_name": "Python [conda env:base] *",
   "language": "python",
   "name": "conda-base-py"
  },
  "language_info": {
   "codemirror_mode": {
    "name": "ipython",
    "version": 3
   },
   "file_extension": ".py",
   "mimetype": "text/x-python",
   "name": "python",
   "nbconvert_exporter": "python",
   "pygments_lexer": "ipython3",
   "version": "3.13.5"
  }
 },
 "nbformat": 4,
 "nbformat_minor": 5
}
