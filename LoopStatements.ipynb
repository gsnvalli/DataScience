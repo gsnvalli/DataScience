{
 "cells": [
  {
   "cell_type": "markdown",
   "id": "6217d14e-c99f-442a-82ef-d2004ab17081",
   "metadata": {},
   "source": [
    "## FOR loop\n",
    "- Iterative over a sequence such as a list,tuple,string,range"
   ]
  },
  {
   "cell_type": "code",
   "execution_count": 3,
   "id": "56fbfa1f-4148-491d-94a0-2a1d41ca3453",
   "metadata": {},
   "outputs": [
    {
     "name": "stdout",
     "output_type": "stream",
     "text": [
      "0\n",
      "1\n",
      "2\n",
      "3\n"
     ]
    }
   ],
   "source": [
    "n=4\n",
    "for i in range(0,n):\n",
    "    print(i)"
   ]
  },
  {
   "cell_type": "code",
   "execution_count": 4,
   "id": "1c6f326e-7e97-4782-87ba-79d3e094451e",
   "metadata": {},
   "outputs": [
    {
     "name": "stdout",
     "output_type": "stream",
     "text": [
      "greeks\n",
      "for\n",
      "python\n"
     ]
    }
   ],
   "source": [
    "list1=[\"greeks\",\"for\",\"python\"]\n",
    "for x in list1:\n",
    "    print(x)"
   ]
  },
  {
   "cell_type": "code",
   "execution_count": 5,
   "id": "c701d925-7263-4a0a-813d-a569c43cc142",
   "metadata": {},
   "outputs": [
    {
     "name": "stdout",
     "output_type": "stream",
     "text": [
      "we\n",
      "are\n",
      "learning\n",
      "python\n"
     ]
    }
   ],
   "source": [
    "tup=(\"we\",\"are\",\"learning\",\"python\")\n",
    "for x in tup:\n",
    "    print(x)"
   ]
  },
  {
   "cell_type": "code",
   "execution_count": 6,
   "id": "119f8400-1b79-4b58-9b06-862d6deaf3d4",
   "metadata": {},
   "outputs": [
    {
     "name": "stdout",
     "output_type": "stream",
     "text": [
      "a\n",
      "b\n",
      "c\n",
      "d\n"
     ]
    }
   ],
   "source": [
    "S=\"abcd\"\n",
    "for x in S:\n",
    "    print(x)"
   ]
  },
  {
   "cell_type": "code",
   "execution_count": 7,
   "id": "f9e1c480-3515-433e-9e27-7d01113458fe",
   "metadata": {},
   "outputs": [
    {
     "name": "stdout",
     "output_type": "stream",
     "text": [
      "greeks\n",
      "for\n",
      "python\n"
     ]
    }
   ],
   "source": [
    "list1=[\"greeks\",\"for\",\"python\"]\n",
    "for x in range(len(list1)):\n",
    "    print(list1[x])"
   ]
  },
  {
   "cell_type": "markdown",
   "id": "8b17c1da-8a75-4404-9493-cc052c307bef",
   "metadata": {},
   "source": [
    "## While loop\n",
    "- It is used to execute a block of code until the statement condition is true once its false its come out from loop\n",
    "- syntax:\n",
    "- while condition:\n",
    "-      block of code"
   ]
  },
  {
   "cell_type": "code",
   "execution_count": 8,
   "id": "9fd589b9-bfcf-4dfe-809f-766ffb83b580",
   "metadata": {},
   "outputs": [
    {
     "name": "stdout",
     "output_type": "stream",
     "text": [
      "hello world\n",
      "hello world\n",
      "hello world\n"
     ]
    }
   ],
   "source": [
    "x=0\n",
    "while(x<3):\n",
    "    x=x+1\n",
    "    print(\"hello world\")"
   ]
  },
  {
   "cell_type": "code",
   "execution_count": null,
   "id": "53e02d35-6817-43ab-a19c-a7f25efe5ad4",
   "metadata": {},
   "outputs": [],
   "source": [
    "while(True):  #if condition always true it means it will be infinite loop\n",
    "    print(\"hello world\") \n",
    "    "
   ]
  },
  {
   "cell_type": "markdown",
   "id": "0e492737-c072-4e1a-bdff-cb0a2d115421",
   "metadata": {},
   "source": [
    "## Nested loops\n",
    "- allows to use one loop inside another loop"
   ]
  },
  {
   "cell_type": "code",
   "execution_count": 11,
   "id": "882710e4-b17b-48e7-bc5f-3f848c275b9c",
   "metadata": {},
   "outputs": [
    {
     "name": "stdout",
     "output_type": "stream",
     "text": [
      "1 \n",
      "2 2 \n",
      "3 3 3 \n",
      "4 4 4 4 \n"
     ]
    }
   ],
   "source": [
    "for i in range(1,5):\n",
    "    for j in range(i):\n",
    "        print(i,end=' ') # end is for saying \"don't go to next line\"\n",
    "    print()"
   ]
  },
  {
   "cell_type": "code",
   "execution_count": 10,
   "id": "9ac3ca70-5fbf-4594-93ed-bb447a6beffc",
   "metadata": {},
   "outputs": [
    {
     "name": "stdout",
     "output_type": "stream",
     "text": [
      "1\n",
      "\n",
      "2\n",
      "2\n",
      "\n",
      "3\n",
      "3\n",
      "3\n",
      "\n",
      "4\n",
      "4\n",
      "4\n",
      "4\n",
      "\n"
     ]
    }
   ],
   "source": [
    "for i in range(1,5):\n",
    "    for j in range(i):\n",
    "        print(i) # without end=' ' \n",
    "    print()"
   ]
  },
  {
   "cell_type": "markdown",
   "id": "7257eb71-de42-4881-8f65-cc9ae6ecef8a",
   "metadata": {},
   "source": [
    "## Loop control statements\n",
    "- they r used to control the execution flow of program\n",
    "\n",
    "1.Continue statement\n",
    "  \n",
    "2.break statement\n",
    "\n",
    "3.pass statement"
   ]
  },
  {
   "cell_type": "markdown",
   "id": "826bac4e-635e-4c7d-b45a-4f51bd1162ba",
   "metadata": {},
   "source": [
    "1.**continue statement**: Return the ontrol to the beginning of the loop\n",
    "- It is used to skip any current ongoing iterations to bypass certain conditions\n",
    "2. **break statement**: Brings the control out of loop. It is used to exit the prematurely\n",
    "  \n",
    "3.**pass statement**: empty loops,functions etc"
   ]
  },
  {
   "cell_type": "code",
   "execution_count": 12,
   "id": "44eb4c56-edbe-4b26-b6de-cb26676cb030",
   "metadata": {},
   "outputs": [
    {
     "name": "stdout",
     "output_type": "stream",
     "text": [
      "current letter: y\n",
      "current letter: t\n",
      "current letter: h\n",
      "current letter: n\n",
      "current letter: r\n",
      "current letter: g\n",
      "current letter: r\n",
      "current letter: a\n",
      "current letter: m\n",
      "current letter: m\n",
      "current letter: i\n",
      "current letter: n\n",
      "current letter: g\n"
     ]
    }
   ],
   "source": [
    "for letter in \"pythonprogramming\":\n",
    "    if letter=='p' or letter=='o':\n",
    "        continue\n",
    "    print(\"current letter:\",letter)\n",
    "    "
   ]
  },
  {
   "cell_type": "code",
   "execution_count": 15,
   "id": "a7d71bb2-ac99-43db-b33b-207f8cca99b6",
   "metadata": {},
   "outputs": [
    {
     "name": "stdout",
     "output_type": "stream",
     "text": [
      "current letter: d\n",
      "current letter: a\n",
      "current letter: t\n",
      "current letter: a\n",
      "current letter: s\n"
     ]
    }
   ],
   "source": [
    "for letter in 'datascience':\n",
    "    if letter=='e' or letter=='c':\n",
    "        break\n",
    "    print(\"current letter:\",letter)"
   ]
  },
  {
   "cell_type": "code",
   "execution_count": 22,
   "id": "a02a2d17-e00b-4cc8-9d7a-27d0c73e0f88",
   "metadata": {},
   "outputs": [
    {
     "name": "stdout",
     "output_type": "stream",
     "text": [
      "current letter: c\n"
     ]
    }
   ],
   "source": [
    "for letter in 'datascience':\n",
    "    if letter=='e' or letter=='c':\n",
    "        break\n",
    "print(\"current letter:\",letter)"
   ]
  },
  {
   "cell_type": "code",
   "execution_count": 24,
   "id": "0ac42608-93ed-4366-9f54-274721109b17",
   "metadata": {},
   "outputs": [
    {
     "name": "stdout",
     "output_type": "stream",
     "text": [
      "current letter: d\n",
      "current letter: a\n",
      "current letter: t\n",
      "current letter: a\n",
      "current letter: s\n",
      "current letter: c\n",
      "current letter after break: c\n"
     ]
    }
   ],
   "source": [
    "for letter in 'datascience':\n",
    "    print(\"current letter:\",letter)\n",
    "    if letter=='e' or letter=='c':\n",
    "        break\n",
    "print(\"current letter after break:\",letter)"
   ]
  },
  {
   "cell_type": "markdown",
   "id": "f7be9c59-ca3d-46f4-a51a-99810f14c976",
   "metadata": {},
   "source": [
    "## Do while loop\n",
    "do:statements while(condition)\n",
    "\n"
   ]
  },
  {
   "cell_type": "code",
   "execution_count": 16,
   "id": "b3685794-3042-4098-a72e-2005d996f4df",
   "metadata": {},
   "outputs": [
    {
     "name": "stdout",
     "output_type": "stream",
     "text": [
      "printing the list items using while loop\n",
      "abc\n",
      "def\n",
      "bcd\n",
      "bsd\n"
     ]
    }
   ],
   "source": [
    "list1=[\"abc\",\"def\",\"bcd\",\"bsd\"]\n",
    "i=0\n",
    "print(\"printing the list items using while loop\")\n",
    "size=len(list1)\n",
    "while(i<size):\n",
    "    print(list1[i])\n",
    "    i=i+1"
   ]
  },
  {
   "cell_type": "code",
   "execution_count": 19,
   "id": "44b03e93-7263-4cd8-a6d4-ac4840326d0b",
   "metadata": {},
   "outputs": [
    {
     "name": "stdout",
     "output_type": "stream",
     "text": [
      "implement do while loop\n",
      "abc\n",
      "def\n",
      "bcd\n",
      "bsd\n"
     ]
    }
   ],
   "source": [
    "i=0\n",
    "print(\"implement do while loop\")\n",
    "while(True):\n",
    "    print(list1[i])\n",
    "    i=i+1\n",
    "    if(i<size and len(list1[i])<10):\n",
    "        continue\n",
    "    else:\n",
    "        break\n",
    "      "
   ]
  },
  {
   "cell_type": "code",
   "execution_count": 21,
   "id": "4efef639-e8d5-40a9-bbc1-c1cb319d611d",
   "metadata": {},
   "outputs": [
    {
     "name": "stdin",
     "output_type": "stream",
     "text": [
      "enter name: abc\n"
     ]
    },
    {
     "name": "stdout",
     "output_type": "stream",
     "text": [
      "too short\n"
     ]
    },
    {
     "name": "stdin",
     "output_type": "stream",
     "text": [
      "enter name: defg\n"
     ]
    },
    {
     "name": "stdout",
     "output_type": "stream",
     "text": [
      "too short\n"
     ]
    },
    {
     "name": "stdin",
     "output_type": "stream",
     "text": [
      "enter name: crtyugj\n"
     ]
    },
    {
     "name": "stdout",
     "output_type": "stream",
     "text": [
      "Accepted\n"
     ]
    }
   ],
   "source": [
    "while True:\n",
    "    username=input(\"enter name:\")\n",
    "    if len(username)>=5:\n",
    "        print(\"Accepted\")\n",
    "        break\n",
    "    else:\n",
    "        print(\"too short\")\n",
    "                   "
   ]
  },
  {
   "cell_type": "code",
   "execution_count": null,
   "id": "3b2e4240-9fc0-4b51-97f4-0013a5b02fd6",
   "metadata": {},
   "outputs": [],
   "source": [
    "# in the above eg it will ask the input until the condition(i.e length should be >=5) is true "
   ]
  },
  {
   "cell_type": "markdown",
   "id": "89f7d4ee-b87a-44c5-93ee-ceebf0f428a7",
   "metadata": {},
   "source": [
    "## write a program print until 5 once it reaches 5 break"
   ]
  },
  {
   "cell_type": "code",
   "execution_count": 26,
   "id": "d84064f3-5f92-4869-b513-c74f7a613529",
   "metadata": {},
   "outputs": [
    {
     "name": "stdout",
     "output_type": "stream",
     "text": [
      "1\n",
      "2\n",
      "3\n",
      "4\n"
     ]
    }
   ],
   "source": [
    "for i in range(1,11):\n",
    "    if i==5:\n",
    "        break\n",
    "    print(i)"
   ]
  },
  {
   "cell_type": "code",
   "execution_count": 27,
   "id": "70b60de4-058c-49bd-9eb1-9e595840c3cc",
   "metadata": {},
   "outputs": [
    {
     "name": "stdout",
     "output_type": "stream",
     "text": [
      "1\n",
      "2\n",
      "3\n",
      "4\n",
      "5\n"
     ]
    }
   ],
   "source": [
    "#if u want to print 5 then break\n",
    "for i in range(1,11):\n",
    "    print(i)\n",
    "    if i==5:\n",
    "        break"
   ]
  },
  {
   "cell_type": "code",
   "execution_count": 28,
   "id": "e108684f-3632-495c-b205-156c0bf0fc2d",
   "metadata": {},
   "outputs": [
    {
     "name": "stdout",
     "output_type": "stream",
     "text": [
      "1\n",
      "2\n",
      "3\n",
      "4\n",
      "6\n",
      "7\n",
      "8\n",
      "9\n",
      "10\n"
     ]
    }
   ],
   "source": [
    "#if u want to exclude 5 then \n",
    "for i in range(1,11):\n",
    "    if i==5:\n",
    "        continue\n",
    "    print(i)"
   ]
  },
  {
   "cell_type": "code",
   "execution_count": 29,
   "id": "d5fb7537-0527-4015-a137-442afd0bf175",
   "metadata": {},
   "outputs": [
    {
     "name": "stdout",
     "output_type": "stream",
     "text": [
      "1\n",
      "2\n",
      "4\n",
      "5\n",
      "7\n",
      "8\n",
      "10\n",
      "11\n",
      "13\n",
      "14\n",
      "16\n",
      "17\n",
      "19\n",
      "20\n"
     ]
    }
   ],
   "source": [
    "#skip multiples of 3\n",
    "for i in range(1,21):\n",
    "    if(i%3==0):\n",
    "        continue\n",
    "    print(i)\n"
   ]
  },
  {
   "cell_type": "code",
   "execution_count": 31,
   "id": "8fc4acd5-8d52-411d-afdb-ad1278940a61",
   "metadata": {},
   "outputs": [
    {
     "name": "stdout",
     "output_type": "stream",
     "text": [
      "2\n",
      "4\n",
      "6\n",
      "8\n",
      "10\n",
      "12\n",
      "14\n",
      "16\n",
      "18\n",
      "20\n",
      "22\n",
      "24\n",
      "26\n",
      "28\n",
      "30\n",
      "32\n",
      "34\n",
      "36\n",
      "38\n",
      "40\n",
      "42\n",
      "44\n",
      "46\n",
      "48\n",
      "50\n",
      "total even count: 25\n"
     ]
    }
   ],
   "source": [
    "#Even number counter\n",
    "#count and display how many even numbers\n",
    "count=0\n",
    "for i in range(1,51):\n",
    "    if i%2==0:\n",
    "        count+=1\n",
    "        print(i)\n",
    "print(\"total even count:\",count)"
   ]
  },
  {
   "cell_type": "markdown",
   "id": "fd1a5ddf-7a6e-4622-a49b-fbe5dba640b3",
   "metadata": {},
   "source": [
    "#### sum of positive no's\n",
    "#### ake 10 integersas input and calucates only positive integers sum"
   ]
  },
  {
   "cell_type": "code",
   "execution_count": 32,
   "id": "3087b9ac-6b62-4e9b-9a45-2e5cc1bdeaa3",
   "metadata": {},
   "outputs": [
    {
     "name": "stdin",
     "output_type": "stream",
     "text": [
      "enter a number 5\n",
      "enter a number -7\n",
      "enter a number 8\n",
      "enter a number 4\n",
      "enter a number -2\n",
      "enter a number 3\n",
      "enter a number 9\n",
      "enter a number -3\n",
      "enter a number 2\n",
      "enter a number 8\n"
     ]
    },
    {
     "name": "stdout",
     "output_type": "stream",
     "text": [
      "total: 39\n"
     ]
    }
   ],
   "source": [
    "#sum of positive no's\n",
    "#take 10 integersas input and calucates only positive integers sum\n",
    "total=0\n",
    "for i in range(10):\n",
    "    num=int(input(\"enter a number\"))\n",
    "    if num>0:\n",
    "        total=total+num\n",
    "print(\"total:\",total)"
   ]
  },
  {
   "cell_type": "markdown",
   "id": "f390248c-1658-423f-8c56-4ae1be1fa5d3",
   "metadata": {},
   "source": [
    "#### simple pass statement\n",
    "#### write a loop that goes through list of numbers\n",
    "#### use pass when no is negative and print only positive\n",
    "#### iterartive through list\n",
    "#### if the no is -ve then pass otherwise print no if its +ve"
   ]
  },
  {
   "cell_type": "code",
   "execution_count": 35,
   "id": "b117cd29-a67f-4d05-9e8a-0458418e2ed1",
   "metadata": {},
   "outputs": [
    {
     "name": "stdout",
     "output_type": "stream",
     "text": [
      "6\n",
      "5\n",
      "8\n"
     ]
    }
   ],
   "source": [
    "#simple pass statement\n",
    "#write a loop that goes through list of numbers\n",
    "#use pass when no is negative and print only positive\n",
    "#iterartive through list\n",
    "#if the no is -ve then pass otherwise print no if its +ve\n",
    "nums=[-3,-2,6,5,8,-9]\n",
    "for i in nums:\n",
    "    if i<0:\n",
    "        pass\n",
    "    else:\n",
    "        print(i)"
   ]
  },
  {
   "cell_type": "code",
   "execution_count": 36,
   "id": "64e4b46b-81f9-45c8-b584-84b4373f37d5",
   "metadata": {},
   "outputs": [
    {
     "name": "stdout",
     "output_type": "stream",
     "text": [
      "-3\n",
      "-2\n",
      "-9\n"
     ]
    }
   ],
   "source": [
    "nums=[-3,-2,6,5,8,-9]\n",
    "for i in nums:\n",
    "    if i>=0:\n",
    "        pass\n",
    "    else:\n",
    "        print(i)"
   ]
  },
  {
   "cell_type": "markdown",
   "id": "2fd12387-4757-4867-9ca9-c62b0e1b71c0",
   "metadata": {},
   "source": [
    "### Find first multiple of 7 grater than 50\n",
    "### use a while loop to find and print the first greater that 50 and is divisible by 7"
   ]
  },
  {
   "cell_type": "code",
   "execution_count": 37,
   "id": "7d618771-de8d-4cf7-be62-fc8d28cc742f",
   "metadata": {},
   "outputs": [
    {
     "name": "stdout",
     "output_type": "stream",
     "text": [
      "56\n"
     ]
    }
   ],
   "source": [
    "#Find first multiple of 7 grater than 50\n",
    "#use a while loop to find and print the first greater that 50 and is divisible by 7\n",
    "num=51\n",
    "while True:\n",
    "    if(num%7==0):\n",
    "        print(num)\n",
    "        break\n",
    "    num+=1"
   ]
  },
  {
   "cell_type": "markdown",
   "id": "774dfb51-296d-425d-9c50-6241082c5584",
   "metadata": {},
   "source": [
    "### given a list of integers ask the user for a number and check if its exist or nor\n",
    "### if found print \"found\" and break the loop\n",
    "### if not found print \"Not found\" after the loop ends\n"
   ]
  },
  {
   "cell_type": "code",
   "execution_count": 39,
   "id": "0bd03eb7-6406-473d-8956-8b5ea7e69740",
   "metadata": {},
   "outputs": [
    {
     "name": "stdin",
     "output_type": "stream",
     "text": [
      "enter a number 8\n"
     ]
    },
    {
     "name": "stdout",
     "output_type": "stream",
     "text": [
      "not found\n",
      "not found\n",
      "not found\n",
      "not found\n",
      "not found\n"
     ]
    }
   ],
   "source": [
    "# given a list of integers ask the user for a number and check if its exist or nor\n",
    "#if found print \"found\" and break the loop\n",
    "#if not found print \"Not found\" after the loop ends\n",
    "numbers=[2,4,6,9,10]\n",
    "target=int(input(\"enter a number\"))\n",
    "for i in numbers:\n",
    "    if(i==target):\n",
    "        print(\"found\")\n",
    "        break\n",
    "    else:\n",
    "        print(\"not found\")\n",
    "    "
   ]
  },
  {
   "cell_type": "markdown",
   "id": "e6f1e03c-2fdd-45c3-b779-5b9aca16033e",
   "metadata": {},
   "source": [
    "### continuously take numbers as input from user and then add them\n",
    "### stop taking input (using break) when the user enters 0 then print sum"
   ]
  },
  {
   "cell_type": "code",
   "execution_count": 40,
   "id": "40758fdf-7c7c-4bf4-8c65-b9fc67e1fa71",
   "metadata": {},
   "outputs": [
    {
     "name": "stdin",
     "output_type": "stream",
     "text": [
      "enter a number 5\n",
      "enter a number 6\n",
      "enter a number 0\n"
     ]
    },
    {
     "name": "stdout",
     "output_type": "stream",
     "text": [
      "sum 11\n"
     ]
    }
   ],
   "source": [
    "#continuously take numbers as input from user and then add them\n",
    "#stop taking input (using break) when the user enters 0 then print sum\n",
    "sum=0\n",
    "while True:\n",
    "    num=int(input(\"enter a number\"))\n",
    "    if(num==0):\n",
    "        break\n",
    "    else:\n",
    "        sum=sum+num\n",
    "print(\"sum\",sum)\n",
    "        "
   ]
  },
  {
   "cell_type": "markdown",
   "id": "2f5e1b8a-c607-4c4b-a5db-018edda15853",
   "metadata": {},
   "source": [
    "### Skip Vowels\n",
    "### Take a string as input and print all characters except vowels using a for loop and continue"
   ]
  },
  {
   "cell_type": "code",
   "execution_count": 41,
   "id": "995deea6-c147-46da-8b83-1f272ab5e603",
   "metadata": {},
   "outputs": [
    {
     "name": "stdin",
     "output_type": "stream",
     "text": [
      "enter a string: python\n"
     ]
    },
    {
     "name": "stdout",
     "output_type": "stream",
     "text": [
      "p y t h n "
     ]
    }
   ],
   "source": [
    "#Skip Vowels\n",
    "# Take a string as input and print all characters except vowels using a for loop and continue\n",
    "text=input(\"enter a string:\")\n",
    "vowels=\"aeiouAEIOU\"\n",
    "for ch in text:\n",
    "    if ch in vowels:\n",
    "        continue\n",
    "    print(ch,end=' ')\n",
    "    "
   ]
  },
  {
   "cell_type": "markdown",
   "id": "a75617e4-8865-4ee2-9173-7d7ad0502b13",
   "metadata": {},
   "source": [
    "### prime number check\n",
    "### use a loop to check if given no is prime\n",
    "###  if divisor is found, break the early"
   ]
  },
  {
   "cell_type": "code",
   "execution_count": 44,
   "id": "84e1469d-99f4-4761-8fb6-25dd56c8de17",
   "metadata": {},
   "outputs": [
    {
     "name": "stdin",
     "output_type": "stream",
     "text": [
      "enter a number 2\n"
     ]
    },
    {
     "name": "stdout",
     "output_type": "stream",
     "text": [
      "prime\n"
     ]
    }
   ],
   "source": [
    "#prime number check\n",
    "#use a loop to check if given no is prime\n",
    "#if divisor is found, break the early\n",
    "num=int(input(\"enter a number\"))\n",
    "is_prime=True\n",
    "for i in range(2,num):\n",
    "    if(num%i==0):\n",
    "        is_prime=False\n",
    "        break\n",
    "if is_prime:\n",
    "    print(\"prime\")\n",
    "else:\n",
    "    print(\"not prime\")\n",
    "    "
   ]
  },
  {
   "cell_type": "markdown",
   "id": "d4a30a54-d1cf-4e4a-8710-abf44b094389",
   "metadata": {},
   "source": [
    "### Nested loops with control\n",
    "### print pattern of * using nested loops,but skip pring stars in the diagnol using continue"
   ]
  },
  {
   "cell_type": "code",
   "execution_count": 46,
   "id": "450df8c6-72e2-4200-b3c6-708a3af86fe6",
   "metadata": {},
   "outputs": [
    {
     "name": "stdout",
     "output_type": "stream",
     "text": [
      "* * * * \n",
      "* * * * \n",
      "* * * * \n",
      "* * * * \n",
      "* * * * \n"
     ]
    }
   ],
   "source": [
    "#Nested loops with control\n",
    "#print pattern of * using nested loops,but skip pring stars in the diagnol using continue\n",
    "rows=5\n",
    "for i in range(rows):\n",
    "    for j in range(rows):\n",
    "        if i==j: #the diagnol postions are (0,0),(1,1),(2,2),(3,3),(4,4),(5,5)\n",
    "            continue\n",
    "        print(\"*\",end=\" \")\n",
    "    print()\n",
    "\n"
   ]
  },
  {
   "cell_type": "code",
   "execution_count": 47,
   "id": "a4fab225-86af-419a-8571-1358dadfc32f",
   "metadata": {},
   "outputs": [
    {
     "name": "stdout",
     "output_type": "stream",
     "text": [
      "  * * * * \n",
      "*   * * * \n",
      "* *   * * \n",
      "* * *   * \n",
      "* * * *   \n"
     ]
    }
   ],
   "source": [
    "rows=5\n",
    "for i in range(rows):\n",
    "    for j in range(rows):\n",
    "        if i==j: #the diagnol postions are (0,0),(1,1),(2,2),(3,3),(4,4),(5,5)\n",
    "            print(\" \",end=\" \")\n",
    "            continue\n",
    "        print(\"*\",end=\" \")\n",
    "    print()"
   ]
  },
  {
   "cell_type": "code",
   "execution_count": 48,
   "id": "15d6f65b-8917-4c6d-b454-ce5df938c653",
   "metadata": {},
   "outputs": [
    {
     "name": "stdin",
     "output_type": "stream",
     "text": [
      "enter how many rows need to printed *: 6\n"
     ]
    },
    {
     "name": "stdout",
     "output_type": "stream",
     "text": [
      "* \n",
      "* * \n",
      "* * * \n",
      "* * * * \n",
      "* * * * * \n",
      "* * * * * * \n"
     ]
    }
   ],
   "source": [
    "rows=int(input(\"enter how many rows need to printed *:\"))\n",
    "for i in range(1,rows+1): #outer loop for rows\n",
    "    for j in range(i):#inner loop \n",
    "        print('*',end=' ') #print stars with space\n",
    "    print() #move to next line\n",
    "    "
   ]
  },
  {
   "cell_type": "code",
   "execution_count": 50,
   "id": "87269c71-3c7c-45c0-a22d-a0da5d4f87cf",
   "metadata": {},
   "outputs": [
    {
     "name": "stdin",
     "output_type": "stream",
     "text": [
      "enter how many rows need to printed *: 5\n"
     ]
    },
    {
     "name": "stdout",
     "output_type": "stream",
     "text": [
      "* * * * * \n",
      "* * * * \n",
      "* * * \n",
      "* * \n",
      "* \n"
     ]
    }
   ],
   "source": [
    "rows=int(input(\"enter how many rows need to printed *:\"))\n",
    "for i in range(rows,0,-1): #outer loop for rows\n",
    "    for j in range(i): #inner loop \n",
    "        print('*',end=' ') #print stars with space\n",
    "    print() #move to next line"
   ]
  },
  {
   "cell_type": "code",
   "execution_count": 67,
   "id": "b80837ad-c979-4d8f-b387-f1e531253814",
   "metadata": {},
   "outputs": [
    {
     "name": "stdin",
     "output_type": "stream",
     "text": [
      "enter how many rows need to printed *: 5\n"
     ]
    },
    {
     "name": "stdout",
     "output_type": "stream",
     "text": [
      "     * \n",
      "    * * \n",
      "   * * * \n",
      "  * * * * \n",
      " * * * * * \n"
     ]
    }
   ],
   "source": [
    "rows=int(input(\"enter how many rows need to printed *:\"))\n",
    "for i in range(1,rows+1):\n",
    "    print(' '*(rows-i),end=' ')\n",
    "    print('* '*i)\n",
    "    \n",
    "    "
   ]
  },
  {
   "cell_type": "code",
   "execution_count": 57,
   "id": "a87bcdea-fcac-423c-9b32-8163b87fd2af",
   "metadata": {},
   "outputs": [
    {
     "name": "stdin",
     "output_type": "stream",
     "text": [
      "enter how many rows need to printed *: 5\n"
     ]
    },
    {
     "name": "stdout",
     "output_type": "stream",
     "text": [
      "    * \n",
      "   * * \n",
      "  * * * \n",
      " * * * * \n",
      "* * * * * \n"
     ]
    }
   ],
   "source": [
    "rows=int(input(\"enter how many rows need to printed *:\"))\n",
    "for i in range(1,rows+1):\n",
    "    print(' ' * (rows - i), end='')\n",
    "    print('* ' * i)"
   ]
  },
  {
   "cell_type": "code",
   "execution_count": 63,
   "id": "997c042f-c849-4504-b9fb-958c482905b2",
   "metadata": {},
   "outputs": [
    {
     "name": "stdout",
     "output_type": "stream",
     "text": [
      "* * * * \n",
      "  * * * \n",
      "    * * \n",
      "      * \n"
     ]
    }
   ],
   "source": [
    "for i in range(rows,0,-1):\n",
    "    for s in range(rows-i):\n",
    "        print(\" \",end=\" \")\n",
    "    for j in range(i):\n",
    "        print(\"*\",end=\" \")\n",
    "    print()"
   ]
  },
  {
   "cell_type": "code",
   "execution_count": 60,
   "id": "f9f1c482-007e-4dc2-b461-80bc63fabf96",
   "metadata": {},
   "outputs": [
    {
     "name": "stdout",
     "output_type": "stream",
     "text": [
      "1 \n",
      "1 2 \n",
      "1 2 3 \n",
      "1 2 3 4 \n",
      "1 2 3 4 5 \n"
     ]
    }
   ],
   "source": [
    "rows=5\n",
    "for i in range(1,rows+1):\n",
    "    for j in range(1,i+1):\n",
    "        print(j,end=\" \")\n",
    "    print()\n"
   ]
  },
  {
   "cell_type": "code",
   "execution_count": 61,
   "id": "bc976531-b4e8-4b81-ae92-a9beca0a764a",
   "metadata": {},
   "outputs": [
    {
     "name": "stdout",
     "output_type": "stream",
     "text": [
      "1 \n",
      "2 3 \n",
      "4 5 6 \n",
      "7 8 9 10 \n"
     ]
    }
   ],
   "source": [
    "rows=4\n",
    "count=1\n",
    "for i in range(1,rows+1):\n",
    "    for j in range(i):\n",
    "        print(count,end=\" \")\n",
    "        count+=1\n",
    "    print()\n"
   ]
  },
  {
   "cell_type": "code",
   "execution_count": 66,
   "id": "62836580-d726-4d77-b1f5-0dc564995467",
   "metadata": {},
   "outputs": [
    {
     "name": "stdout",
     "output_type": "stream",
     "text": [
      "    * \n",
      "   * * \n",
      "  * * * \n",
      " * * * * \n",
      "* * * * * \n",
      " * * * * \n",
      "  * * * \n",
      "   * * \n",
      "    * \n"
     ]
    }
   ],
   "source": [
    "#diamond pattern\n",
    "rows=5\n",
    "for i in range(rows):\n",
    "    print(\" \"*(rows-i-1)+\"* \"*(i+1))\n",
    "for i in range(rows-2,-1,-1):\n",
    "    print(\" \"*(rows-i-1)+\"* \"*(i+1))\n"
   ]
  },
  {
   "cell_type": "code",
   "execution_count": 75,
   "id": "3de0f082-0bf3-4582-b7a6-7f66803ac506",
   "metadata": {},
   "outputs": [
    {
     "name": "stdout",
     "output_type": "stream",
     "text": [
      "1 2 3 4 5 \n",
      "1 2 3 4 \n",
      "1 2 3 \n",
      "1 2 \n",
      "1 \n"
     ]
    }
   ],
   "source": [
    "rows=5\n",
    "for i in range(rows,0,-1):\n",
    "    for j in range(1,i+1):\n",
    "        print(j,end=\" \")\n",
    "    print()"
   ]
  },
  {
   "cell_type": "code",
   "execution_count": 83,
   "id": "0150ed49-f2db-4105-89aa-92531cfb23b8",
   "metadata": {},
   "outputs": [
    {
     "ename": "SyntaxError",
     "evalue": "invalid non-printable character U+00A0 (1656866311.py, line 6)",
     "output_type": "error",
     "traceback": [
      "\u001b[1;36m  Cell \u001b[1;32mIn[83], line 6\u001b[1;36m\u001b[0m\n\u001b[1;33m    count+=1\u001b[0m\n\u001b[1;37m    ^\u001b[0m\n\u001b[1;31mSyntaxError\u001b[0m\u001b[1;31m:\u001b[0m invalid non-printable character U+00A0\n"
     ]
    }
   ],
   "source": [
    "row = 5\n",
    "count = 1\n",
    "for i in range(row, 0, -1):\n",
    "    for j in range(i):\n",
    "        print(count,end=\" \")\n",
    "        count+=1\n",
    "    print()"
   ]
  },
  {
   "cell_type": "markdown",
   "id": "e8a980ff-8b91-40b4-a7dd-02784f6f3e12",
   "metadata": {},
   "source": [
    "# Assistant\n",
    "The error occurs because there's an invalid non-printable character (specifically U+00A0, which is a non-breaking space) in your code. These characters are often invisible but can cause syntax errors.\n",
    "\n",
    "Would you like me to provide the corrected code?"
   ]
  },
  {
   "cell_type": "markdown",
   "id": "ffc614da-c327-41a8-bf5f-3b3de7762f93",
   "metadata": {},
   "source": [
    "# User\n",
    "yes"
   ]
  },
  {
   "cell_type": "code",
   "execution_count": 77,
   "id": "7ce681f2-9dc4-4632-a8c3-768052894891",
   "metadata": {},
   "outputs": [
    {
     "name": "stdout",
     "output_type": "stream",
     "text": [
      "1 2 3 4 5 \n",
      "6 7 8 9 \n",
      "10 11 12 \n",
      "13 14 \n",
      "15 \n"
     ]
    }
   ],
   "source": [
    "# Assistant\n",
    "row = 5\n",
    "count = 1\n",
    "for i in range(row, 0, -1):\n",
    "    for j in range(i):\n",
    "        print(count, end=\" \")\n",
    "        count += 1\n",
    "    print()"
   ]
  },
  {
   "cell_type": "markdown",
   "id": "62437a95-21a2-4a77-81ba-f6df967dc915",
   "metadata": {},
   "source": [
    "\n",
    "I've fixed the code by:\n",
    "1. Removing the non-breaking space character (U+00A0) that was causing the syntax error\n",
    "2. Ensuring proper indentation with regular spaces\n",
    "3. Adding proper spacing around operators (e.g., `count = 1` instead of `count= 1`)\n",
    "4. Using regular spaces in the `print(count, end=\" \")` statement\n",
    "\n",
    "The code will now print a pattern of numbers in decreasing row lengths."
   ]
  },
  {
   "cell_type": "code",
   "execution_count": null,
   "id": "635e255f-cc6a-41be-be30-097756f63b46",
   "metadata": {},
   "outputs": [],
   "source": []
  }
 ],
 "metadata": {
  "kernelspec": {
   "display_name": "Python [conda env:base] *",
   "language": "python",
   "name": "conda-base-py"
  },
  "language_info": {
   "codemirror_mode": {
    "name": "ipython",
    "version": 3
   },
   "file_extension": ".py",
   "mimetype": "text/x-python",
   "name": "python",
   "nbconvert_exporter": "python",
   "pygments_lexer": "ipython3",
   "version": "3.13.5"
  }
 },
 "nbformat": 4,
 "nbformat_minor": 5
}
